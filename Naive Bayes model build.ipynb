{
 "cells": [
  {
   "cell_type": "code",
   "execution_count": 204,
   "metadata": {
    "collapsed": true
   },
   "outputs": [],
   "source": [
    "%matplotlib inline\n",
    "import numpy as np\n",
    "import pandas as pd\n",
    "import scipy\n",
    "import sklearn\n",
    "import matplotlib.pyplot as plt\n",
    "import seaborn as sns\n",
    "import operator\n",
    "from sklearn.naive_bayes import BernoulliNB\n",
    "from sklearn.metrics import confusion_matrix"
   ]
  },
  {
   "cell_type": "code",
   "execution_count": 205,
   "metadata": {
    "collapsed": true
   },
   "outputs": [],
   "source": [
    "# Reading through the IMDB data to see what peoples feelings were towards movies\n",
    "data = pd.read_csv('imdb_labelled.txt', delimiter = '\\t', header = None)\n",
    "data.columns = ['message', 'rating']"
   ]
  },
  {
   "cell_type": "code",
   "execution_count": 206,
   "metadata": {},
   "outputs": [
    {
     "data": {
      "text/html": [
       "<div>\n",
       "<table border=\"1\" class=\"dataframe\">\n",
       "  <thead>\n",
       "    <tr style=\"text-align: right;\">\n",
       "      <th></th>\n",
       "      <th>message</th>\n",
       "      <th>rating</th>\n",
       "    </tr>\n",
       "  </thead>\n",
       "  <tbody>\n",
       "    <tr>\n",
       "      <th>0</th>\n",
       "      <td>A very, very, very slow-moving, aimless movie ...</td>\n",
       "      <td>0</td>\n",
       "    </tr>\n",
       "    <tr>\n",
       "      <th>1</th>\n",
       "      <td>Not sure who was more lost - the flat characte...</td>\n",
       "      <td>0</td>\n",
       "    </tr>\n",
       "    <tr>\n",
       "      <th>2</th>\n",
       "      <td>Attempting artiness with black &amp; white and cle...</td>\n",
       "      <td>0</td>\n",
       "    </tr>\n",
       "    <tr>\n",
       "      <th>3</th>\n",
       "      <td>Very little music or anything to speak of.</td>\n",
       "      <td>0</td>\n",
       "    </tr>\n",
       "    <tr>\n",
       "      <th>4</th>\n",
       "      <td>The best scene in the movie was when Gerardo i...</td>\n",
       "      <td>1</td>\n",
       "    </tr>\n",
       "  </tbody>\n",
       "</table>\n",
       "</div>"
      ],
      "text/plain": [
       "                                             message  rating\n",
       "0  A very, very, very slow-moving, aimless movie ...       0\n",
       "1  Not sure who was more lost - the flat characte...       0\n",
       "2  Attempting artiness with black & white and cle...       0\n",
       "3       Very little music or anything to speak of.         0\n",
       "4  The best scene in the movie was when Gerardo i...       1"
      ]
     },
     "execution_count": 206,
     "metadata": {},
     "output_type": "execute_result"
    }
   ],
   "source": [
    "data.head() # I have to recode the above lines after every holdout since it doesn't seem to\n",
    "#keep the 'data' variable clean after coding one. We should talk about why."
   ]
  },
  {
   "cell_type": "code",
   "execution_count": 207,
   "metadata": {
    "collapsed": true
   },
   "outputs": [],
   "source": [
    "# building separate dataframes from the positive and negative reviews\n",
    "pos_data = data[data['rating'] == 1]['message'].reset_index(drop = True)\n",
    "neg_data = data[data['rating'] == 0]['message'].reset_index(drop = True)"
   ]
  },
  {
   "cell_type": "code",
   "execution_count": 208,
   "metadata": {
    "collapsed": true
   },
   "outputs": [],
   "source": [
    "#building dictionaries to find the most common words for each review type\n",
    "pos_dict = {}\n",
    "neg_dict = {}\n",
    "for i in pos_data:\n",
    "    sen = str(i).lower().split(' ')\n",
    "    for word in sen:\n",
    "        if word not in pos_dict:\n",
    "            pos_dict[word] = 1\n",
    "        else:\n",
    "            pos_dict[word] += 1            \n",
    "\n",
    "for i in neg_data:\n",
    "    sen = str(i).lower().split(' ')\n",
    "    for word in sen:\n",
    "        if word not in neg_dict:\n",
    "            neg_dict[word] = 1\n",
    "        else:\n",
    "            neg_dict[word] += 1\n",
    "            "
   ]
  },
  {
   "cell_type": "code",
   "execution_count": 209,
   "metadata": {
    "collapsed": true
   },
   "outputs": [],
   "source": [
    "sorted_pos_dict = sorted(pos_dict.items(), key=operator.itemgetter(1), reverse = True)\n",
    "sorted_neg_dict = sorted(neg_dict.items(), key=operator.itemgetter(1), reverse = True)"
   ]
  },
  {
   "cell_type": "code",
   "execution_count": 210,
   "metadata": {
    "collapsed": true
   },
   "outputs": [],
   "source": [
    "df_pos = pd.DataFrame(sorted_pos_dict)\n",
    "df_pos.columns = ['word', 'count']\n",
    "df_neg = pd.DataFrame(sorted_neg_dict)\n",
    "df_neg.columns = ['word', 'count']"
   ]
  },
  {
   "cell_type": "code",
   "execution_count": 211,
   "metadata": {
    "collapsed": true
   },
   "outputs": [],
   "source": [
    "#merging positive and negative lists to get counts for each\n",
    "posneg_df = pd.merge(df_pos, df_neg, on='word', how='outer')\n",
    "posneg_df.columns = ['word', 'positive', 'negative']\n",
    "\n",
    "#building a dataframe that calculates absolute difference in word appearance counts\n",
    "posneg_df['straight difference'] = abs(posneg_df.positive - posneg_df.negative)\n",
    "\n",
    "#dataframe that calculates ratio difference\n",
    "posneg_df['ratio difference'] = abs((posneg_df.negative / (posneg_df.positive + posneg_df.negative)))"
   ]
  },
  {
   "cell_type": "code",
   "execution_count": 212,
   "metadata": {
    "scrolled": true
   },
   "outputs": [
    {
     "data": {
      "text/html": [
       "<div>\n",
       "<table border=\"1\" class=\"dataframe\">\n",
       "  <thead>\n",
       "    <tr style=\"text-align: right;\">\n",
       "      <th></th>\n",
       "      <th>word</th>\n",
       "      <th>positive</th>\n",
       "      <th>negative</th>\n",
       "      <th>straight difference</th>\n",
       "      <th>ratio difference</th>\n",
       "    </tr>\n",
       "  </thead>\n",
       "  <tbody>\n",
       "    <tr>\n",
       "      <th>0</th>\n",
       "      <td></td>\n",
       "      <td>842.0</td>\n",
       "      <td>910.0</td>\n",
       "      <td>68.0</td>\n",
       "      <td>0.519406</td>\n",
       "    </tr>\n",
       "    <tr>\n",
       "      <th>1</th>\n",
       "      <td>the</td>\n",
       "      <td>388.0</td>\n",
       "      <td>407.0</td>\n",
       "      <td>19.0</td>\n",
       "      <td>0.511950</td>\n",
       "    </tr>\n",
       "    <tr>\n",
       "      <th>2</th>\n",
       "      <td>and</td>\n",
       "      <td>249.0</td>\n",
       "      <td>170.0</td>\n",
       "      <td>79.0</td>\n",
       "      <td>0.405728</td>\n",
       "    </tr>\n",
       "    <tr>\n",
       "      <th>3</th>\n",
       "      <td>a</td>\n",
       "      <td>227.0</td>\n",
       "      <td>200.0</td>\n",
       "      <td>27.0</td>\n",
       "      <td>0.468384</td>\n",
       "    </tr>\n",
       "    <tr>\n",
       "      <th>4</th>\n",
       "      <td>of</td>\n",
       "      <td>184.0</td>\n",
       "      <td>189.0</td>\n",
       "      <td>5.0</td>\n",
       "      <td>0.506702</td>\n",
       "    </tr>\n",
       "  </tbody>\n",
       "</table>\n",
       "</div>"
      ],
      "text/plain": [
       "  word  positive  negative  straight difference  ratio difference\n",
       "0          842.0     910.0                 68.0          0.519406\n",
       "1  the     388.0     407.0                 19.0          0.511950\n",
       "2  and     249.0     170.0                 79.0          0.405728\n",
       "3    a     227.0     200.0                 27.0          0.468384\n",
       "4   of     184.0     189.0                  5.0          0.506702"
      ]
     },
     "execution_count": 212,
     "metadata": {},
     "output_type": "execute_result"
    }
   ],
   "source": [
    "posneg_df.head()"
   ]
  },
  {
   "cell_type": "code",
   "execution_count": 213,
   "metadata": {
    "scrolled": true
   },
   "outputs": [
    {
     "data": {
      "text/html": [
       "<div>\n",
       "<table border=\"1\" class=\"dataframe\">\n",
       "  <thead>\n",
       "    <tr style=\"text-align: right;\">\n",
       "      <th></th>\n",
       "      <th>word</th>\n",
       "      <th>positive</th>\n",
       "      <th>negative</th>\n",
       "      <th>straight difference</th>\n",
       "      <th>ratio difference</th>\n",
       "    </tr>\n",
       "  </thead>\n",
       "  <tbody>\n",
       "    <tr>\n",
       "      <th>158</th>\n",
       "      <td>scenes</td>\n",
       "      <td>6.0</td>\n",
       "      <td>9.0</td>\n",
       "      <td>3.0</td>\n",
       "      <td>0.600000</td>\n",
       "    </tr>\n",
       "    <tr>\n",
       "      <th>113</th>\n",
       "      <td>films</td>\n",
       "      <td>8.0</td>\n",
       "      <td>9.0</td>\n",
       "      <td>1.0</td>\n",
       "      <td>0.529412</td>\n",
       "    </tr>\n",
       "    <tr>\n",
       "      <th>51</th>\n",
       "      <td>when</td>\n",
       "      <td>16.0</td>\n",
       "      <td>9.0</td>\n",
       "      <td>7.0</td>\n",
       "      <td>0.360000</td>\n",
       "    </tr>\n",
       "    <tr>\n",
       "      <th>68</th>\n",
       "      <td>movies</td>\n",
       "      <td>12.0</td>\n",
       "      <td>9.0</td>\n",
       "      <td>3.0</td>\n",
       "      <td>0.428571</td>\n",
       "    </tr>\n",
       "    <tr>\n",
       "      <th>58</th>\n",
       "      <td>its</td>\n",
       "      <td>14.0</td>\n",
       "      <td>9.0</td>\n",
       "      <td>5.0</td>\n",
       "      <td>0.391304</td>\n",
       "    </tr>\n",
       "    <tr>\n",
       "      <th>167</th>\n",
       "      <td>get</td>\n",
       "      <td>5.0</td>\n",
       "      <td>9.0</td>\n",
       "      <td>4.0</td>\n",
       "      <td>0.642857</td>\n",
       "    </tr>\n",
       "    <tr>\n",
       "      <th>159</th>\n",
       "      <td>never</td>\n",
       "      <td>6.0</td>\n",
       "      <td>9.0</td>\n",
       "      <td>3.0</td>\n",
       "      <td>0.600000</td>\n",
       "    </tr>\n",
       "    <tr>\n",
       "      <th>105</th>\n",
       "      <td>way</td>\n",
       "      <td>8.0</td>\n",
       "      <td>8.0</td>\n",
       "      <td>0.0</td>\n",
       "      <td>0.500000</td>\n",
       "    </tr>\n",
       "    <tr>\n",
       "      <th>98</th>\n",
       "      <td>into</td>\n",
       "      <td>9.0</td>\n",
       "      <td>8.0</td>\n",
       "      <td>1.0</td>\n",
       "      <td>0.470588</td>\n",
       "    </tr>\n",
       "    <tr>\n",
       "      <th>217</th>\n",
       "      <td>script</td>\n",
       "      <td>4.0</td>\n",
       "      <td>8.0</td>\n",
       "      <td>4.0</td>\n",
       "      <td>0.666667</td>\n",
       "    </tr>\n",
       "    <tr>\n",
       "      <th>2434</th>\n",
       "      <td>\\t1\\nit</td>\n",
       "      <td>NaN</td>\n",
       "      <td>8.0</td>\n",
       "      <td>NaN</td>\n",
       "      <td>NaN</td>\n",
       "    </tr>\n",
       "    <tr>\n",
       "      <th>2433</th>\n",
       "      <td>\\t0\\nbut</td>\n",
       "      <td>NaN</td>\n",
       "      <td>8.0</td>\n",
       "      <td>NaN</td>\n",
       "      <td>NaN</td>\n",
       "    </tr>\n",
       "    <tr>\n",
       "      <th>83</th>\n",
       "      <td>look</td>\n",
       "      <td>10.0</td>\n",
       "      <td>8.0</td>\n",
       "      <td>2.0</td>\n",
       "      <td>0.444444</td>\n",
       "    </tr>\n",
       "    <tr>\n",
       "      <th>61</th>\n",
       "      <td>what</td>\n",
       "      <td>13.0</td>\n",
       "      <td>8.0</td>\n",
       "      <td>5.0</td>\n",
       "      <td>0.380952</td>\n",
       "    </tr>\n",
       "    <tr>\n",
       "      <th>1859</th>\n",
       "      <td>am</td>\n",
       "      <td>1.0</td>\n",
       "      <td>8.0</td>\n",
       "      <td>7.0</td>\n",
       "      <td>0.888889</td>\n",
       "    </tr>\n",
       "    <tr>\n",
       "      <th>125</th>\n",
       "      <td>film,</td>\n",
       "      <td>7.0</td>\n",
       "      <td>8.0</td>\n",
       "      <td>1.0</td>\n",
       "      <td>0.533333</td>\n",
       "    </tr>\n",
       "    <tr>\n",
       "      <th>65</th>\n",
       "      <td>best</td>\n",
       "      <td>13.0</td>\n",
       "      <td>8.0</td>\n",
       "      <td>5.0</td>\n",
       "      <td>0.380952</td>\n",
       "    </tr>\n",
       "    <tr>\n",
       "      <th>1958</th>\n",
       "      <td>line</td>\n",
       "      <td>1.0</td>\n",
       "      <td>8.0</td>\n",
       "      <td>7.0</td>\n",
       "      <td>0.888889</td>\n",
       "    </tr>\n",
       "    <tr>\n",
       "      <th>184</th>\n",
       "      <td>time.</td>\n",
       "      <td>5.0</td>\n",
       "      <td>8.0</td>\n",
       "      <td>3.0</td>\n",
       "      <td>0.615385</td>\n",
       "    </tr>\n",
       "    <tr>\n",
       "      <th>221</th>\n",
       "      <td>been</td>\n",
       "      <td>4.0</td>\n",
       "      <td>8.0</td>\n",
       "      <td>4.0</td>\n",
       "      <td>0.666667</td>\n",
       "    </tr>\n",
       "    <tr>\n",
       "      <th>599</th>\n",
       "      <td>almost</td>\n",
       "      <td>2.0</td>\n",
       "      <td>7.0</td>\n",
       "      <td>5.0</td>\n",
       "      <td>0.777778</td>\n",
       "    </tr>\n",
       "    <tr>\n",
       "      <th>140</th>\n",
       "      <td>it,</td>\n",
       "      <td>6.0</td>\n",
       "      <td>7.0</td>\n",
       "      <td>1.0</td>\n",
       "      <td>0.538462</td>\n",
       "    </tr>\n",
       "    <tr>\n",
       "      <th>2437</th>\n",
       "      <td>stupid</td>\n",
       "      <td>NaN</td>\n",
       "      <td>7.0</td>\n",
       "      <td>NaN</td>\n",
       "      <td>NaN</td>\n",
       "    </tr>\n",
       "    <tr>\n",
       "      <th>2435</th>\n",
       "      <td>worse</td>\n",
       "      <td>NaN</td>\n",
       "      <td>7.0</td>\n",
       "      <td>NaN</td>\n",
       "      <td>NaN</td>\n",
       "    </tr>\n",
       "    <tr>\n",
       "      <th>226</th>\n",
       "      <td>i've</td>\n",
       "      <td>4.0</td>\n",
       "      <td>7.0</td>\n",
       "      <td>3.0</td>\n",
       "      <td>0.636364</td>\n",
       "    </tr>\n",
       "    <tr>\n",
       "      <th>169</th>\n",
       "      <td>\\t1\\nthe</td>\n",
       "      <td>5.0</td>\n",
       "      <td>7.0</td>\n",
       "      <td>2.0</td>\n",
       "      <td>0.583333</td>\n",
       "    </tr>\n",
       "    <tr>\n",
       "      <th>155</th>\n",
       "      <td>pretty</td>\n",
       "      <td>6.0</td>\n",
       "      <td>7.0</td>\n",
       "      <td>1.0</td>\n",
       "      <td>0.538462</td>\n",
       "    </tr>\n",
       "    <tr>\n",
       "      <th>156</th>\n",
       "      <td>say</td>\n",
       "      <td>6.0</td>\n",
       "      <td>7.0</td>\n",
       "      <td>1.0</td>\n",
       "      <td>0.538462</td>\n",
       "    </tr>\n",
       "    <tr>\n",
       "      <th>1600</th>\n",
       "      <td>seen.</td>\n",
       "      <td>1.0</td>\n",
       "      <td>7.0</td>\n",
       "      <td>6.0</td>\n",
       "      <td>0.875000</td>\n",
       "    </tr>\n",
       "    <tr>\n",
       "      <th>168</th>\n",
       "      <td>doesn't</td>\n",
       "      <td>5.0</td>\n",
       "      <td>7.0</td>\n",
       "      <td>2.0</td>\n",
       "      <td>0.583333</td>\n",
       "    </tr>\n",
       "    <tr>\n",
       "      <th>2436</th>\n",
       "      <td>awful.</td>\n",
       "      <td>NaN</td>\n",
       "      <td>7.0</td>\n",
       "      <td>NaN</td>\n",
       "      <td>NaN</td>\n",
       "    </tr>\n",
       "    <tr>\n",
       "      <th>353</th>\n",
       "      <td>here</td>\n",
       "      <td>3.0</td>\n",
       "      <td>7.0</td>\n",
       "      <td>4.0</td>\n",
       "      <td>0.700000</td>\n",
       "    </tr>\n",
       "    <tr>\n",
       "      <th>258</th>\n",
       "      <td>between</td>\n",
       "      <td>3.0</td>\n",
       "      <td>7.0</td>\n",
       "      <td>4.0</td>\n",
       "      <td>0.700000</td>\n",
       "    </tr>\n",
       "    <tr>\n",
       "      <th>283</th>\n",
       "      <td>simply</td>\n",
       "      <td>3.0</td>\n",
       "      <td>7.0</td>\n",
       "      <td>4.0</td>\n",
       "      <td>0.700000</td>\n",
       "    </tr>\n",
       "    <tr>\n",
       "      <th>63</th>\n",
       "      <td>had</td>\n",
       "      <td>13.0</td>\n",
       "      <td>7.0</td>\n",
       "      <td>6.0</td>\n",
       "      <td>0.350000</td>\n",
       "    </tr>\n",
       "    <tr>\n",
       "      <th>298</th>\n",
       "      <td>quite</td>\n",
       "      <td>3.0</td>\n",
       "      <td>7.0</td>\n",
       "      <td>4.0</td>\n",
       "      <td>0.700000</td>\n",
       "    </tr>\n",
       "    <tr>\n",
       "      <th>371</th>\n",
       "      <td>can't</td>\n",
       "      <td>3.0</td>\n",
       "      <td>7.0</td>\n",
       "      <td>4.0</td>\n",
       "      <td>0.700000</td>\n",
       "    </tr>\n",
       "    <tr>\n",
       "      <th>313</th>\n",
       "      <td>things</td>\n",
       "      <td>3.0</td>\n",
       "      <td>7.0</td>\n",
       "      <td>4.0</td>\n",
       "      <td>0.700000</td>\n",
       "    </tr>\n",
       "    <tr>\n",
       "      <th>76</th>\n",
       "      <td>do</td>\n",
       "      <td>11.0</td>\n",
       "      <td>7.0</td>\n",
       "      <td>4.0</td>\n",
       "      <td>0.388889</td>\n",
       "    </tr>\n",
       "  </tbody>\n",
       "</table>\n",
       "</div>"
      ],
      "text/plain": [
       "          word  positive  negative  straight difference  ratio difference\n",
       "158     scenes       6.0       9.0                  3.0          0.600000\n",
       "113      films       8.0       9.0                  1.0          0.529412\n",
       "51        when      16.0       9.0                  7.0          0.360000\n",
       "68      movies      12.0       9.0                  3.0          0.428571\n",
       "58         its      14.0       9.0                  5.0          0.391304\n",
       "167        get       5.0       9.0                  4.0          0.642857\n",
       "159      never       6.0       9.0                  3.0          0.600000\n",
       "105        way       8.0       8.0                  0.0          0.500000\n",
       "98        into       9.0       8.0                  1.0          0.470588\n",
       "217     script       4.0       8.0                  4.0          0.666667\n",
       "2434   \\t1\\nit       NaN       8.0                  NaN               NaN\n",
       "2433  \\t0\\nbut       NaN       8.0                  NaN               NaN\n",
       "83        look      10.0       8.0                  2.0          0.444444\n",
       "61        what      13.0       8.0                  5.0          0.380952\n",
       "1859        am       1.0       8.0                  7.0          0.888889\n",
       "125      film,       7.0       8.0                  1.0          0.533333\n",
       "65        best      13.0       8.0                  5.0          0.380952\n",
       "1958      line       1.0       8.0                  7.0          0.888889\n",
       "184      time.       5.0       8.0                  3.0          0.615385\n",
       "221       been       4.0       8.0                  4.0          0.666667\n",
       "599     almost       2.0       7.0                  5.0          0.777778\n",
       "140        it,       6.0       7.0                  1.0          0.538462\n",
       "2437    stupid       NaN       7.0                  NaN               NaN\n",
       "2435     worse       NaN       7.0                  NaN               NaN\n",
       "226       i've       4.0       7.0                  3.0          0.636364\n",
       "169   \\t1\\nthe       5.0       7.0                  2.0          0.583333\n",
       "155     pretty       6.0       7.0                  1.0          0.538462\n",
       "156        say       6.0       7.0                  1.0          0.538462\n",
       "1600     seen.       1.0       7.0                  6.0          0.875000\n",
       "168    doesn't       5.0       7.0                  2.0          0.583333\n",
       "2436    awful.       NaN       7.0                  NaN               NaN\n",
       "353       here       3.0       7.0                  4.0          0.700000\n",
       "258    between       3.0       7.0                  4.0          0.700000\n",
       "283     simply       3.0       7.0                  4.0          0.700000\n",
       "63         had      13.0       7.0                  6.0          0.350000\n",
       "298      quite       3.0       7.0                  4.0          0.700000\n",
       "371      can't       3.0       7.0                  4.0          0.700000\n",
       "313     things       3.0       7.0                  4.0          0.700000\n",
       "76          do      11.0       7.0                  4.0          0.388889"
      ]
     },
     "execution_count": 213,
     "metadata": {},
     "output_type": "execute_result"
    }
   ],
   "source": [
    "# I used a lot of the words high on this list figuring the larger the difference in usage\n",
    "# the more effect it would have on the predictive value of the model\n",
    "posneg_df.sort_values(by = 'negative', ascending = False)[101:140]"
   ]
  },
  {
   "cell_type": "code",
   "execution_count": 214,
   "metadata": {},
   "outputs": [
    {
     "data": {
      "text/html": [
       "<div>\n",
       "<table border=\"1\" class=\"dataframe\">\n",
       "  <thead>\n",
       "    <tr style=\"text-align: right;\">\n",
       "      <th></th>\n",
       "      <th>message</th>\n",
       "      <th>rating</th>\n",
       "    </tr>\n",
       "  </thead>\n",
       "  <tbody>\n",
       "    <tr>\n",
       "      <th>0</th>\n",
       "      <td>A very, very, very slow-moving, aimless movie ...</td>\n",
       "      <td>0</td>\n",
       "    </tr>\n",
       "    <tr>\n",
       "      <th>1</th>\n",
       "      <td>Not sure who was more lost - the flat characte...</td>\n",
       "      <td>0</td>\n",
       "    </tr>\n",
       "    <tr>\n",
       "      <th>2</th>\n",
       "      <td>Attempting artiness with black &amp; white and cle...</td>\n",
       "      <td>0</td>\n",
       "    </tr>\n",
       "    <tr>\n",
       "      <th>3</th>\n",
       "      <td>Very little music or anything to speak of.</td>\n",
       "      <td>0</td>\n",
       "    </tr>\n",
       "    <tr>\n",
       "      <th>4</th>\n",
       "      <td>The best scene in the movie was when Gerardo i...</td>\n",
       "      <td>1</td>\n",
       "    </tr>\n",
       "  </tbody>\n",
       "</table>\n",
       "</div>"
      ],
      "text/plain": [
       "                                             message  rating\n",
       "0  A very, very, very slow-moving, aimless movie ...       0\n",
       "1  Not sure who was more lost - the flat characte...       0\n",
       "2  Attempting artiness with black & white and cle...       0\n",
       "3       Very little music or anything to speak of.         0\n",
       "4  The best scene in the movie was when Gerardo i...       1"
      ]
     },
     "execution_count": 214,
     "metadata": {},
     "output_type": "execute_result"
    }
   ],
   "source": [
    "data.head()"
   ]
  },
  {
   "cell_type": "code",
   "execution_count": 215,
   "metadata": {
    "scrolled": true
   },
   "outputs": [
    {
     "name": "stdout",
     "output_type": "stream",
     "text": [
      "Number of incorrectly predicted ratings out of a total 748 reviews : 208\n",
      "[[258 104]\n",
      " [104 282]]\n"
     ]
    }
   ],
   "source": [
    "# Building my keyword list\n",
    "data1 = data\n",
    "\n",
    "keywords_mine = ['and',\n",
    "            'even',\n",
    "            'good',\n",
    "            'plot',\n",
    "            'enjoy',\n",
    "            'best', #not very strong\n",
    "            'love',\n",
    "            'cool', #also pretty weak\n",
    "            'awesome',\n",
    "            'film',\n",
    "            'for',\n",
    "            'is',\n",
    "            'was',\n",
    "            'i',\n",
    "            'not',\n",
    "            'a',\n",
    "            'to',\n",
    "            'just',\n",
    "            'know',\n",
    "            'wonderful',\n",
    "            'only',\n",
    "            'great',\n",
    "            'bad.',\n",
    "            'waste',\n",
    "            'like',\n",
    "            'really',\n",
    "            'excellent',\n",
    "           ]\n",
    "for key in keywords_mine:\n",
    "    data1[str(key)] = data1.message.str.contains(\n",
    "        str(key), case = False #getting rid of the spaces in order to find words at beginning or end of sentences\n",
    "    )\n",
    "    \n",
    "# Pretty light correlation outside of 'was' and 'waste' from from the sentence 'this \n",
    "# movie was a waste of time'\n",
    "\n",
    "trainer1 = data1[keywords_mine]\n",
    "target1 = data1['rating']\n",
    "\n",
    "#creating an instantiating variable for the BernoulliNB\n",
    "bnb1 = BernoulliNB()\n",
    "\n",
    "bnb1.fit(trainer1, target1)\n",
    "\n",
    "y_pred1 = bnb1.predict(trainer1)\n",
    "\n",
    "print(\"Number of incorrectly predicted ratings out of a total {} reviews : {}\".format(\n",
    "    trainer1.shape[0],\n",
    "    (target1 != y_pred1).sum()\n",
    "))\n",
    "\n",
    "print(confusion_matrix(target1, y_pred1))"
   ]
  },
  {
   "cell_type": "code",
   "execution_count": 216,
   "metadata": {},
   "outputs": [
    {
     "data": {
      "text/plain": [
       "<matplotlib.axes._subplots.AxesSubplot at 0x10e4b2f28>"
      ]
     },
     "execution_count": 216,
     "metadata": {},
     "output_type": "execute_result"
    },
    {
     "data": {
      "image/png": "[encoded data removed]",
      "text/plain": [
       "<matplotlib.figure.Figure at 0x10e4ba208>"
      ]
     },
     "metadata": {},
     "output_type": "display_data"
    }
   ],
   "source": [
    "plt.figure(figsize = (20,10))\n",
    "sns.heatmap(data1.corr())"
   ]
  },
  {
   "cell_type": "code",
   "execution_count": 217,
   "metadata": {},
   "outputs": [
    {
     "data": {
      "text/html": [
       "<div>\n",
       "<table border=\"1\" class=\"dataframe\">\n",
       "  <thead>\n",
       "    <tr style=\"text-align: right;\">\n",
       "      <th></th>\n",
       "      <th>message</th>\n",
       "      <th>rating</th>\n",
       "    </tr>\n",
       "  </thead>\n",
       "  <tbody>\n",
       "    <tr>\n",
       "      <th>0</th>\n",
       "      <td>A very, very, very slow-moving, aimless movie ...</td>\n",
       "      <td>0</td>\n",
       "    </tr>\n",
       "    <tr>\n",
       "      <th>1</th>\n",
       "      <td>Not sure who was more lost - the flat characte...</td>\n",
       "      <td>0</td>\n",
       "    </tr>\n",
       "    <tr>\n",
       "      <th>2</th>\n",
       "      <td>Attempting artiness with black &amp; white and cle...</td>\n",
       "      <td>0</td>\n",
       "    </tr>\n",
       "    <tr>\n",
       "      <th>3</th>\n",
       "      <td>Very little music or anything to speak of.</td>\n",
       "      <td>0</td>\n",
       "    </tr>\n",
       "    <tr>\n",
       "      <th>4</th>\n",
       "      <td>The best scene in the movie was when Gerardo i...</td>\n",
       "      <td>1</td>\n",
       "    </tr>\n",
       "  </tbody>\n",
       "</table>\n",
       "</div>"
      ],
      "text/plain": [
       "                                             message  rating\n",
       "0  A very, very, very slow-moving, aimless movie ...       0\n",
       "1  Not sure who was more lost - the flat characte...       0\n",
       "2  Attempting artiness with black & white and cle...       0\n",
       "3       Very little music or anything to speak of.         0\n",
       "4  The best scene in the movie was when Gerardo i...       1"
      ]
     },
     "execution_count": 217,
     "metadata": {},
     "output_type": "execute_result"
    }
   ],
   "source": [
    "data = pd.read_csv('imdb_labelled.txt', delimiter = '\\t', header = None)\n",
    "data.columns = ['message', 'rating']\n",
    "data.head()"
   ]
  },
  {
   "cell_type": "code",
   "execution_count": 218,
   "metadata": {
    "scrolled": true
   },
   "outputs": [
    {
     "name": "stdout",
     "output_type": "stream",
     "text": [
      "Number of incorrectly predicted ratings out of a total 748 reviews : 226\n",
      "[[208 154]\n",
      " [ 72 314]]\n"
     ]
    }
   ],
   "source": [
    "# Building a keyword list based on the straight difference count\n",
    "data2 = data\n",
    "\n",
    "keywords_straight_diff = ['and',\n",
    "    'is',\n",
    "    'was',\n",
    "    'bad',\n",
    "    'a',\n",
    "    'to',\n",
    "    'just',\n",
    "    'even',\n",
    "    'i',\n",
    "    'the',\n",
    "    'no',\n",
    "    'that',\n",
    "    'how',\n",
    "    'in',\n",
    "    'for',\n",
    "    \"didn't\",\n",
    "    'good',\n",
    "    'plot',\n",
    "    'would',\n",
    "    'wonderful',\n",
    "    'only',\n",
    "    'there',\n",
    "    '\\t\\ni',\n",
    "    'it',\n",
    "    'great'\n",
    "]\n",
    "                          \n",
    "for key in keywords_straight_diff:\n",
    "    data2[str(key)] = data2.message.str.contains(\n",
    "        str(key), case = False #getting rid of the spaces in order to find words at beginning or end of sentences\n",
    "    )\n",
    "\n",
    "trainer2 = data2[keywords_straight_diff]\n",
    "target2 = data2['rating']\n",
    "\n",
    "#creating an instantiating variable for the BernoulliNB\n",
    "bnb2 = BernoulliNB()\n",
    "\n",
    "bnb2.fit(trainer2, target2)\n",
    "\n",
    "y_pred2 = bnb2.predict(trainer2)\n",
    "\n",
    "print(\"Number of incorrectly predicted ratings out of a total {} reviews : {}\".format(\n",
    "    trainer2.shape[0],\n",
    "    (target2 != y_pred2).sum()\n",
    "))\n",
    "\n",
    "print(confusion_matrix(target2, y_pred2))"
   ]
  },
  {
   "cell_type": "code",
   "execution_count": 219,
   "metadata": {},
   "outputs": [
    {
     "data": {
      "text/plain": [
       "<matplotlib.axes._subplots.AxesSubplot at 0x11235cdd8>"
      ]
     },
     "execution_count": 219,
     "metadata": {},
     "output_type": "execute_result"
    },
    {
     "data": {
      "image/png": "[encoded data removed]",
      "text/plain": [
       "<matplotlib.figure.Figure at 0x1114abeb8>"
      ]
     },
     "metadata": {},
     "output_type": "display_data"
    }
   ],
   "source": [
    "plt.figure(figsize = (20,10))\n",
    "sns.heatmap(data2.corr())"
   ]
  },
  {
   "cell_type": "code",
   "execution_count": 220,
   "metadata": {},
   "outputs": [
    {
     "data": {
      "text/html": [
       "<div>\n",
       "<table border=\"1\" class=\"dataframe\">\n",
       "  <thead>\n",
       "    <tr style=\"text-align: right;\">\n",
       "      <th></th>\n",
       "      <th>message</th>\n",
       "      <th>rating</th>\n",
       "    </tr>\n",
       "  </thead>\n",
       "  <tbody>\n",
       "    <tr>\n",
       "      <th>0</th>\n",
       "      <td>A very, very, very slow-moving, aimless movie ...</td>\n",
       "      <td>0</td>\n",
       "    </tr>\n",
       "    <tr>\n",
       "      <th>1</th>\n",
       "      <td>Not sure who was more lost - the flat characte...</td>\n",
       "      <td>0</td>\n",
       "    </tr>\n",
       "    <tr>\n",
       "      <th>2</th>\n",
       "      <td>Attempting artiness with black &amp; white and cle...</td>\n",
       "      <td>0</td>\n",
       "    </tr>\n",
       "    <tr>\n",
       "      <th>3</th>\n",
       "      <td>Very little music or anything to speak of.</td>\n",
       "      <td>0</td>\n",
       "    </tr>\n",
       "    <tr>\n",
       "      <th>4</th>\n",
       "      <td>The best scene in the movie was when Gerardo i...</td>\n",
       "      <td>1</td>\n",
       "    </tr>\n",
       "  </tbody>\n",
       "</table>\n",
       "</div>"
      ],
      "text/plain": [
       "                                             message  rating\n",
       "0  A very, very, very slow-moving, aimless movie ...       0\n",
       "1  Not sure who was more lost - the flat characte...       0\n",
       "2  Attempting artiness with black & white and cle...       0\n",
       "3       Very little music or anything to speak of.         0\n",
       "4  The best scene in the movie was when Gerardo i...       1"
      ]
     },
     "execution_count": 220,
     "metadata": {},
     "output_type": "execute_result"
    }
   ],
   "source": [
    "data = pd.read_csv('imdb_labelled.txt', delimiter = '\\t', header = None)\n",
    "data.columns = ['message', 'rating']\n",
    "data.head()"
   ]
  },
  {
   "cell_type": "code",
   "execution_count": 221,
   "metadata": {
    "scrolled": false
   },
   "outputs": [
    {
     "name": "stdout",
     "output_type": "stream",
     "text": [
      "Number of incorrectly predicted ratings out of a total 748 reviews : 249\n",
      "[[154 208]\n",
      " [ 41 345]]\n"
     ]
    }
   ],
   "source": [
    "# Building a keyword list based on the ratio difference count\n",
    "data3 = data\n",
    "\n",
    "keywords_ratio_diff = ['waste',\n",
    "                      'show',\n",
    "                      'nothing',\n",
    "                      'am',\n",
    "                      'line',\n",
    "                      'bad',\n",
    "                      '\\t\\ni',\n",
    "                      'seen.',\n",
    "                      \"didn't\",\n",
    "                      'plot',\n",
    "                      'work',\n",
    "                      'especially',\n",
    "                      'half',\n",
    "                      'terrible,',\n",
    "                      \"i'm\",\n",
    "                      'lacks',\n",
    "                      'films',\n",
    "                      'would',\n",
    "                      'even',\n",
    "                      'beyond',\n",
    "                      'predictable',\n",
    "                      'why',\n",
    "                      'funny.',\n",
    "                      'well,'\n",
    "]\n",
    "                          \n",
    "for key in keywords_ratio_diff:\n",
    "    data3[str(key)] = data3.message.str.contains(\n",
    "        str(key), case = False #getting rid of the spaces in order to find words at beginning or end of sentences\n",
    "    )\n",
    "\n",
    "trainer3 = data3[keywords_ratio_diff]\n",
    "target3 = data3['rating']\n",
    "\n",
    "#creating an instantiating variable for the BernoulliNB\n",
    "bnb3 = BernoulliNB()\n",
    "\n",
    "bnb3.fit(trainer3, target3)\n",
    "\n",
    "y_pred3 = bnb3.predict(trainer3)\n",
    "\n",
    "print(\"Number of incorrectly predicted ratings out of a total {} reviews : {}\".format(\n",
    "    trainer3.shape[0],\n",
    "    (target3 != y_pred3).sum()\n",
    "))\n",
    "\n",
    "print(confusion_matrix(target3, y_pred3))"
   ]
  },
  {
   "cell_type": "code",
   "execution_count": 222,
   "metadata": {},
   "outputs": [
    {
     "data": {
      "text/plain": [
       "<matplotlib.axes._subplots.AxesSubplot at 0x10e58bd30>"
      ]
     },
     "execution_count": 222,
     "metadata": {},
     "output_type": "execute_result"
    },
    {
     "data": {
      "image/png": "[encoded data removed]",
      "text/plain": [
       "<matplotlib.figure.Figure at 0x1114b6b70>"
      ]
     },
     "metadata": {},
     "output_type": "display_data"
    }
   ],
   "source": [
    "plt.figure(figsize = (20,10))\n",
    "sns.heatmap(data3.corr())"
   ]
  },
  {
   "cell_type": "code",
   "execution_count": 223,
   "metadata": {},
   "outputs": [
    {
     "data": {
      "text/html": [
       "<div>\n",
       "<table border=\"1\" class=\"dataframe\">\n",
       "  <thead>\n",
       "    <tr style=\"text-align: right;\">\n",
       "      <th></th>\n",
       "      <th>message</th>\n",
       "      <th>rating</th>\n",
       "    </tr>\n",
       "  </thead>\n",
       "  <tbody>\n",
       "    <tr>\n",
       "      <th>0</th>\n",
       "      <td>A very, very, very slow-moving, aimless movie ...</td>\n",
       "      <td>0</td>\n",
       "    </tr>\n",
       "    <tr>\n",
       "      <th>1</th>\n",
       "      <td>Not sure who was more lost - the flat characte...</td>\n",
       "      <td>0</td>\n",
       "    </tr>\n",
       "    <tr>\n",
       "      <th>2</th>\n",
       "      <td>Attempting artiness with black &amp; white and cle...</td>\n",
       "      <td>0</td>\n",
       "    </tr>\n",
       "    <tr>\n",
       "      <th>3</th>\n",
       "      <td>Very little music or anything to speak of.</td>\n",
       "      <td>0</td>\n",
       "    </tr>\n",
       "    <tr>\n",
       "      <th>4</th>\n",
       "      <td>The best scene in the movie was when Gerardo i...</td>\n",
       "      <td>1</td>\n",
       "    </tr>\n",
       "  </tbody>\n",
       "</table>\n",
       "</div>"
      ],
      "text/plain": [
       "                                             message  rating\n",
       "0  A very, very, very slow-moving, aimless movie ...       0\n",
       "1  Not sure who was more lost - the flat characte...       0\n",
       "2  Attempting artiness with black & white and cle...       0\n",
       "3       Very little music or anything to speak of.         0\n",
       "4  The best scene in the movie was when Gerardo i...       1"
      ]
     },
     "execution_count": 223,
     "metadata": {},
     "output_type": "execute_result"
    }
   ],
   "source": [
    "data = pd.read_csv('imdb_labelled.txt', delimiter = '\\t', header = None)\n",
    "data.columns = ['message', 'rating']\n",
    "data.head()"
   ]
  },
  {
   "cell_type": "code",
   "execution_count": 224,
   "metadata": {
    "scrolled": false
   },
   "outputs": [
    {
     "name": "stdout",
     "output_type": "stream",
     "text": [
      "Number of incorrectly predicted ratings out of a total 748 reviews : 256\n",
      "[[259 103]\n",
      " [153 233]]\n"
     ]
    }
   ],
   "source": [
    "# Building a keyword list based on the most common positive words that are not base words\n",
    "# base words being your (a, the, if, or, and type words)\n",
    "data4 = data\n",
    "\n",
    "keywords_pos_words = [\n",
    "    'movie',\n",
    "    'film',\n",
    "    'good',\n",
    "    'great',\n",
    "    'like',\n",
    "    'more',\n",
    "    'wonderful',\n",
    "    'best',\n",
    "    'love',\n",
    "    'character',\n",
    "    'worth',\n",
    "    'excellent',\n",
    "    'recommend',\n",
    "    'interesting',\n",
    "    'enjoyed',\n",
    "    'well.',\n",
    "    '10',\n",
    "    'it!',\n",
    "    'special',\n",
    "    'perfect'\n",
    "]\n",
    "                          \n",
    "for key in keywords_pos_words:\n",
    "    data4[str(key)] = data4.message.str.contains(\n",
    "        str(key), case = False #getting rid of the spaces in order to find words at beginning or end of sentences\n",
    "    )\n",
    "\n",
    "trainer4 = data4[keywords_pos_words]\n",
    "target4 = data4['rating']\n",
    "\n",
    "#creating an instantiating variable for the BernoulliNB\n",
    "bnb4 = BernoulliNB()\n",
    "\n",
    "bnb4.fit(trainer4, target4)\n",
    "\n",
    "y_pred4 = bnb4.predict(trainer4)\n",
    "\n",
    "print(\"Number of incorrectly predicted ratings out of a total {} reviews : {}\".format(\n",
    "    trainer4.shape[0],\n",
    "    (target4 != y_pred4).sum()\n",
    "))\n",
    "\n",
    "print(confusion_matrix(target4, y_pred4))"
   ]
  },
  {
   "cell_type": "code",
   "execution_count": 225,
   "metadata": {
    "scrolled": false
   },
   "outputs": [
    {
     "data": {
      "text/plain": [
       "<matplotlib.axes._subplots.AxesSubplot at 0x11157b3c8>"
      ]
     },
     "execution_count": 225,
     "metadata": {},
     "output_type": "execute_result"
    },
    {
     "data": {
      "image/png": "[encoded data removed]",
      "text/plain": [
       "<matplotlib.figure.Figure at 0x111538470>"
      ]
     },
     "metadata": {},
     "output_type": "display_data"
    }
   ],
   "source": [
    "plt.figure(figsize = (20,10))\n",
    "sns.heatmap(data4.corr())"
   ]
  },
  {
   "cell_type": "code",
   "execution_count": 226,
   "metadata": {},
   "outputs": [
    {
     "data": {
      "text/html": [
       "<div>\n",
       "<table border=\"1\" class=\"dataframe\">\n",
       "  <thead>\n",
       "    <tr style=\"text-align: right;\">\n",
       "      <th></th>\n",
       "      <th>message</th>\n",
       "      <th>rating</th>\n",
       "    </tr>\n",
       "  </thead>\n",
       "  <tbody>\n",
       "    <tr>\n",
       "      <th>0</th>\n",
       "      <td>A very, very, very slow-moving, aimless movie ...</td>\n",
       "      <td>0</td>\n",
       "    </tr>\n",
       "    <tr>\n",
       "      <th>1</th>\n",
       "      <td>Not sure who was more lost - the flat characte...</td>\n",
       "      <td>0</td>\n",
       "    </tr>\n",
       "    <tr>\n",
       "      <th>2</th>\n",
       "      <td>Attempting artiness with black &amp; white and cle...</td>\n",
       "      <td>0</td>\n",
       "    </tr>\n",
       "    <tr>\n",
       "      <th>3</th>\n",
       "      <td>Very little music or anything to speak of.</td>\n",
       "      <td>0</td>\n",
       "    </tr>\n",
       "    <tr>\n",
       "      <th>4</th>\n",
       "      <td>The best scene in the movie was when Gerardo i...</td>\n",
       "      <td>1</td>\n",
       "    </tr>\n",
       "  </tbody>\n",
       "</table>\n",
       "</div>"
      ],
      "text/plain": [
       "                                             message  rating\n",
       "0  A very, very, very slow-moving, aimless movie ...       0\n",
       "1  Not sure who was more lost - the flat characte...       0\n",
       "2  Attempting artiness with black & white and cle...       0\n",
       "3       Very little music or anything to speak of.         0\n",
       "4  The best scene in the movie was when Gerardo i...       1"
      ]
     },
     "execution_count": 226,
     "metadata": {},
     "output_type": "execute_result"
    }
   ],
   "source": [
    "data = pd.read_csv('imdb_labelled.txt', delimiter = '\\t', header = None)\n",
    "data.columns = ['message', 'rating']\n",
    "data.head()"
   ]
  },
  {
   "cell_type": "code",
   "execution_count": 227,
   "metadata": {},
   "outputs": [
    {
     "name": "stdout",
     "output_type": "stream",
     "text": [
      "Number of incorrectly predicted ratings out of a total 748 reviews : 229\n",
      "[[205 157]\n",
      " [ 72 314]]\n"
     ]
    }
   ],
   "source": [
    "# Building a keyword list based on the most common negative words that are not base words\n",
    "# base words being your (a, the, if, or, and type words)\n",
    "data5 = data\n",
    "\n",
    "keywords_neg_words = [\n",
    "    'movie',\n",
    "    'just',\n",
    "    'bad',\n",
    "    'even',\n",
    "    'no',\n",
    "    'only',\n",
    "    'plot',\n",
    "    \"didn't\",\n",
    "    'how',\n",
    "    'your',\n",
    "    'waste',\n",
    "    'little',\n",
    "    'nothing',\n",
    "    'worst',\n",
    "    'stupid',\n",
    "    'worse',\n",
    "    'awful'\n",
    "]\n",
    "                          \n",
    "for key in keywords_neg_words:\n",
    "    data5[str(key)] = data5.message.str.contains(\n",
    "        str(key), case = False #getting rid of the spaces in order to find words at beginning or end of sentences\n",
    "    )\n",
    "\n",
    "trainer5 = data5[keywords_neg_words]\n",
    "target5 = data5['rating']\n",
    "\n",
    "#creating an instantiating variable for the BernoulliNB\n",
    "bnb5 = BernoulliNB()\n",
    "\n",
    "bnb5.fit(trainer5, target5)\n",
    "\n",
    "y_pred5 = bnb5.predict(trainer5)\n",
    "\n",
    "print(\"Number of incorrectly predicted ratings out of a total {} reviews : {}\".format(\n",
    "    trainer5.shape[0],\n",
    "    (target5 != y_pred5).sum()\n",
    "))\n",
    "\n",
    "print(confusion_matrix(target5, y_pred5))"
   ]
  },
  {
   "cell_type": "code",
   "execution_count": 228,
   "metadata": {
    "scrolled": false
   },
   "outputs": [
    {
     "data": {
      "text/plain": [
       "<matplotlib.axes._subplots.AxesSubplot at 0x113391780>"
      ]
     },
     "execution_count": 228,
     "metadata": {},
     "output_type": "execute_result"
    },
    {
     "data": {
      "image/png": "[encoded data removed]",
      "text/plain": [
       "<matplotlib.figure.Figure at 0x1133a13c8>"
      ]
     },
     "metadata": {},
     "output_type": "display_data"
    }
   ],
   "source": [
    "plt.figure(figsize = (20,10))\n",
    "sns.heatmap(data5.corr())"
   ]
  },
  {
   "cell_type": "code",
   "execution_count": 229,
   "metadata": {
    "scrolled": true
   },
   "outputs": [
    {
     "name": "stdout",
     "output_type": "stream",
     "text": [
      "Confusion Matrix 1 - My Keywords\n",
      "[[258 104]\n",
      " [104 282]]\n",
      "----------------------------------------\n",
      "Confusion Matrix 2 - Keywords with highest straight differential\n",
      "[[208 154]\n",
      " [ 72 314]]\n",
      "----------------------------------------\n",
      "Confusion Matrix 3 - Keywords with highest ratio differential\n",
      "[[154 208]\n",
      " [ 41 345]]\n",
      "----------------------------------------\n",
      "Confusion Matrix 4 - Most common positive Keywords\n",
      "[[259 103]\n",
      " [153 233]]\n",
      "----------------------------------------\n",
      "Confusion Matrix 5 - Most common negative Keywords\n",
      "[[205 157]\n",
      " [ 72 314]]\n"
     ]
    }
   ],
   "source": [
    "# Looking at all of the confusion matrixes\n",
    "print('Confusion Matrix 1 - My Keywords')\n",
    "print(confusion_matrix(target1, y_pred1))\n",
    "print('-'*40)\n",
    "print('Confusion Matrix 2 - Keywords with highest straight differential')\n",
    "print(confusion_matrix(target2, y_pred2))\n",
    "print('-'*40)\n",
    "print('Confusion Matrix 3 - Keywords with highest ratio differential')\n",
    "print(confusion_matrix(target3, y_pred3))\n",
    "print('-'*40)\n",
    "print('Confusion Matrix 4 - Most common positive Keywords')\n",
    "print(confusion_matrix(target4, y_pred4))\n",
    "print('-'*40)\n",
    "print('Confusion Matrix 5 - Most common negative Keywords')\n",
    "print(confusion_matrix(target5, y_pred5))"
   ]
  },
  {
   "cell_type": "markdown",
   "metadata": {},
   "source": [
    "## Do any of your classifiers seem to overfit?\n",
    "\n",
    "None of my classifiers seem to overfit."
   ]
  },
  {
   "cell_type": "markdown",
   "metadata": {},
   "source": [
    "## Which seem to perform the best and why?\n",
    "\n",
    "I think based on straight numbers, my Keywords had the best predictive value. That being said the purely negative words model was strongly able to identify negative reviews, no surpise there. What was a surprise though was that the ratio model was the best at correctly predicting negative reviews. The pure positive words model was barely better than my own keywords at correctly predicting positive reviews and suffers strongly in correctly predicting negative reviews."
   ]
  },
  {
   "cell_type": "markdown",
   "metadata": {},
   "source": [
    "## What features seem to be most impactful to performance\n",
    "\n",
    "Derek you were right, the ratio was a good way to go. It is definitely strong in correctly predicting negative reviews, a deeper dive into the word mix for that model vs mine might be able to identify some commonalities and where these two can be combined to increase the positive predictive power without suffering too much loss of predictive ability on the negative side."
   ]
  },
  {
   "cell_type": "code",
   "execution_count": null,
   "metadata": {
    "collapsed": true
   },
   "outputs": [],
   "source": []
  }
 ],
 "metadata": {
  "kernelspec": {
   "display_name": "Python 3",
   "language": "python",
   "name": "python3"
  },
  "language_info": {
   "codemirror_mode": {
    "name": "ipython",
    "version": 3
   },
   "file_extension": ".py",
   "mimetype": "text/x-python",
   "name": "python",
   "nbconvert_exporter": "python",
   "pygments_lexer": "ipython3",
   "version": "3.5.2"
  }
 },
 "nbformat": 4,
 "nbformat_minor": 2
}

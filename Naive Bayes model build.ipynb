{
 "cells": [
  {
   "cell_type": "code",
   "execution_count": 52,
   "metadata": {
    "collapsed": true
   },
   "outputs": [],
   "source": [
    "%matplotlib inline\n",
    "import numpy as np\n",
    "import pandas as pd\n",
    "import scipy\n",
    "import sklearn\n",
    "import matplotlib.pyplot as plt\n",
    "import seaborn as sns\n",
    "import operator\n",
    "from sklearn.naive_bayes import BernoulliNB\n",
    "from sklearn.metrics import confusion_matrix\n",
    "from sklearn.model_selection import train_test_split"
   ]
  },
  {
   "cell_type": "code",
   "execution_count": 53,
   "metadata": {
    "collapsed": true
   },
   "outputs": [],
   "source": [
    "# Reading through the IMDB data to see what peoples feelings were towards movies\n",
    "data = pd.read_csv('imdb_labelled.txt', delimiter = '\\t', header = None)\n",
    "data.columns = ['message', 'rating']\n",
    "train, test = train_test_split(data, test_size = .2, random_state = 1)"
   ]
  },
  {
   "cell_type": "code",
   "execution_count": 54,
   "metadata": {},
   "outputs": [
    {
     "data": {
      "text/html": [
       "<div>\n",
       "<table border=\"1\" class=\"dataframe\">\n",
       "  <thead>\n",
       "    <tr style=\"text-align: right;\">\n",
       "      <th></th>\n",
       "      <th>message</th>\n",
       "      <th>rating</th>\n",
       "    </tr>\n",
       "  </thead>\n",
       "  <tbody>\n",
       "    <tr>\n",
       "      <th>0</th>\n",
       "      <td>A very, very, very slow-moving, aimless movie ...</td>\n",
       "      <td>0</td>\n",
       "    </tr>\n",
       "    <tr>\n",
       "      <th>1</th>\n",
       "      <td>Not sure who was more lost - the flat characte...</td>\n",
       "      <td>0</td>\n",
       "    </tr>\n",
       "    <tr>\n",
       "      <th>2</th>\n",
       "      <td>Attempting artiness with black &amp; white and cle...</td>\n",
       "      <td>0</td>\n",
       "    </tr>\n",
       "    <tr>\n",
       "      <th>3</th>\n",
       "      <td>Very little music or anything to speak of.</td>\n",
       "      <td>0</td>\n",
       "    </tr>\n",
       "    <tr>\n",
       "      <th>4</th>\n",
       "      <td>The best scene in the movie was when Gerardo i...</td>\n",
       "      <td>1</td>\n",
       "    </tr>\n",
       "  </tbody>\n",
       "</table>\n",
       "</div>"
      ],
      "text/plain": [
       "                                             message  rating\n",
       "0  A very, very, very slow-moving, aimless movie ...       0\n",
       "1  Not sure who was more lost - the flat characte...       0\n",
       "2  Attempting artiness with black & white and cle...       0\n",
       "3       Very little music or anything to speak of.         0\n",
       "4  The best scene in the movie was when Gerardo i...       1"
      ]
     },
     "execution_count": 54,
     "metadata": {},
     "output_type": "execute_result"
    }
   ],
   "source": [
    "data.head() # I have to recode the above lines after every holdout since it doesn't seem to\n",
    "#keep the 'data' variable clean after coding one. We should talk about why."
   ]
  },
  {
   "cell_type": "code",
   "execution_count": 55,
   "metadata": {
    "collapsed": true
   },
   "outputs": [],
   "source": [
    "# building separate dataframes from the positive and negative reviews\n",
    "pos_data = data[data['rating'] == 1]['message'].reset_index(drop = True)\n",
    "neg_data = data[data['rating'] == 0]['message'].reset_index(drop = True)"
   ]
  },
  {
   "cell_type": "code",
   "execution_count": 56,
   "metadata": {
    "collapsed": true
   },
   "outputs": [],
   "source": [
    "#building dictionaries to find the most common words for each review type\n",
    "pos_dict = {}\n",
    "neg_dict = {}\n",
    "for i in pos_data:\n",
    "    sen = str(i).lower().split(' ')\n",
    "    for word in sen:\n",
    "        if word not in pos_dict:\n",
    "            pos_dict[word] = 1\n",
    "        else:\n",
    "            pos_dict[word] += 1            \n",
    "\n",
    "for i in neg_data:\n",
    "    sen = str(i).lower().split(' ')\n",
    "    for word in sen:\n",
    "        if word not in neg_dict:\n",
    "            neg_dict[word] = 1\n",
    "        else:\n",
    "            neg_dict[word] += 1\n",
    "            "
   ]
  },
  {
   "cell_type": "code",
   "execution_count": 57,
   "metadata": {
    "collapsed": true
   },
   "outputs": [],
   "source": [
    "sorted_pos_dict = sorted(pos_dict.items(), key=operator.itemgetter(1), reverse = True)\n",
    "sorted_neg_dict = sorted(neg_dict.items(), key=operator.itemgetter(1), reverse = True)"
   ]
  },
  {
   "cell_type": "code",
   "execution_count": 58,
   "metadata": {
    "collapsed": true
   },
   "outputs": [],
   "source": [
    "df_pos = pd.DataFrame(sorted_pos_dict)\n",
    "df_pos.columns = ['word', 'count']\n",
    "df_neg = pd.DataFrame(sorted_neg_dict)\n",
    "df_neg.columns = ['word', 'count']"
   ]
  },
  {
   "cell_type": "code",
   "execution_count": 59,
   "metadata": {
    "collapsed": true
   },
   "outputs": [],
   "source": [
    "#merging positive and negative lists to get counts for each\n",
    "posneg_df = pd.merge(df_pos, df_neg, on='word', how='outer')\n",
    "posneg_df.columns = ['word', 'positive', 'negative']\n",
    "\n",
    "#building a dataframe that calculates absolute difference in word appearance counts\n",
    "posneg_df['straight difference'] = abs(posneg_df.positive - posneg_df.negative)\n",
    "\n",
    "#dataframe that calculates ratio difference\n",
    "posneg_df['ratio difference'] = abs((posneg_df.negative / (posneg_df.positive + posneg_df.negative)))"
   ]
  },
  {
   "cell_type": "code",
   "execution_count": 60,
   "metadata": {
    "scrolled": true
   },
   "outputs": [
    {
     "data": {
      "text/html": [
       "<div>\n",
       "<table border=\"1\" class=\"dataframe\">\n",
       "  <thead>\n",
       "    <tr style=\"text-align: right;\">\n",
       "      <th></th>\n",
       "      <th>word</th>\n",
       "      <th>positive</th>\n",
       "      <th>negative</th>\n",
       "      <th>straight difference</th>\n",
       "      <th>ratio difference</th>\n",
       "    </tr>\n",
       "  </thead>\n",
       "  <tbody>\n",
       "    <tr>\n",
       "      <th>0</th>\n",
       "      <td></td>\n",
       "      <td>842.0</td>\n",
       "      <td>910.0</td>\n",
       "      <td>68.0</td>\n",
       "      <td>0.519406</td>\n",
       "    </tr>\n",
       "    <tr>\n",
       "      <th>1</th>\n",
       "      <td>the</td>\n",
       "      <td>388.0</td>\n",
       "      <td>407.0</td>\n",
       "      <td>19.0</td>\n",
       "      <td>0.511950</td>\n",
       "    </tr>\n",
       "    <tr>\n",
       "      <th>2</th>\n",
       "      <td>and</td>\n",
       "      <td>249.0</td>\n",
       "      <td>170.0</td>\n",
       "      <td>79.0</td>\n",
       "      <td>0.405728</td>\n",
       "    </tr>\n",
       "    <tr>\n",
       "      <th>3</th>\n",
       "      <td>a</td>\n",
       "      <td>227.0</td>\n",
       "      <td>200.0</td>\n",
       "      <td>27.0</td>\n",
       "      <td>0.468384</td>\n",
       "    </tr>\n",
       "    <tr>\n",
       "      <th>4</th>\n",
       "      <td>of</td>\n",
       "      <td>184.0</td>\n",
       "      <td>189.0</td>\n",
       "      <td>5.0</td>\n",
       "      <td>0.506702</td>\n",
       "    </tr>\n",
       "  </tbody>\n",
       "</table>\n",
       "</div>"
      ],
      "text/plain": [
       "  word  positive  negative  straight difference  ratio difference\n",
       "0          842.0     910.0                 68.0          0.519406\n",
       "1  the     388.0     407.0                 19.0          0.511950\n",
       "2  and     249.0     170.0                 79.0          0.405728\n",
       "3    a     227.0     200.0                 27.0          0.468384\n",
       "4   of     184.0     189.0                  5.0          0.506702"
      ]
     },
     "execution_count": 60,
     "metadata": {},
     "output_type": "execute_result"
    }
   ],
   "source": [
    "posneg_df.head()"
   ]
  },
  {
   "cell_type": "code",
   "execution_count": 61,
   "metadata": {
    "scrolled": true
   },
   "outputs": [
    {
     "data": {
      "text/html": [
       "<div>\n",
       "<table border=\"1\" class=\"dataframe\">\n",
       "  <thead>\n",
       "    <tr style=\"text-align: right;\">\n",
       "      <th></th>\n",
       "      <th>word</th>\n",
       "      <th>positive</th>\n",
       "      <th>negative</th>\n",
       "      <th>straight difference</th>\n",
       "      <th>ratio difference</th>\n",
       "    </tr>\n",
       "  </thead>\n",
       "  <tbody>\n",
       "    <tr>\n",
       "      <th>67</th>\n",
       "      <td>her</td>\n",
       "      <td>12.0</td>\n",
       "      <td>9.0</td>\n",
       "      <td>3.0</td>\n",
       "      <td>0.428571</td>\n",
       "    </tr>\n",
       "    <tr>\n",
       "      <th>52</th>\n",
       "      <td>when</td>\n",
       "      <td>16.0</td>\n",
       "      <td>9.0</td>\n",
       "      <td>7.0</td>\n",
       "      <td>0.360000</td>\n",
       "    </tr>\n",
       "    <tr>\n",
       "      <th>161</th>\n",
       "      <td>never</td>\n",
       "      <td>6.0</td>\n",
       "      <td>9.0</td>\n",
       "      <td>3.0</td>\n",
       "      <td>0.600000</td>\n",
       "    </tr>\n",
       "    <tr>\n",
       "      <th>69</th>\n",
       "      <td>movies</td>\n",
       "      <td>12.0</td>\n",
       "      <td>9.0</td>\n",
       "      <td>3.0</td>\n",
       "      <td>0.428571</td>\n",
       "    </tr>\n",
       "    <tr>\n",
       "      <th>176</th>\n",
       "      <td>get</td>\n",
       "      <td>5.0</td>\n",
       "      <td>9.0</td>\n",
       "      <td>4.0</td>\n",
       "      <td>0.642857</td>\n",
       "    </tr>\n",
       "    <tr>\n",
       "      <th>60</th>\n",
       "      <td>its</td>\n",
       "      <td>14.0</td>\n",
       "      <td>9.0</td>\n",
       "      <td>5.0</td>\n",
       "      <td>0.391304</td>\n",
       "    </tr>\n",
       "    <tr>\n",
       "      <th>116</th>\n",
       "      <td>films</td>\n",
       "      <td>8.0</td>\n",
       "      <td>9.0</td>\n",
       "      <td>1.0</td>\n",
       "      <td>0.529412</td>\n",
       "    </tr>\n",
       "    <tr>\n",
       "      <th>2247</th>\n",
       "      <td>am</td>\n",
       "      <td>1.0</td>\n",
       "      <td>8.0</td>\n",
       "      <td>7.0</td>\n",
       "      <td>0.888889</td>\n",
       "    </tr>\n",
       "    <tr>\n",
       "      <th>2433</th>\n",
       "      <td>\\t0\\nbut</td>\n",
       "      <td>NaN</td>\n",
       "      <td>8.0</td>\n",
       "      <td>NaN</td>\n",
       "      <td>NaN</td>\n",
       "    </tr>\n",
       "    <tr>\n",
       "      <th>2434</th>\n",
       "      <td>\\t1\\nit</td>\n",
       "      <td>NaN</td>\n",
       "      <td>8.0</td>\n",
       "      <td>NaN</td>\n",
       "      <td>NaN</td>\n",
       "    </tr>\n",
       "    <tr>\n",
       "      <th>1696</th>\n",
       "      <td>line</td>\n",
       "      <td>1.0</td>\n",
       "      <td>8.0</td>\n",
       "      <td>7.0</td>\n",
       "      <td>0.888889</td>\n",
       "    </tr>\n",
       "    <tr>\n",
       "      <th>180</th>\n",
       "      <td>time.</td>\n",
       "      <td>5.0</td>\n",
       "      <td>8.0</td>\n",
       "      <td>3.0</td>\n",
       "      <td>0.615385</td>\n",
       "    </tr>\n",
       "    <tr>\n",
       "      <th>212</th>\n",
       "      <td>been</td>\n",
       "      <td>4.0</td>\n",
       "      <td>8.0</td>\n",
       "      <td>4.0</td>\n",
       "      <td>0.666667</td>\n",
       "    </tr>\n",
       "    <tr>\n",
       "      <th>242</th>\n",
       "      <td>script</td>\n",
       "      <td>4.0</td>\n",
       "      <td>8.0</td>\n",
       "      <td>4.0</td>\n",
       "      <td>0.666667</td>\n",
       "    </tr>\n",
       "    <tr>\n",
       "      <th>124</th>\n",
       "      <td>film,</td>\n",
       "      <td>7.0</td>\n",
       "      <td>8.0</td>\n",
       "      <td>1.0</td>\n",
       "      <td>0.533333</td>\n",
       "    </tr>\n",
       "    <tr>\n",
       "      <th>80</th>\n",
       "      <td>look</td>\n",
       "      <td>10.0</td>\n",
       "      <td>8.0</td>\n",
       "      <td>2.0</td>\n",
       "      <td>0.444444</td>\n",
       "    </tr>\n",
       "    <tr>\n",
       "      <th>65</th>\n",
       "      <td>best</td>\n",
       "      <td>13.0</td>\n",
       "      <td>8.0</td>\n",
       "      <td>5.0</td>\n",
       "      <td>0.380952</td>\n",
       "    </tr>\n",
       "    <tr>\n",
       "      <th>94</th>\n",
       "      <td>into</td>\n",
       "      <td>9.0</td>\n",
       "      <td>8.0</td>\n",
       "      <td>1.0</td>\n",
       "      <td>0.470588</td>\n",
       "    </tr>\n",
       "    <tr>\n",
       "      <th>62</th>\n",
       "      <td>what</td>\n",
       "      <td>13.0</td>\n",
       "      <td>8.0</td>\n",
       "      <td>5.0</td>\n",
       "      <td>0.380952</td>\n",
       "    </tr>\n",
       "    <tr>\n",
       "      <th>115</th>\n",
       "      <td>way</td>\n",
       "      <td>8.0</td>\n",
       "      <td>8.0</td>\n",
       "      <td>0.0</td>\n",
       "      <td>0.500000</td>\n",
       "    </tr>\n",
       "    <tr>\n",
       "      <th>1780</th>\n",
       "      <td>seen.</td>\n",
       "      <td>1.0</td>\n",
       "      <td>7.0</td>\n",
       "      <td>6.0</td>\n",
       "      <td>0.875000</td>\n",
       "    </tr>\n",
       "    <tr>\n",
       "      <th>532</th>\n",
       "      <td>almost</td>\n",
       "      <td>2.0</td>\n",
       "      <td>7.0</td>\n",
       "      <td>5.0</td>\n",
       "      <td>0.777778</td>\n",
       "    </tr>\n",
       "    <tr>\n",
       "      <th>368</th>\n",
       "      <td>thing</td>\n",
       "      <td>3.0</td>\n",
       "      <td>7.0</td>\n",
       "      <td>4.0</td>\n",
       "      <td>0.700000</td>\n",
       "    </tr>\n",
       "    <tr>\n",
       "      <th>366</th>\n",
       "      <td>between</td>\n",
       "      <td>3.0</td>\n",
       "      <td>7.0</td>\n",
       "      <td>4.0</td>\n",
       "      <td>0.700000</td>\n",
       "    </tr>\n",
       "    <tr>\n",
       "      <th>194</th>\n",
       "      <td>i've</td>\n",
       "      <td>4.0</td>\n",
       "      <td>7.0</td>\n",
       "      <td>3.0</td>\n",
       "      <td>0.636364</td>\n",
       "    </tr>\n",
       "    <tr>\n",
       "      <th>64</th>\n",
       "      <td>had</td>\n",
       "      <td>13.0</td>\n",
       "      <td>7.0</td>\n",
       "      <td>6.0</td>\n",
       "      <td>0.350000</td>\n",
       "    </tr>\n",
       "    <tr>\n",
       "      <th>144</th>\n",
       "      <td>it,</td>\n",
       "      <td>6.0</td>\n",
       "      <td>7.0</td>\n",
       "      <td>1.0</td>\n",
       "      <td>0.538462</td>\n",
       "    </tr>\n",
       "    <tr>\n",
       "      <th>262</th>\n",
       "      <td>things</td>\n",
       "      <td>3.0</td>\n",
       "      <td>7.0</td>\n",
       "      <td>4.0</td>\n",
       "      <td>0.700000</td>\n",
       "    </tr>\n",
       "    <tr>\n",
       "      <th>2435</th>\n",
       "      <td>stupid</td>\n",
       "      <td>NaN</td>\n",
       "      <td>7.0</td>\n",
       "      <td>NaN</td>\n",
       "      <td>NaN</td>\n",
       "    </tr>\n",
       "    <tr>\n",
       "      <th>141</th>\n",
       "      <td>say</td>\n",
       "      <td>6.0</td>\n",
       "      <td>7.0</td>\n",
       "      <td>1.0</td>\n",
       "      <td>0.538462</td>\n",
       "    </tr>\n",
       "    <tr>\n",
       "      <th>2436</th>\n",
       "      <td>worse</td>\n",
       "      <td>NaN</td>\n",
       "      <td>7.0</td>\n",
       "      <td>NaN</td>\n",
       "      <td>NaN</td>\n",
       "    </tr>\n",
       "    <tr>\n",
       "      <th>351</th>\n",
       "      <td>here</td>\n",
       "      <td>3.0</td>\n",
       "      <td>7.0</td>\n",
       "      <td>4.0</td>\n",
       "      <td>0.700000</td>\n",
       "    </tr>\n",
       "    <tr>\n",
       "      <th>138</th>\n",
       "      <td>pretty</td>\n",
       "      <td>6.0</td>\n",
       "      <td>7.0</td>\n",
       "      <td>1.0</td>\n",
       "      <td>0.538462</td>\n",
       "    </tr>\n",
       "    <tr>\n",
       "      <th>164</th>\n",
       "      <td>\\t1\\nthe</td>\n",
       "      <td>5.0</td>\n",
       "      <td>7.0</td>\n",
       "      <td>2.0</td>\n",
       "      <td>0.583333</td>\n",
       "    </tr>\n",
       "    <tr>\n",
       "      <th>2437</th>\n",
       "      <td>awful.</td>\n",
       "      <td>NaN</td>\n",
       "      <td>7.0</td>\n",
       "      <td>NaN</td>\n",
       "      <td>NaN</td>\n",
       "    </tr>\n",
       "    <tr>\n",
       "      <th>170</th>\n",
       "      <td>doesn't</td>\n",
       "      <td>5.0</td>\n",
       "      <td>7.0</td>\n",
       "      <td>2.0</td>\n",
       "      <td>0.583333</td>\n",
       "    </tr>\n",
       "    <tr>\n",
       "      <th>77</th>\n",
       "      <td>do</td>\n",
       "      <td>11.0</td>\n",
       "      <td>7.0</td>\n",
       "      <td>4.0</td>\n",
       "      <td>0.388889</td>\n",
       "    </tr>\n",
       "    <tr>\n",
       "      <th>338</th>\n",
       "      <td>can't</td>\n",
       "      <td>3.0</td>\n",
       "      <td>7.0</td>\n",
       "      <td>4.0</td>\n",
       "      <td>0.700000</td>\n",
       "    </tr>\n",
       "    <tr>\n",
       "      <th>329</th>\n",
       "      <td>quite</td>\n",
       "      <td>3.0</td>\n",
       "      <td>7.0</td>\n",
       "      <td>4.0</td>\n",
       "      <td>0.700000</td>\n",
       "    </tr>\n",
       "  </tbody>\n",
       "</table>\n",
       "</div>"
      ],
      "text/plain": [
       "          word  positive  negative  straight difference  ratio difference\n",
       "67         her      12.0       9.0                  3.0          0.428571\n",
       "52        when      16.0       9.0                  7.0          0.360000\n",
       "161      never       6.0       9.0                  3.0          0.600000\n",
       "69      movies      12.0       9.0                  3.0          0.428571\n",
       "176        get       5.0       9.0                  4.0          0.642857\n",
       "60         its      14.0       9.0                  5.0          0.391304\n",
       "116      films       8.0       9.0                  1.0          0.529412\n",
       "2247        am       1.0       8.0                  7.0          0.888889\n",
       "2433  \\t0\\nbut       NaN       8.0                  NaN               NaN\n",
       "2434   \\t1\\nit       NaN       8.0                  NaN               NaN\n",
       "1696      line       1.0       8.0                  7.0          0.888889\n",
       "180      time.       5.0       8.0                  3.0          0.615385\n",
       "212       been       4.0       8.0                  4.0          0.666667\n",
       "242     script       4.0       8.0                  4.0          0.666667\n",
       "124      film,       7.0       8.0                  1.0          0.533333\n",
       "80        look      10.0       8.0                  2.0          0.444444\n",
       "65        best      13.0       8.0                  5.0          0.380952\n",
       "94        into       9.0       8.0                  1.0          0.470588\n",
       "62        what      13.0       8.0                  5.0          0.380952\n",
       "115        way       8.0       8.0                  0.0          0.500000\n",
       "1780     seen.       1.0       7.0                  6.0          0.875000\n",
       "532     almost       2.0       7.0                  5.0          0.777778\n",
       "368      thing       3.0       7.0                  4.0          0.700000\n",
       "366    between       3.0       7.0                  4.0          0.700000\n",
       "194       i've       4.0       7.0                  3.0          0.636364\n",
       "64         had      13.0       7.0                  6.0          0.350000\n",
       "144        it,       6.0       7.0                  1.0          0.538462\n",
       "262     things       3.0       7.0                  4.0          0.700000\n",
       "2435    stupid       NaN       7.0                  NaN               NaN\n",
       "141        say       6.0       7.0                  1.0          0.538462\n",
       "2436     worse       NaN       7.0                  NaN               NaN\n",
       "351       here       3.0       7.0                  4.0          0.700000\n",
       "138     pretty       6.0       7.0                  1.0          0.538462\n",
       "164   \\t1\\nthe       5.0       7.0                  2.0          0.583333\n",
       "2437    awful.       NaN       7.0                  NaN               NaN\n",
       "170    doesn't       5.0       7.0                  2.0          0.583333\n",
       "77          do      11.0       7.0                  4.0          0.388889\n",
       "338      can't       3.0       7.0                  4.0          0.700000\n",
       "329      quite       3.0       7.0                  4.0          0.700000"
      ]
     },
     "execution_count": 61,
     "metadata": {},
     "output_type": "execute_result"
    }
   ],
   "source": [
    "# I used a lot of the words high on this list figuring the larger the difference in usage\n",
    "# the more effect it would have on the predictive value of the model\n",
    "posneg_df.sort_values(by = 'negative', ascending = False)[101:140]"
   ]
  },
  {
   "cell_type": "code",
   "execution_count": 62,
   "metadata": {},
   "outputs": [
    {
     "data": {
      "text/html": [
       "<div>\n",
       "<table border=\"1\" class=\"dataframe\">\n",
       "  <thead>\n",
       "    <tr style=\"text-align: right;\">\n",
       "      <th></th>\n",
       "      <th>message</th>\n",
       "      <th>rating</th>\n",
       "    </tr>\n",
       "  </thead>\n",
       "  <tbody>\n",
       "    <tr>\n",
       "      <th>0</th>\n",
       "      <td>A very, very, very slow-moving, aimless movie ...</td>\n",
       "      <td>0</td>\n",
       "    </tr>\n",
       "    <tr>\n",
       "      <th>1</th>\n",
       "      <td>Not sure who was more lost - the flat characte...</td>\n",
       "      <td>0</td>\n",
       "    </tr>\n",
       "    <tr>\n",
       "      <th>2</th>\n",
       "      <td>Attempting artiness with black &amp; white and cle...</td>\n",
       "      <td>0</td>\n",
       "    </tr>\n",
       "    <tr>\n",
       "      <th>3</th>\n",
       "      <td>Very little music or anything to speak of.</td>\n",
       "      <td>0</td>\n",
       "    </tr>\n",
       "    <tr>\n",
       "      <th>4</th>\n",
       "      <td>The best scene in the movie was when Gerardo i...</td>\n",
       "      <td>1</td>\n",
       "    </tr>\n",
       "  </tbody>\n",
       "</table>\n",
       "</div>"
      ],
      "text/plain": [
       "                                             message  rating\n",
       "0  A very, very, very slow-moving, aimless movie ...       0\n",
       "1  Not sure who was more lost - the flat characte...       0\n",
       "2  Attempting artiness with black & white and cle...       0\n",
       "3       Very little music or anything to speak of.         0\n",
       "4  The best scene in the movie was when Gerardo i...       1"
      ]
     },
     "execution_count": 62,
     "metadata": {},
     "output_type": "execute_result"
    }
   ],
   "source": [
    "data.head()"
   ]
  },
  {
   "cell_type": "code",
   "execution_count": 63,
   "metadata": {
    "scrolled": false
   },
   "outputs": [
    {
     "name": "stderr",
     "output_type": "stream",
     "text": [
      "/Library/Frameworks/Python.framework/Versions/3.5/lib/python3.5/site-packages/ipykernel_launcher.py:35: SettingWithCopyWarning: \n",
      "A value is trying to be set on a copy of a slice from a DataFrame.\n",
      "Try using .loc[row_indexer,col_indexer] = value instead\n",
      "\n",
      "See the caveats in the documentation: http://pandas.pydata.org/pandas-docs/stable/indexing.html#indexing-view-versus-copy\n",
      "/Library/Frameworks/Python.framework/Versions/3.5/lib/python3.5/site-packages/ipykernel_launcher.py:38: SettingWithCopyWarning: \n",
      "A value is trying to be set on a copy of a slice from a DataFrame.\n",
      "Try using .loc[row_indexer,col_indexer] = value instead\n",
      "\n",
      "See the caveats in the documentation: http://pandas.pydata.org/pandas-docs/stable/indexing.html#indexing-view-versus-copy\n"
     ]
    },
    {
     "name": "stdout",
     "output_type": "stream",
     "text": [
      "Training accuracy out of a total of 598 reviews : 0.717391304347826\n",
      "Test accuracy out of a total of 150 reviews : 0.7133333333333334\n"
     ]
    }
   ],
   "source": [
    "# Building my keyword list\n",
    "train1 = train\n",
    "test1 = test\n",
    "\n",
    "keywords_mine = ['and',\n",
    "            'even',\n",
    "            'good',\n",
    "            'plot',\n",
    "            'enjoy',\n",
    "            'best', #not very strong\n",
    "            'love',\n",
    "            'cool', #also pretty weak\n",
    "            'awesome',\n",
    "            'film',\n",
    "            'for',\n",
    "            'is',\n",
    "            'was',\n",
    "            'i',\n",
    "            'not',\n",
    "            'a',\n",
    "            'to',\n",
    "            'just',\n",
    "            'know',\n",
    "            'wonderful',\n",
    "            'only',\n",
    "            'great',\n",
    "            'bad.',\n",
    "            'waste',\n",
    "            'like',\n",
    "            'really',\n",
    "            'excellent',\n",
    "           ]\n",
    "for key in keywords_mine:\n",
    "    train1[str(key)] = train1.message.str.contains(\n",
    "        str(key), case = False #getting rid of the spaces in order to find words at beginning or end of sentences\n",
    "    )\n",
    "    test1[str(key)] = test1.message.str.contains(\n",
    "        str(key), case = False #getting rid of the spaces in order to find words at beginning or end of sentences\n",
    "    )\n",
    "    \n",
    "# Pretty light correlation outside of 'was' and 'waste' from from the sentence 'this \n",
    "# movie was a waste of time'\n",
    "\n",
    "train_x = train1[keywords_mine]\n",
    "train_y = train1['rating']\n",
    "\n",
    "test_x = test1[keywords_mine]\n",
    "test_y = test1['rating']\n",
    "\n",
    "#creating an instantiating variable for the BernoulliNB\n",
    "bnb1 = BernoulliNB()\n",
    "\n",
    "bnb1.fit(train_x, train_y)\n",
    "\n",
    "y_pred_train = bnb1.predict(train_x)\n",
    "y_pred_test = bnb1.predict(test_x)\n",
    "\n",
    "print(\"Training accuracy out of a total of {} reviews : {}\".format(\n",
    "    train_x.shape[0],\n",
    "    (train_y == y_pred_train).sum()/train_x.shape[0])\n",
    ")\n",
    "\n",
    "print(\"Test accuracy out of a total of {} reviews : {}\".format(\n",
    "    test_x.shape[0],\n",
    "    (test_y == y_pred_test).sum()/test_x.shape[0])\n",
    ")"
   ]
  },
  {
   "cell_type": "code",
   "execution_count": 64,
   "metadata": {},
   "outputs": [
    {
     "data": {
      "text/plain": [
       "<matplotlib.axes._subplots.AxesSubplot at 0x10acd5b38>"
      ]
     },
     "execution_count": 64,
     "metadata": {},
     "output_type": "execute_result"
    },
    {
     "data": {
      "image/png": "[encoded data removed]",
      "text/plain": [
       "<matplotlib.figure.Figure at 0x10acd8710>"
      ]
     },
     "metadata": {},
     "output_type": "display_data"
    }
   ],
   "source": [
    "plt.figure(figsize = (20,10))\n",
    "sns.heatmap(train1.corr())"
   ]
  },
  {
   "cell_type": "code",
   "execution_count": 65,
   "metadata": {},
   "outputs": [],
   "source": [
    "train, test = train_test_split(data, test_size = .2, random_state = 1)"
   ]
  },
  {
   "cell_type": "code",
   "execution_count": 66,
   "metadata": {
    "scrolled": true
   },
   "outputs": [
    {
     "name": "stderr",
     "output_type": "stream",
     "text": [
      "/Library/Frameworks/Python.framework/Versions/3.5/lib/python3.5/site-packages/ipykernel_launcher.py:34: SettingWithCopyWarning: \n",
      "A value is trying to be set on a copy of a slice from a DataFrame.\n",
      "Try using .loc[row_indexer,col_indexer] = value instead\n",
      "\n",
      "See the caveats in the documentation: http://pandas.pydata.org/pandas-docs/stable/indexing.html#indexing-view-versus-copy\n",
      "/Library/Frameworks/Python.framework/Versions/3.5/lib/python3.5/site-packages/ipykernel_launcher.py:37: SettingWithCopyWarning: \n",
      "A value is trying to be set on a copy of a slice from a DataFrame.\n",
      "Try using .loc[row_indexer,col_indexer] = value instead\n",
      "\n",
      "See the caveats in the documentation: http://pandas.pydata.org/pandas-docs/stable/indexing.html#indexing-view-versus-copy\n"
     ]
    },
    {
     "name": "stdout",
     "output_type": "stream",
     "text": [
      "Training accuracy out of a total of 598 reviews : 0.6939799331103679\n",
      "Test accuracy out of a total of 150 reviews : 0.6466666666666666\n"
     ]
    }
   ],
   "source": [
    "# Building a keyword list based on the straight difference count\n",
    "train2 = train\n",
    "test2 = test\n",
    "\n",
    "keywords_straight_diff = ['and',\n",
    "    'is',\n",
    "    'was',\n",
    "    'bad',\n",
    "    'a',\n",
    "    'to',\n",
    "    'just',\n",
    "    'even',\n",
    "    'i',\n",
    "    'the',\n",
    "    'no',\n",
    "    'that',\n",
    "    'how',\n",
    "    'in',\n",
    "    'for',\n",
    "    \"didn't\",\n",
    "    'good',\n",
    "    'plot',\n",
    "    'would',\n",
    "    'wonderful',\n",
    "    'only',\n",
    "    'there',\n",
    "    '\\t\\ni',\n",
    "    'it',\n",
    "    'great'\n",
    "]\n",
    "                          \n",
    "for key in keywords_straight_diff:\n",
    "    train2[str(key)] = train2.message.str.contains(\n",
    "        str(key), case = False #getting rid of the spaces in order to find words at beginning or end of sentences\n",
    "    )\n",
    "    test2[str(key)] = test2.message.str.contains(\n",
    "        str(key), case = False #getting rid of the spaces in order to find words at beginning or end of sentences\n",
    "    )\n",
    "\n",
    "train2_x = train2[keywords_straight_diff]\n",
    "train2_y = train2['rating']\n",
    "\n",
    "test2_x = test2[keywords_straight_diff]\n",
    "test2_y = test2['rating']\n",
    "\n",
    "#creating an instantiating variable for the BernoulliNB\n",
    "bnb2 = BernoulliNB()\n",
    "\n",
    "bnb2.fit(train2_x, train2_y)\n",
    "\n",
    "y_pred2_train = bnb2.predict(train2_x)\n",
    "y_pred2_test = bnb2.predict(test2_x)\n",
    "\n",
    "print(\"Training accuracy out of a total of {} reviews : {}\".format(\n",
    "    train2_x.shape[0],\n",
    "    (train2_y == y_pred2_train).sum()/train2_x.shape[0])\n",
    ")\n",
    "\n",
    "print(\"Test accuracy out of a total of {} reviews : {}\".format(\n",
    "    test2_x.shape[0],\n",
    "    (test2_y == y_pred2_test).sum()/test2_x.shape[0])\n",
    ")\n",
    "\n",
    "#print(confusion_matrix(target2, y_pred2))"
   ]
  },
  {
   "cell_type": "code",
   "execution_count": 67,
   "metadata": {},
   "outputs": [
    {
     "data": {
      "text/plain": [
       "<matplotlib.axes._subplots.AxesSubplot at 0x10bdcd978>"
      ]
     },
     "execution_count": 67,
     "metadata": {},
     "output_type": "execute_result"
    },
    {
     "data": {
      "image/png": "[encoded data removed]",
      "text/plain": [
       "<matplotlib.figure.Figure at 0x10b7a5320>"
      ]
     },
     "metadata": {},
     "output_type": "display_data"
    }
   ],
   "source": [
    "plt.figure(figsize = (20,10))\n",
    "sns.heatmap(train2.corr())"
   ]
  },
  {
   "cell_type": "code",
   "execution_count": 68,
   "metadata": {},
   "outputs": [],
   "source": [
    "train, test = train_test_split(data, test_size = .2, random_state = 1)"
   ]
  },
  {
   "cell_type": "code",
   "execution_count": 69,
   "metadata": {
    "scrolled": false
   },
   "outputs": [
    {
     "name": "stderr",
     "output_type": "stream",
     "text": [
      "/Library/Frameworks/Python.framework/Versions/3.5/lib/python3.5/site-packages/ipykernel_launcher.py:33: SettingWithCopyWarning: \n",
      "A value is trying to be set on a copy of a slice from a DataFrame.\n",
      "Try using .loc[row_indexer,col_indexer] = value instead\n",
      "\n",
      "See the caveats in the documentation: http://pandas.pydata.org/pandas-docs/stable/indexing.html#indexing-view-versus-copy\n",
      "/Library/Frameworks/Python.framework/Versions/3.5/lib/python3.5/site-packages/ipykernel_launcher.py:36: SettingWithCopyWarning: \n",
      "A value is trying to be set on a copy of a slice from a DataFrame.\n",
      "Try using .loc[row_indexer,col_indexer] = value instead\n",
      "\n",
      "See the caveats in the documentation: http://pandas.pydata.org/pandas-docs/stable/indexing.html#indexing-view-versus-copy\n"
     ]
    },
    {
     "name": "stdout",
     "output_type": "stream",
     "text": [
      "Training accuracy out of a total of 598 reviews : 0.6705685618729097\n",
      "Test accuracy out of a total of 150 reviews : 0.6266666666666667\n"
     ]
    }
   ],
   "source": [
    "# Building a keyword list based on the ratio difference count\n",
    "train3 = train\n",
    "test3 = test\n",
    "\n",
    "keywords_ratio_diff = ['waste',\n",
    "                      'show',\n",
    "                      'nothing',\n",
    "                      'am',\n",
    "                      'line',\n",
    "                      'bad',\n",
    "                      '\\t\\ni',\n",
    "                      'seen.',\n",
    "                      \"didn't\",\n",
    "                      'plot',\n",
    "                      'work',\n",
    "                      'especially',\n",
    "                      'half',\n",
    "                      'terrible,',\n",
    "                      \"i'm\",\n",
    "                      'lacks',\n",
    "                      'films',\n",
    "                      'would',\n",
    "                      'even',\n",
    "                      'beyond',\n",
    "                      'predictable',\n",
    "                      'why',\n",
    "                      'funny.',\n",
    "                      'well,'\n",
    "]\n",
    "                          \n",
    "for key in keywords_ratio_diff:\n",
    "    train3[str(key)] = train3.message.str.contains(\n",
    "        str(key), case = False #getting rid of the spaces in order to find words at beginning or end of sentences\n",
    "    )\n",
    "    test3[str(key)] = test3.message.str.contains(\n",
    "        str(key), case = False #getting rid of the spaces in order to find words at beginning or end of sentences\n",
    "    )\n",
    "\n",
    "train3_x = train3[keywords_ratio_diff]\n",
    "train3_y = train3['rating']\n",
    "\n",
    "test3_x = test3[keywords_ratio_diff]\n",
    "test3_y = test3['rating']\n",
    "\n",
    "#creating an instantiating variable for the BernoulliNB\n",
    "bnb3 = BernoulliNB()\n",
    "\n",
    "bnb3.fit(train3_x, train3_y)\n",
    "\n",
    "y_pred3_train = bnb3.predict(train3_x)\n",
    "y_pred3_test = bnb3.predict(test3_x)\n",
    "\n",
    "print(\"Training accuracy out of a total of {} reviews : {}\".format(\n",
    "    train3_x.shape[0],\n",
    "    (train3_y == y_pred3_train).sum()/train3_x.shape[0])\n",
    ")\n",
    "\n",
    "print(\"Test accuracy out of a total of {} reviews : {}\".format(\n",
    "    test3_x.shape[0],\n",
    "    (test3_y == y_pred3_test).sum()/test3_x.shape[0])\n",
    ")"
   ]
  },
  {
   "cell_type": "code",
   "execution_count": 70,
   "metadata": {
    "scrolled": false
   },
   "outputs": [
    {
     "data": {
      "text/plain": [
       "<matplotlib.axes._subplots.AxesSubplot at 0x10d05bc88>"
      ]
     },
     "execution_count": 70,
     "metadata": {},
     "output_type": "execute_result"
    },
    {
     "data": {
      "image/png": "[encoded data removed]",
      "text/plain": [
       "<matplotlib.figure.Figure at 0x10cc09c88>"
      ]
     },
     "metadata": {},
     "output_type": "display_data"
    }
   ],
   "source": [
    "plt.figure(figsize = (20,10))\n",
    "sns.heatmap(data3.corr())"
   ]
  },
  {
   "cell_type": "code",
   "execution_count": 71,
   "metadata": {
    "collapsed": true
   },
   "outputs": [],
   "source": [
    "train, test = train_test_split(data, test_size = .2, random_state = 1)"
   ]
  },
  {
   "cell_type": "code",
   "execution_count": 72,
   "metadata": {
    "scrolled": false
   },
   "outputs": [
    {
     "name": "stderr",
     "output_type": "stream",
     "text": [
      "/Library/Frameworks/Python.framework/Versions/3.5/lib/python3.5/site-packages/ipykernel_launcher.py:31: SettingWithCopyWarning: \n",
      "A value is trying to be set on a copy of a slice from a DataFrame.\n",
      "Try using .loc[row_indexer,col_indexer] = value instead\n",
      "\n",
      "See the caveats in the documentation: http://pandas.pydata.org/pandas-docs/stable/indexing.html#indexing-view-versus-copy\n",
      "/Library/Frameworks/Python.framework/Versions/3.5/lib/python3.5/site-packages/ipykernel_launcher.py:34: SettingWithCopyWarning: \n",
      "A value is trying to be set on a copy of a slice from a DataFrame.\n",
      "Try using .loc[row_indexer,col_indexer] = value instead\n",
      "\n",
      "See the caveats in the documentation: http://pandas.pydata.org/pandas-docs/stable/indexing.html#indexing-view-versus-copy\n"
     ]
    },
    {
     "name": "stdout",
     "output_type": "stream",
     "text": [
      "Training accuracy out of a total of 598 reviews : 0.6521739130434783\n",
      "Test accuracy out of a total of 150 reviews : 0.62\n"
     ]
    }
   ],
   "source": [
    "# Building a keyword list based on the most common positive words that are not base words\n",
    "# base words being your (a, the, if, or, and type words)\n",
    "train4 = train\n",
    "test4 = test\n",
    "\n",
    "keywords_pos_words = [\n",
    "    'movie',\n",
    "    'film',\n",
    "    'good',\n",
    "    'great',\n",
    "    'like',\n",
    "    'more',\n",
    "    'wonderful',\n",
    "    'best',\n",
    "    'love',\n",
    "    'character',\n",
    "    'worth',\n",
    "    'excellent',\n",
    "    'recommend',\n",
    "    'interesting',\n",
    "    'enjoyed',\n",
    "    'well.',\n",
    "    '10',\n",
    "    'it!',\n",
    "    'special',\n",
    "    'perfect'\n",
    "]\n",
    "                          \n",
    "for key in keywords_pos_words:\n",
    "    train4[str(key)] = train4.message.str.contains(\n",
    "        str(key), case = False #getting rid of the spaces in order to find words at beginning or end of sentences\n",
    "    )\n",
    "    test4[str(key)] = test4.message.str.contains(\n",
    "        str(key), case = False #getting rid of the spaces in order to find words at beginning or end of sentences\n",
    "    )\n",
    "\n",
    "train4_x = train4[keywords_pos_words]\n",
    "train4_y = train4['rating']\n",
    "\n",
    "test4_x = test[keywords_pos_words]\n",
    "test4_y = test['rating']\n",
    "\n",
    "#creating an instantiating variable for the BernoulliNB\n",
    "bnb4 = BernoulliNB()\n",
    "\n",
    "bnb4.fit(train4_x, train4_y)\n",
    "\n",
    "y_pred4_train = bnb4.predict(train4_x)\n",
    "y_pred4_test = bnb4.predict(test4_x)\n",
    "\n",
    "print(\"Training accuracy out of a total of {} reviews : {}\".format(\n",
    "    train4_x.shape[0],\n",
    "    (train4_y == y_pred4_train).sum()/train4_x.shape[0])\n",
    ")\n",
    "\n",
    "print(\"Test accuracy out of a total of {} reviews : {}\".format(\n",
    "    test4_x.shape[0],\n",
    "    (test4_y == y_pred4_test).sum()/test4_x.shape[0])\n",
    ")"
   ]
  },
  {
   "cell_type": "code",
   "execution_count": 73,
   "metadata": {
    "scrolled": false
   },
   "outputs": [
    {
     "data": {
      "text/plain": [
       "<matplotlib.axes._subplots.AxesSubplot at 0x10d3a2898>"
      ]
     },
     "execution_count": 73,
     "metadata": {},
     "output_type": "execute_result"
    },
    {
     "data": {
      "image/png": "[encoded data removed]",
      "text/plain": [
       "<matplotlib.figure.Figure at 0x10d3ba898>"
      ]
     },
     "metadata": {},
     "output_type": "display_data"
    }
   ],
   "source": [
    "plt.figure(figsize = (20,10))\n",
    "sns.heatmap(train4.corr())"
   ]
  },
  {
   "cell_type": "code",
   "execution_count": 74,
   "metadata": {},
   "outputs": [],
   "source": [
    "train, test = train_test_split(data, test_size = .2, random_state = 1)"
   ]
  },
  {
   "cell_type": "code",
   "execution_count": 75,
   "metadata": {},
   "outputs": [
    {
     "name": "stderr",
     "output_type": "stream",
     "text": [
      "/Library/Frameworks/Python.framework/Versions/3.5/lib/python3.5/site-packages/ipykernel_launcher.py:28: SettingWithCopyWarning: \n",
      "A value is trying to be set on a copy of a slice from a DataFrame.\n",
      "Try using .loc[row_indexer,col_indexer] = value instead\n",
      "\n",
      "See the caveats in the documentation: http://pandas.pydata.org/pandas-docs/stable/indexing.html#indexing-view-versus-copy\n",
      "/Library/Frameworks/Python.framework/Versions/3.5/lib/python3.5/site-packages/ipykernel_launcher.py:31: SettingWithCopyWarning: \n",
      "A value is trying to be set on a copy of a slice from a DataFrame.\n",
      "Try using .loc[row_indexer,col_indexer] = value instead\n",
      "\n",
      "See the caveats in the documentation: http://pandas.pydata.org/pandas-docs/stable/indexing.html#indexing-view-versus-copy\n"
     ]
    },
    {
     "name": "stdout",
     "output_type": "stream",
     "text": [
      "Training accuracy out of a total of 598 reviews : 0.6956521739130435\n",
      "Test accuracy out of a total of 150 reviews : 0.6866666666666666\n"
     ]
    }
   ],
   "source": [
    "# Building a keyword list based on the most common negative words that are not base words\n",
    "# base words being your (a, the, if, or, and type words)\n",
    "train5 = train\n",
    "test5 = test\n",
    "\n",
    "keywords_neg_words = [\n",
    "    'movie',\n",
    "    'just',\n",
    "    'bad',\n",
    "    'even',\n",
    "    'no',\n",
    "    'only',\n",
    "    'plot',\n",
    "    \"didn't\",\n",
    "    'how',\n",
    "    'your',\n",
    "    'waste',\n",
    "    'little',\n",
    "    'nothing',\n",
    "    'worst',\n",
    "    'stupid',\n",
    "    'worse',\n",
    "    'awful'\n",
    "]\n",
    "                          \n",
    "for key in keywords_neg_words:\n",
    "    train5[str(key)] = train5.message.str.contains(\n",
    "        str(key), case = False #getting rid of the spaces in order to find words at beginning or end of sentences\n",
    "    )\n",
    "    test5[str(key)] = test5.message.str.contains(\n",
    "        str(key), case = False #getting rid of the spaces in order to find words at beginning or end of sentences\n",
    "    )\n",
    "\n",
    "train5_x = train5[keywords_neg_words]\n",
    "train5_y = train5['rating']\n",
    "\n",
    "test5_x = test5[keywords_neg_words]\n",
    "test5_y = test5['rating']\n",
    "\n",
    "#creating an instantiating variable for the BernoulliNB\n",
    "bnb5 = BernoulliNB()\n",
    "\n",
    "bnb5.fit(train5_x, train5_y)\n",
    "\n",
    "y_pred5_train = bnb5.predict(train5_x)\n",
    "y_pred5_test = bnb5.predict(test5_x)\n",
    "\n",
    "print(\"Training accuracy out of a total of {} reviews : {}\".format(\n",
    "    train5_x.shape[0],\n",
    "    (train5_y == y_pred5_train).sum()/train5_x.shape[0])\n",
    ")\n",
    "\n",
    "print(\"Test accuracy out of a total of {} reviews : {}\".format(\n",
    "    test5_x.shape[0],\n",
    "    (test5_y == y_pred5_test).sum()/test5_x.shape[0])\n",
    ")"
   ]
  },
  {
   "cell_type": "code",
   "execution_count": 76,
   "metadata": {
    "scrolled": false
   },
   "outputs": [
    {
     "data": {
      "text/plain": [
       "<matplotlib.axes._subplots.AxesSubplot at 0x10e03c2e8>"
      ]
     },
     "execution_count": 76,
     "metadata": {},
     "output_type": "execute_result"
    },
    {
     "data": {
      "image/png": "[encoded data removed]",
      "text/plain": [
       "<matplotlib.figure.Figure at 0x10e034be0>"
      ]
     },
     "metadata": {},
     "output_type": "display_data"
    }
   ],
   "source": [
    "plt.figure(figsize = (20,10))\n",
    "sns.heatmap(train5.corr())"
   ]
  },
  {
   "cell_type": "code",
   "execution_count": null,
   "metadata": {
    "scrolled": true
   },
   "outputs": [],
   "source": []
  },
  {
   "cell_type": "markdown",
   "metadata": {},
   "source": [
    "## Do any of your classifiers seem to overfit?\n",
    "\n",
    "The only classifier that might have some overfitting was the 'straight difference' classifier. The rest only performed marginally better on the training set vs the test set."
   ]
  },
  {
   "cell_type": "markdown",
   "metadata": {},
   "source": [
    "## Which seem to perform the best and why?\n",
    "\n",
    "Based on accuracy measures, my Keywords had the best predictive value. Surprisingly the ratio and straight difference models were not very different in accuracy levels and the negative words model was the second strongest at prediction although it was still very similar to the other four."
   ]
  },
  {
   "cell_type": "markdown",
   "metadata": {},
   "source": [
    "## What features seem to be most impactful to performance\n",
    "\n",
    "Based on the accuracy scores and the eye test it seems that accurately predicting negative reviews is easier than positive ones. This makes some sense when you think of who writes reviews. Normally if you have a good experience it isn't worthy of writing a positive review but people who have any sort of negative experience(think Yelp) are much more likely to share their experiences/vent about it."
   ]
  },
  {
   "cell_type": "code",
   "execution_count": null,
   "metadata": {
    "collapsed": true
   },
   "outputs": [],
   "source": []
  }
 ],
 "metadata": {
  "kernelspec": {
   "display_name": "Python 3",
   "language": "python",
   "name": "python3"
  },
  "language_info": {
   "codemirror_mode": {
    "name": "ipython",
    "version": 3
   },
   "file_extension": ".py",
   "mimetype": "text/x-python",
   "name": "python",
   "nbconvert_exporter": "python",
   "pygments_lexer": "ipython3",
   "version": "3.5.2"
  }
 },
 "nbformat": 4,
 "nbformat_minor": 2
}

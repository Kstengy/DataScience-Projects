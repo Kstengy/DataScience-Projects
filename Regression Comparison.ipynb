{
 "cells": [
  {
   "cell_type": "code",
   "execution_count": 2,
   "metadata": {
    "collapsed": true
   },
   "outputs": [],
   "source": [
    "import pandas as pd\n",
    "import numpy as np\n",
    "import seaborn as sns\n",
    "import matplotlib.pyplot as plt\n",
    "%matplotlib inline"
   ]
  },
  {
   "cell_type": "code",
   "execution_count": 3,
   "metadata": {
    "collapsed": true
   },
   "outputs": [],
   "source": [
    "concrete = pd.read_excel('concrete_Data.xls')"
   ]
  },
  {
   "cell_type": "code",
   "execution_count": 4,
   "metadata": {
    "collapsed": true
   },
   "outputs": [],
   "source": [
    "concrete.columns = ['Cement', \n",
    "                    'Blast Furnace Slag', \n",
    "                    'Fly Ash', 'Water', \n",
    "                    'Superplasticizer', \n",
    "                    'Coarse Aggregate',\n",
    "                    'Fine Aggregate', \n",
    "                    'Age',\n",
    "                    'Compressive Strength']"
   ]
  },
  {
   "cell_type": "code",
   "execution_count": 5,
   "metadata": {},
   "outputs": [
    {
     "data": {
      "text/html": [
       "<div>\n",
       "<style>\n",
       "    .dataframe thead tr:only-child th {\n",
       "        text-align: right;\n",
       "    }\n",
       "\n",
       "    .dataframe thead th {\n",
       "        text-align: left;\n",
       "    }\n",
       "\n",
       "    .dataframe tbody tr th {\n",
       "        vertical-align: top;\n",
       "    }\n",
       "</style>\n",
       "<table border=\"1\" class=\"dataframe\">\n",
       "  <thead>\n",
       "    <tr style=\"text-align: right;\">\n",
       "      <th></th>\n",
       "      <th>Cement</th>\n",
       "      <th>Blast Furnace Slag</th>\n",
       "      <th>Fly Ash</th>\n",
       "      <th>Water</th>\n",
       "      <th>Superplasticizer</th>\n",
       "      <th>Coarse Aggregate</th>\n",
       "      <th>Fine Aggregate</th>\n",
       "      <th>Age</th>\n",
       "      <th>Compressive Strength</th>\n",
       "    </tr>\n",
       "  </thead>\n",
       "  <tbody>\n",
       "    <tr>\n",
       "      <th>0</th>\n",
       "      <td>540.0</td>\n",
       "      <td>0.0</td>\n",
       "      <td>0.0</td>\n",
       "      <td>162.0</td>\n",
       "      <td>2.5</td>\n",
       "      <td>1040.0</td>\n",
       "      <td>676.0</td>\n",
       "      <td>28</td>\n",
       "      <td>79.986111</td>\n",
       "    </tr>\n",
       "    <tr>\n",
       "      <th>1</th>\n",
       "      <td>540.0</td>\n",
       "      <td>0.0</td>\n",
       "      <td>0.0</td>\n",
       "      <td>162.0</td>\n",
       "      <td>2.5</td>\n",
       "      <td>1055.0</td>\n",
       "      <td>676.0</td>\n",
       "      <td>28</td>\n",
       "      <td>61.887366</td>\n",
       "    </tr>\n",
       "    <tr>\n",
       "      <th>2</th>\n",
       "      <td>332.5</td>\n",
       "      <td>142.5</td>\n",
       "      <td>0.0</td>\n",
       "      <td>228.0</td>\n",
       "      <td>0.0</td>\n",
       "      <td>932.0</td>\n",
       "      <td>594.0</td>\n",
       "      <td>270</td>\n",
       "      <td>40.269535</td>\n",
       "    </tr>\n",
       "    <tr>\n",
       "      <th>3</th>\n",
       "      <td>332.5</td>\n",
       "      <td>142.5</td>\n",
       "      <td>0.0</td>\n",
       "      <td>228.0</td>\n",
       "      <td>0.0</td>\n",
       "      <td>932.0</td>\n",
       "      <td>594.0</td>\n",
       "      <td>365</td>\n",
       "      <td>41.052780</td>\n",
       "    </tr>\n",
       "    <tr>\n",
       "      <th>4</th>\n",
       "      <td>198.6</td>\n",
       "      <td>132.4</td>\n",
       "      <td>0.0</td>\n",
       "      <td>192.0</td>\n",
       "      <td>0.0</td>\n",
       "      <td>978.4</td>\n",
       "      <td>825.5</td>\n",
       "      <td>360</td>\n",
       "      <td>44.296075</td>\n",
       "    </tr>\n",
       "  </tbody>\n",
       "</table>\n",
       "</div>"
      ],
      "text/plain": [
       "   Cement  Blast Furnace Slag  Fly Ash  Water  Superplasticizer  \\\n",
       "0   540.0                 0.0      0.0  162.0               2.5   \n",
       "1   540.0                 0.0      0.0  162.0               2.5   \n",
       "2   332.5               142.5      0.0  228.0               0.0   \n",
       "3   332.5               142.5      0.0  228.0               0.0   \n",
       "4   198.6               132.4      0.0  192.0               0.0   \n",
       "\n",
       "   Coarse Aggregate  Fine Aggregate  Age  Compressive Strength  \n",
       "0            1040.0           676.0   28             79.986111  \n",
       "1            1055.0           676.0   28             61.887366  \n",
       "2             932.0           594.0  270             40.269535  \n",
       "3             932.0           594.0  365             41.052780  \n",
       "4             978.4           825.5  360             44.296075  "
      ]
     },
     "execution_count": 5,
     "metadata": {},
     "output_type": "execute_result"
    }
   ],
   "source": [
    "concrete.head()"
   ]
  },
  {
   "cell_type": "code",
   "execution_count": 6,
   "metadata": {},
   "outputs": [
    {
     "data": {
      "text/html": [
       "<div>\n",
       "<style>\n",
       "    .dataframe thead tr:only-child th {\n",
       "        text-align: right;\n",
       "    }\n",
       "\n",
       "    .dataframe thead th {\n",
       "        text-align: left;\n",
       "    }\n",
       "\n",
       "    .dataframe tbody tr th {\n",
       "        vertical-align: top;\n",
       "    }\n",
       "</style>\n",
       "<table border=\"1\" class=\"dataframe\">\n",
       "  <thead>\n",
       "    <tr style=\"text-align: right;\">\n",
       "      <th></th>\n",
       "      <th>Cement</th>\n",
       "      <th>Blast Furnace Slag</th>\n",
       "      <th>Fly Ash</th>\n",
       "      <th>Water</th>\n",
       "      <th>Superplasticizer</th>\n",
       "      <th>Coarse Aggregate</th>\n",
       "      <th>Fine Aggregate</th>\n",
       "      <th>Age</th>\n",
       "      <th>Compressive Strength</th>\n",
       "    </tr>\n",
       "  </thead>\n",
       "  <tbody>\n",
       "    <tr>\n",
       "      <th>count</th>\n",
       "      <td>1030.000000</td>\n",
       "      <td>1030.000000</td>\n",
       "      <td>1030.000000</td>\n",
       "      <td>1030.000000</td>\n",
       "      <td>1030.000000</td>\n",
       "      <td>1030.000000</td>\n",
       "      <td>1030.000000</td>\n",
       "      <td>1030.000000</td>\n",
       "      <td>1030.000000</td>\n",
       "    </tr>\n",
       "    <tr>\n",
       "      <th>mean</th>\n",
       "      <td>281.165631</td>\n",
       "      <td>73.895485</td>\n",
       "      <td>54.187136</td>\n",
       "      <td>181.566359</td>\n",
       "      <td>6.203112</td>\n",
       "      <td>972.918592</td>\n",
       "      <td>773.578883</td>\n",
       "      <td>45.662136</td>\n",
       "      <td>35.817836</td>\n",
       "    </tr>\n",
       "    <tr>\n",
       "      <th>std</th>\n",
       "      <td>104.507142</td>\n",
       "      <td>86.279104</td>\n",
       "      <td>63.996469</td>\n",
       "      <td>21.355567</td>\n",
       "      <td>5.973492</td>\n",
       "      <td>77.753818</td>\n",
       "      <td>80.175427</td>\n",
       "      <td>63.169912</td>\n",
       "      <td>16.705679</td>\n",
       "    </tr>\n",
       "    <tr>\n",
       "      <th>min</th>\n",
       "      <td>102.000000</td>\n",
       "      <td>0.000000</td>\n",
       "      <td>0.000000</td>\n",
       "      <td>121.750000</td>\n",
       "      <td>0.000000</td>\n",
       "      <td>801.000000</td>\n",
       "      <td>594.000000</td>\n",
       "      <td>1.000000</td>\n",
       "      <td>2.331808</td>\n",
       "    </tr>\n",
       "    <tr>\n",
       "      <th>25%</th>\n",
       "      <td>192.375000</td>\n",
       "      <td>0.000000</td>\n",
       "      <td>0.000000</td>\n",
       "      <td>164.900000</td>\n",
       "      <td>0.000000</td>\n",
       "      <td>932.000000</td>\n",
       "      <td>730.950000</td>\n",
       "      <td>7.000000</td>\n",
       "      <td>23.707115</td>\n",
       "    </tr>\n",
       "    <tr>\n",
       "      <th>50%</th>\n",
       "      <td>272.900000</td>\n",
       "      <td>22.000000</td>\n",
       "      <td>0.000000</td>\n",
       "      <td>185.000000</td>\n",
       "      <td>6.350000</td>\n",
       "      <td>968.000000</td>\n",
       "      <td>779.510000</td>\n",
       "      <td>28.000000</td>\n",
       "      <td>34.442774</td>\n",
       "    </tr>\n",
       "    <tr>\n",
       "      <th>75%</th>\n",
       "      <td>350.000000</td>\n",
       "      <td>142.950000</td>\n",
       "      <td>118.270000</td>\n",
       "      <td>192.000000</td>\n",
       "      <td>10.160000</td>\n",
       "      <td>1029.400000</td>\n",
       "      <td>824.000000</td>\n",
       "      <td>56.000000</td>\n",
       "      <td>46.136287</td>\n",
       "    </tr>\n",
       "    <tr>\n",
       "      <th>max</th>\n",
       "      <td>540.000000</td>\n",
       "      <td>359.400000</td>\n",
       "      <td>200.100000</td>\n",
       "      <td>247.000000</td>\n",
       "      <td>32.200000</td>\n",
       "      <td>1145.000000</td>\n",
       "      <td>992.600000</td>\n",
       "      <td>365.000000</td>\n",
       "      <td>82.599225</td>\n",
       "    </tr>\n",
       "  </tbody>\n",
       "</table>\n",
       "</div>"
      ],
      "text/plain": [
       "            Cement  Blast Furnace Slag      Fly Ash        Water  \\\n",
       "count  1030.000000         1030.000000  1030.000000  1030.000000   \n",
       "mean    281.165631           73.895485    54.187136   181.566359   \n",
       "std     104.507142           86.279104    63.996469    21.355567   \n",
       "min     102.000000            0.000000     0.000000   121.750000   \n",
       "25%     192.375000            0.000000     0.000000   164.900000   \n",
       "50%     272.900000           22.000000     0.000000   185.000000   \n",
       "75%     350.000000          142.950000   118.270000   192.000000   \n",
       "max     540.000000          359.400000   200.100000   247.000000   \n",
       "\n",
       "       Superplasticizer  Coarse Aggregate  Fine Aggregate          Age  \\\n",
       "count       1030.000000       1030.000000     1030.000000  1030.000000   \n",
       "mean           6.203112        972.918592      773.578883    45.662136   \n",
       "std            5.973492         77.753818       80.175427    63.169912   \n",
       "min            0.000000        801.000000      594.000000     1.000000   \n",
       "25%            0.000000        932.000000      730.950000     7.000000   \n",
       "50%            6.350000        968.000000      779.510000    28.000000   \n",
       "75%           10.160000       1029.400000      824.000000    56.000000   \n",
       "max           32.200000       1145.000000      992.600000   365.000000   \n",
       "\n",
       "       Compressive Strength  \n",
       "count           1030.000000  \n",
       "mean              35.817836  \n",
       "std               16.705679  \n",
       "min                2.331808  \n",
       "25%               23.707115  \n",
       "50%               34.442774  \n",
       "75%               46.136287  \n",
       "max               82.599225  "
      ]
     },
     "execution_count": 6,
     "metadata": {},
     "output_type": "execute_result"
    }
   ],
   "source": [
    "concrete.describe()"
   ]
  },
  {
   "cell_type": "code",
   "execution_count": 7,
   "metadata": {},
   "outputs": [
    {
     "data": {
      "text/plain": [
       "<matplotlib.axes._subplots.AxesSubplot at 0x109dbdb70>"
      ]
     },
     "execution_count": 7,
     "metadata": {},
     "output_type": "execute_result"
    },
    {
     "data": {
      "image/png": "[encoded data removed]",
      "text/plain": [
       "<matplotlib.figure.Figure at 0x109ddee10>"
      ]
     },
     "metadata": {},
     "output_type": "display_data"
    }
   ],
   "source": [
    "sns.heatmap(concrete.corr())"
   ]
  },
  {
   "cell_type": "code",
   "execution_count": 40,
   "metadata": {},
   "outputs": [
    {
     "data": {
      "text/plain": [
       "<seaborn.axisgrid.FacetGrid at 0x10ad5a978>"
      ]
     },
     "execution_count": 40,
     "metadata": {},
     "output_type": "execute_result"
    },
    {
     "data": {
      "image/png": "[encoded data removed]",
      "text/plain": [
       "<matplotlib.figure.Figure at 0x10aeb71d0>"
      ]
     },
     "metadata": {},
     "output_type": "display_data"
    }
   ],
   "source": [
    "sns.lmplot(x = 'Cement', y = 'Compressive Strength', data = concrete)\n",
    "#plt.scatter(concrete['Cement'], concrete['Compressive Strength'])"
   ]
  },
  {
   "cell_type": "markdown",
   "metadata": {},
   "source": [
    "This is a quick scatter plot to show the most correlated input variable to the output variable...as you can see it's a pretty low correlation. "
   ]
  },
  {
   "cell_type": "markdown",
   "metadata": {},
   "source": [
    "# Building Models\n",
    "\n",
    "I'm going to start with every feature being used in the model and take them out one by one(in reverse correlation order) in an attempt to find the best mix."
   ]
  },
  {
   "cell_type": "code",
   "execution_count": 70,
   "metadata": {
    "scrolled": true
   },
   "outputs": [
    {
     "name": "stdout",
     "output_type": "stream",
     "text": [
      "Cement                  0.497833\n",
      "Blast Furnace Slag      0.134824\n",
      "Fly Ash                -0.105753\n",
      "Water                  -0.289613\n",
      "Superplasticizer        0.366102\n",
      "Coarse Aggregate       -0.164928\n",
      "Fine Aggregate         -0.167249\n",
      "Age                     0.328877\n",
      "Compressive Strength    1.000000\n",
      "Name: Compressive Strength, dtype: float64\n"
     ]
    }
   ],
   "source": [
    "print(concrete.corr()['Compressive Strength'])"
   ]
  },
  {
   "cell_type": "markdown",
   "metadata": {},
   "source": [
    "In order of strength of correlation(highest to lowest):\n",
    "    Cement\n",
    "    Superplasticizer\n",
    "    Age\n",
    "    Water\n",
    "    Fine Aggregate\n",
    "    Coarse Aggregate\n",
    "    Blast Furnace Slag\n",
    "    Fly Ash"
   ]
  },
  {
   "cell_type": "code",
   "execution_count": 107,
   "metadata": {},
   "outputs": [
    {
     "name": "stdout",
     "output_type": "stream",
     "text": [
      "Coefficients: \n",
      " [ 0.74935083  0.53633543  0.33689422 -0.19213209  0.10394166  0.0839185\n",
      "  0.09672711  0.43192631]\n",
      "Intercept: \n",
      " 2.56701955226e-16\n",
      "\n",
      "R-squared: \n",
      " 0.615464734269\n"
     ]
    },
    {
     "name": "stderr",
     "output_type": "stream",
     "text": [
      "/Library/Frameworks/Python.framework/Versions/3.5/lib/python3.5/site-packages/sklearn/preprocessing/data.py:586: DeprecationWarning: Passing 1d arrays as data is deprecated in 0.17 and will raise ValueError in 0.19. Reshape your data either using X.reshape(-1, 1) if your data has a single feature or X.reshape(1, -1) if it contains a single sample.\n",
      "  warnings.warn(DEPRECATION_MSG_1D, DeprecationWarning)\n",
      "/Library/Frameworks/Python.framework/Versions/3.5/lib/python3.5/site-packages/sklearn/preprocessing/data.py:649: DeprecationWarning: Passing 1d arrays as data is deprecated in 0.17 and will raise ValueError in 0.19. Reshape your data either using X.reshape(-1, 1) if your data has a single feature or X.reshape(1, -1) if it contains a single sample.\n",
      "  warnings.warn(DEPRECATION_MSG_1D, DeprecationWarning)\n"
     ]
    }
   ],
   "source": [
    "#Building a Linear Regression model\n",
    "from sklearn import linear_model\n",
    "from sklearn.metrics import r2_score\n",
    "from sklearn.preprocessing import StandardScaler\n",
    "\n",
    "StScale = StandardScaler()\n",
    "\n",
    "X = concrete[['Cement', 'Blast Furnace Slag', 'Fly Ash', 'Water', \n",
    "              'Superplasticizer', 'Coarse Aggregate','Fine Aggregate', 'Age']]\n",
    "Y = concrete['Compressive Strength']\n",
    "\n",
    "X_scaled = StScale.fit_transform(X)\n",
    "Y_scaled = StScale.fit_transform(Y)\n",
    "\n",
    "regr = linear_model.LinearRegression()\n",
    "regr.fit(X_scaled,Y_scaled)\n",
    "\n",
    "print('Coefficients: \\n', regr.coef_)\n",
    "print('Intercept: \\n', regr.intercept_)\n",
    "print('\\nR-squared: \\n', regr.score(X_scaled,Y_scaled))"
   ]
  },
  {
   "cell_type": "markdown",
   "metadata": {},
   "source": [
    "With all features thrown in the R-Squared is at .615, a significant upgrade from my limited features option"
   ]
  },
  {
   "cell_type": "code",
   "execution_count": 108,
   "metadata": {},
   "outputs": [
    {
     "name": "stdout",
     "output_type": "stream",
     "text": [
      "R-Squared Value: 0.37 (+/- 0.95)\n"
     ]
    }
   ],
   "source": [
    "#Building a KNN Regression model\n",
    "from sklearn import neighbors\n",
    "from sklearn.model_selection import cross_val_score\n",
    "\n",
    "knn1 = neighbors.KNeighborsRegressor(n_neighbors = 9, weights = 'distance')\n",
    "knn.fit(X_scaled,Y_scaled)\n",
    "\n",
    "\n",
    "score = cross_val_score(knn, X_scaled, Y_scaled, cv=10)\n",
    "print('R-Squared Value: {} (+/- {})'.format(round(score.mean(),2), round(score.std()*2,2)))\n"
   ]
  },
  {
   "cell_type": "markdown",
   "metadata": {},
   "source": [
    "With all features thrown in the R-Squared for the KNN model dropped significantly from 0.5 to 0.35. And this was the highest it went after lowering the neighbhors from 10 to 9"
   ]
  },
  {
   "cell_type": "markdown",
   "metadata": {},
   "source": [
    "### Taking out Fly Ash"
   ]
  },
  {
   "cell_type": "code",
   "execution_count": 109,
   "metadata": {
    "scrolled": true
   },
   "outputs": [
    {
     "name": "stdout",
     "output_type": "stream",
     "text": [
      "OLS Linear Regression\n",
      "R-squared: \n",
      " 0.597073978884\n",
      "<><><><><><><><><><><><><><><><><><><><><><><><><><><><><><><><><><><><><><><><><><><><><><><><><><>\n",
      "KNN Regression\n",
      "R-Squared Value: \n",
      " 0.39 (+/- 0.81)\n"
     ]
    },
    {
     "name": "stderr",
     "output_type": "stream",
     "text": [
      "/Library/Frameworks/Python.framework/Versions/3.5/lib/python3.5/site-packages/sklearn/preprocessing/data.py:586: DeprecationWarning: Passing 1d arrays as data is deprecated in 0.17 and will raise ValueError in 0.19. Reshape your data either using X.reshape(-1, 1) if your data has a single feature or X.reshape(1, -1) if it contains a single sample.\n",
      "  warnings.warn(DEPRECATION_MSG_1D, DeprecationWarning)\n",
      "/Library/Frameworks/Python.framework/Versions/3.5/lib/python3.5/site-packages/sklearn/preprocessing/data.py:649: DeprecationWarning: Passing 1d arrays as data is deprecated in 0.17 and will raise ValueError in 0.19. Reshape your data either using X.reshape(-1, 1) if your data has a single feature or X.reshape(1, -1) if it contains a single sample.\n",
      "  warnings.warn(DEPRECATION_MSG_1D, DeprecationWarning)\n"
     ]
    }
   ],
   "source": [
    "X = concrete[['Cement', 'Blast Furnace Slag', 'Water', \n",
    "              'Superplasticizer', 'Coarse Aggregate','Fine Aggregate', 'Age']]\n",
    "Y = concrete['Compressive Strength']\n",
    "\n",
    "X_scaled = StScale.fit_transform(X)\n",
    "Y_scaled = StScale.fit_transform(Y)\n",
    "\n",
    "regr = linear_model.LinearRegression()\n",
    "regr.fit(X_scaled,Y_scaled)\n",
    "\n",
    "print('OLS Linear Regression')\n",
    "print('R-squared: \\n', regr.score(X_scaled,Y_scaled))\n",
    "print('<>'*50)\n",
    "knn = neighbors.KNeighborsRegressor(n_neighbors = 15, weights = 'distance')\n",
    "knn.fit(X_scaled,Y_scaled)\n",
    "\n",
    "\n",
    "score = cross_val_score(knn, X_scaled, Y_scaled, cv=10)\n",
    "print('KNN Regression')\n",
    "print('R-Squared Value: \\n {} (+/- {})'.format(round(score.mean(),2), round(score.std()*2,2)))"
   ]
  },
  {
   "cell_type": "markdown",
   "metadata": {},
   "source": [
    "When Fly Ash was removed as a feature the OLS model went down in accuracy while the KNN model was able to improve slightly after raising the number of neighbors to 15."
   ]
  },
  {
   "cell_type": "markdown",
   "metadata": {},
   "source": [
    "### Taking out Fly Ash and Blast Furnace Slag"
   ]
  },
  {
   "cell_type": "code",
   "execution_count": 120,
   "metadata": {
    "scrolled": true
   },
   "outputs": [
    {
     "name": "stdout",
     "output_type": "stream",
     "text": [
      "OLS Linear Regression\n",
      "R-squared: \n",
      " 0.570613946314\n",
      "<><><><><><><><><><><><><><><><><><><><><><><><><><><><><><><><><><><><><><><><><><><><><><><><><><>\n",
      "KNN Regression\n",
      "R-Squared Value: \n",
      " 0.43 (+/- 0.67)\n"
     ]
    },
    {
     "name": "stderr",
     "output_type": "stream",
     "text": [
      "/Library/Frameworks/Python.framework/Versions/3.5/lib/python3.5/site-packages/sklearn/preprocessing/data.py:586: DeprecationWarning: Passing 1d arrays as data is deprecated in 0.17 and will raise ValueError in 0.19. Reshape your data either using X.reshape(-1, 1) if your data has a single feature or X.reshape(1, -1) if it contains a single sample.\n",
      "  warnings.warn(DEPRECATION_MSG_1D, DeprecationWarning)\n",
      "/Library/Frameworks/Python.framework/Versions/3.5/lib/python3.5/site-packages/sklearn/preprocessing/data.py:649: DeprecationWarning: Passing 1d arrays as data is deprecated in 0.17 and will raise ValueError in 0.19. Reshape your data either using X.reshape(-1, 1) if your data has a single feature or X.reshape(1, -1) if it contains a single sample.\n",
      "  warnings.warn(DEPRECATION_MSG_1D, DeprecationWarning)\n"
     ]
    }
   ],
   "source": [
    "X = concrete[['Cement', 'Water', 'Superplasticizer', \n",
    "              'Coarse Aggregate','Fine Aggregate', 'Age']]\n",
    "Y = concrete['Compressive Strength']\n",
    "\n",
    "X_scaled = StScale.fit_transform(X)\n",
    "Y_scaled = StScale.fit_transform(Y)\n",
    "\n",
    "regr = linear_model.LinearRegression()\n",
    "regr.fit(X_scaled,Y_scaled)\n",
    "\n",
    "print('OLS Linear Regression')\n",
    "print('R-squared: \\n', regr.score(X_scaled,Y_scaled))\n",
    "print('<>'*50)\n",
    "knn = neighbors.KNeighborsRegressor(n_neighbors = 18, weights = 'distance')\n",
    "knn.fit(X_scaled,Y_scaled)\n",
    "\n",
    "\n",
    "score = cross_val_score(knn, X_scaled, Y_scaled, cv=10)\n",
    "print('KNN Regression')\n",
    "print('R-Squared Value: \\n {} (+/- {})'.format(round(score.mean(),2), round(score.std()*2,2)))"
   ]
  },
  {
   "cell_type": "markdown",
   "metadata": {},
   "source": [
    "It is clear that the OLS model will continue to get worse as more features(regardless how of how little they correlate) are taken out. Moving forward I will only continue to alter the KNN model.\n",
    "\n",
    "Also, in bumping up the n_neighbors to 18 I was able to keep R-Squared the same while lowering the +/- score."
   ]
  },
  {
   "cell_type": "markdown",
   "metadata": {},
   "source": [
    "### Taking out Fly Ash, Blast Furnace Slag and Course Aggregate"
   ]
  },
  {
   "cell_type": "code",
   "execution_count": 128,
   "metadata": {
    "scrolled": true
   },
   "outputs": [
    {
     "name": "stdout",
     "output_type": "stream",
     "text": [
      "KNN Regression\n",
      "R-Squared Value: \n",
      " 0.51 (+/- 0.61)\n"
     ]
    },
    {
     "name": "stderr",
     "output_type": "stream",
     "text": [
      "/Library/Frameworks/Python.framework/Versions/3.5/lib/python3.5/site-packages/sklearn/preprocessing/data.py:586: DeprecationWarning: Passing 1d arrays as data is deprecated in 0.17 and will raise ValueError in 0.19. Reshape your data either using X.reshape(-1, 1) if your data has a single feature or X.reshape(1, -1) if it contains a single sample.\n",
      "  warnings.warn(DEPRECATION_MSG_1D, DeprecationWarning)\n",
      "/Library/Frameworks/Python.framework/Versions/3.5/lib/python3.5/site-packages/sklearn/preprocessing/data.py:649: DeprecationWarning: Passing 1d arrays as data is deprecated in 0.17 and will raise ValueError in 0.19. Reshape your data either using X.reshape(-1, 1) if your data has a single feature or X.reshape(1, -1) if it contains a single sample.\n",
      "  warnings.warn(DEPRECATION_MSG_1D, DeprecationWarning)\n"
     ]
    }
   ],
   "source": [
    "X = concrete[['Cement', 'Water', 'Superplasticizer',\n",
    "              'Fine Aggregate', 'Age']]\n",
    "Y = concrete['Compressive Strength']\n",
    "\n",
    "X_scaled = StScale.fit_transform(X)\n",
    "Y_scaled = StScale.fit_transform(Y)\n",
    "\n",
    "knn = neighbors.KNeighborsRegressor(n_neighbors = 8, weights = 'distance')\n",
    "knn.fit(X_scaled,Y_scaled)\n",
    "\n",
    "\n",
    "score = cross_val_score(knn, X_scaled, Y_scaled, cv=10)\n",
    "print('KNN Regression')\n",
    "print('R-Squared Value: \\n {} (+/- {})'.format(round(score.mean(),2), round(score.std()*2,2)))"
   ]
  },
  {
   "cell_type": "markdown",
   "metadata": {},
   "source": [
    "Again the KNN model continues to rise in accuracy(R-Squared) when less correlated features are removed. The accuracy was also able to get up over .5 by lowering the neighbors to 8."
   ]
  },
  {
   "cell_type": "markdown",
   "metadata": {},
   "source": [
    "### Taking out Fly Ash, Blast Furnace Slag, Course Aggregate and Fine Aggregate"
   ]
  },
  {
   "cell_type": "code",
   "execution_count": 133,
   "metadata": {},
   "outputs": [
    {
     "name": "stdout",
     "output_type": "stream",
     "text": [
      "KNN Regression\n",
      "R-Squared Value: \n",
      " 0.52 (+/- 0.55)\n"
     ]
    },
    {
     "name": "stderr",
     "output_type": "stream",
     "text": [
      "/Library/Frameworks/Python.framework/Versions/3.5/lib/python3.5/site-packages/sklearn/preprocessing/data.py:586: DeprecationWarning: Passing 1d arrays as data is deprecated in 0.17 and will raise ValueError in 0.19. Reshape your data either using X.reshape(-1, 1) if your data has a single feature or X.reshape(1, -1) if it contains a single sample.\n",
      "  warnings.warn(DEPRECATION_MSG_1D, DeprecationWarning)\n",
      "/Library/Frameworks/Python.framework/Versions/3.5/lib/python3.5/site-packages/sklearn/preprocessing/data.py:649: DeprecationWarning: Passing 1d arrays as data is deprecated in 0.17 and will raise ValueError in 0.19. Reshape your data either using X.reshape(-1, 1) if your data has a single feature or X.reshape(1, -1) if it contains a single sample.\n",
      "  warnings.warn(DEPRECATION_MSG_1D, DeprecationWarning)\n"
     ]
    }
   ],
   "source": [
    "X = concrete[['Cement', 'Water', 'Superplasticizer', 'Age']]\n",
    "Y = concrete['Compressive Strength']\n",
    "\n",
    "X_scaled = StScale.fit_transform(X)\n",
    "Y_scaled = StScale.fit_transform(Y)\n",
    "\n",
    "knn = neighbors.KNeighborsRegressor(n_neighbors = 9, weights = 'distance')\n",
    "knn.fit(X_scaled,Y_scaled)\n",
    "\n",
    "\n",
    "score = cross_val_score(knn, X_scaled, Y_scaled, cv=10)\n",
    "print('KNN Regression')\n",
    "print('R-Squared Value: \\n {} (+/- {})'.format(round(score.mean(),2), round(score.std()*2,2)))"
   ]
  },
  {
   "cell_type": "markdown",
   "metadata": {},
   "source": [
    "With an increase of one neighbor the R-Squared did rise incrimentally and the +/- was lowered but it was a much less significant rise in R-Squared compared to removal of previous features. "
   ]
  },
  {
   "cell_type": "markdown",
   "metadata": {},
   "source": [
    "### Taking out Fly Ash, Blast Furnace Slag, Course and Fine Aggregate and Water"
   ]
  },
  {
   "cell_type": "code",
   "execution_count": 142,
   "metadata": {},
   "outputs": [
    {
     "name": "stdout",
     "output_type": "stream",
     "text": [
      "KNN Regression\n",
      "R-Squared Value: \n",
      " 0.5 (+/- 0.43)\n"
     ]
    },
    {
     "name": "stderr",
     "output_type": "stream",
     "text": [
      "/Library/Frameworks/Python.framework/Versions/3.5/lib/python3.5/site-packages/sklearn/preprocessing/data.py:586: DeprecationWarning: Passing 1d arrays as data is deprecated in 0.17 and will raise ValueError in 0.19. Reshape your data either using X.reshape(-1, 1) if your data has a single feature or X.reshape(1, -1) if it contains a single sample.\n",
      "  warnings.warn(DEPRECATION_MSG_1D, DeprecationWarning)\n",
      "/Library/Frameworks/Python.framework/Versions/3.5/lib/python3.5/site-packages/sklearn/preprocessing/data.py:649: DeprecationWarning: Passing 1d arrays as data is deprecated in 0.17 and will raise ValueError in 0.19. Reshape your data either using X.reshape(-1, 1) if your data has a single feature or X.reshape(1, -1) if it contains a single sample.\n",
      "  warnings.warn(DEPRECATION_MSG_1D, DeprecationWarning)\n"
     ]
    }
   ],
   "source": [
    "X = concrete[['Cement', 'Superplasticizer', 'Age']]\n",
    "Y = concrete['Compressive Strength']\n",
    "\n",
    "X_scaled = StScale.fit_transform(X)\n",
    "Y_scaled = StScale.fit_transform(Y)\n",
    "\n",
    "knn = neighbors.KNeighborsRegressor(n_neighbors = 15, weights = 'distance')\n",
    "knn.fit(X_scaled,Y_scaled)\n",
    "\n",
    "\n",
    "score = cross_val_score(knn, X_scaled, Y_scaled, cv=10)\n",
    "print('KNN Regression')\n",
    "print('R-Squared Value: \\n {} (+/- {})'.format(round(score.mean(),2), round(score.std()*2,2)))"
   ]
  },
  {
   "cell_type": "markdown",
   "metadata": {},
   "source": [
    "Going back up to 15 neighbors was the only way to get the R-Squared score back up to .5 which means that the 4 features I originally chose were the ideal feature mix for the KNN regression model and any more or less would result in a less effective model."
   ]
  },
  {
   "cell_type": "markdown",
   "metadata": {},
   "source": [
    "# Takeways\n",
    "\n",
    "If looking simply at R-Squared scores, both models were pretty poor predictors of compression strength. That being said the data did me no favors and considering how little correlation even the good features had to the predicted variable they might even be considered strong models. \n",
    "\n",
    "When thinking about the differences between these two types of regression models the biggest thing to stand out was how feature number affected the R-Squared. It makes sense for OLS. Even for features that are not super correlated, as long as there is any correlation whatsoever it will make the actual regression line more accurate so it is in the best interest to keep all features in that model. As for the KNN model, when features start to have little or no correlation to the predicted variable the ability for that feature's 'neighbors' to provide a meaningful are lessened. Similarly when you reach the ideal mix of features and then go past that(by adding or removing another feature) it also lowers the predictive power. \n",
    "\n",
    "I plotted the R-Squared of both models against the number of features below. It would be interesting to retry this comparison with features I built vs simply using the data as is."
   ]
  },
  {
   "cell_type": "code",
   "execution_count": 157,
   "metadata": {},
   "outputs": [
    {
     "data": {
      "image/png": "[encoded data removed]",
      "text/plain": [
       "<matplotlib.figure.Figure at 0x10b852ac8>"
      ]
     },
     "metadata": {},
     "output_type": "display_data"
    }
   ],
   "source": [
    "Feats = [1,2,3,4,5,6,7,8]\n",
    "OLS_R = [.248, .351, .482, .499, .532, .571, .597, .615]\n",
    "KNN_R = [-.57, -.3, .5, .52, .51, .43, .39, .37]\n",
    "\n",
    "plt.plot(Feats, KNN_R, color = 'red')\n",
    "plt.plot(Feats, OLS_R, color = 'blue')\n",
    "plt.xlabel('Number of Features')\n",
    "plt.ylabel('R-Squared Score')\n",
    "plt.legend(['KNN', 'OLS'])\n",
    "plt.title('Regression Model Comparison')\n",
    "plt.show()"
   ]
  },
  {
   "cell_type": "code",
   "execution_count": null,
   "metadata": {},
   "outputs": [],
   "source": []
  },
  {
   "cell_type": "code",
   "execution_count": null,
   "metadata": {
    "collapsed": true
   },
   "outputs": [],
   "source": []
  }
 ],
 "metadata": {
  "kernelspec": {
   "display_name": "Python 3",
   "language": "python",
   "name": "python3"
  },
  "language_info": {
   "codemirror_mode": {
    "name": "ipython",
    "version": 3
   },
   "file_extension": ".py",
   "mimetype": "text/x-python",
   "name": "python",
   "nbconvert_exporter": "python",
   "pygments_lexer": "ipython3",
   "version": "3.5.2"
  }
 },
 "nbformat": 4,
 "nbformat_minor": 2
}

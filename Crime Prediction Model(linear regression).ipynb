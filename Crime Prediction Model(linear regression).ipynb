{
 "cells": [
  {
   "cell_type": "code",
   "execution_count": 2,
   "metadata": {
    "collapsed": true
   },
   "outputs": [],
   "source": [
    "import pandas as pd\n",
    "import numpy as np\n",
    "import matplotlib.pyplot as plt \n",
    "import scipy\n",
    "import sklearn\n",
    "from sklearn import linear_model\n",
    "from sklearn.metrics import r2_score\n",
    "import seaborn as sns\n",
    "%matplotlib inline"
   ]
  },
  {
   "cell_type": "code",
   "execution_count": 3,
   "metadata": {
    "collapsed": true
   },
   "outputs": [],
   "source": [
    "crime = pd.read_excel('new_york_crime_by_city_2013.xls')\n",
    "df_crime = pd.DataFrame.from_dict(crime)\n",
    "df_crime = df_crime.drop('Rape\\n(revised\\ndefinition)1', 1)\n",
    "df_crime.columns = ['City', 'Population', 'Violent_Crime', 'Murder', 'Rape', 'Robbery', 'Aggravated_Assault',\n",
    "                   'Property_Crime', 'Burglary', 'Larceny_Theft', 'Motor_Vehicle_Theft', 'Arson']"
   ]
  },
  {
   "cell_type": "code",
   "execution_count": 4,
   "metadata": {
    "collapsed": true,
    "scrolled": true
   },
   "outputs": [],
   "source": [
    "df_crime = df_crime[['Population', 'Murder', 'Robbery', 'Property_Crime']].dropna()\n",
    "\n",
    "#print(df_crime.columns)"
   ]
  },
  {
   "cell_type": "code",
   "execution_count": 5,
   "metadata": {
    "collapsed": true
   },
   "outputs": [],
   "source": [
    "#creating a squared column for population\n",
    "df_crime['population_2'] = (df_crime['Population']**2)\n",
    "\n",
    "#creating a binary column for murder\n",
    "df_crime['Murder_Feature'] = 0\n",
    "df_crime.loc[\n",
    "    (df_crime['Murder'] > 0),\n",
    "    'Murder_Feature'\n",
    "] = 1\n",
    "\n",
    "#creating a binary column for robbery\n",
    "df_crime['Robbery_Feature'] = 0\n",
    "df_crime.loc[\n",
    "    (df_crime.Robbery > 0),\n",
    "    'Robbery_Feature'\n",
    "] = 1\n",
    "\n",
    "#creating a column to wrangle the population differences\n",
    "df_crime['Major_City'] = 0\n",
    "df_crime.loc[\n",
    "    (df_crime.Population > 40000),\n",
    "    'Major_City'\n",
    "] = 1"
   ]
  },
  {
   "cell_type": "code",
   "execution_count": 6,
   "metadata": {
    "scrolled": true
   },
   "outputs": [
    {
     "data": {
      "text/html": [
       "<div>\n",
       "<style>\n",
       "    .dataframe thead tr:only-child th {\n",
       "        text-align: right;\n",
       "    }\n",
       "\n",
       "    .dataframe thead th {\n",
       "        text-align: left;\n",
       "    }\n",
       "\n",
       "    .dataframe tbody tr th {\n",
       "        vertical-align: top;\n",
       "    }\n",
       "</style>\n",
       "<table border=\"1\" class=\"dataframe\">\n",
       "  <thead>\n",
       "    <tr style=\"text-align: right;\">\n",
       "      <th></th>\n",
       "      <th>Population</th>\n",
       "      <th>Murder</th>\n",
       "      <th>Robbery</th>\n",
       "      <th>Property_Crime</th>\n",
       "      <th>population_2</th>\n",
       "      <th>Murder_Feature</th>\n",
       "      <th>Robbery_Feature</th>\n",
       "      <th>Major_City</th>\n",
       "    </tr>\n",
       "  </thead>\n",
       "  <tbody>\n",
       "    <tr>\n",
       "      <th>0</th>\n",
       "      <td>1861.0</td>\n",
       "      <td>0.0</td>\n",
       "      <td>0.0</td>\n",
       "      <td>12.0</td>\n",
       "      <td>3.463321e+06</td>\n",
       "      <td>0</td>\n",
       "      <td>0</td>\n",
       "      <td>0</td>\n",
       "    </tr>\n",
       "    <tr>\n",
       "      <th>1</th>\n",
       "      <td>2577.0</td>\n",
       "      <td>0.0</td>\n",
       "      <td>0.0</td>\n",
       "      <td>24.0</td>\n",
       "      <td>6.640929e+06</td>\n",
       "      <td>0</td>\n",
       "      <td>0</td>\n",
       "      <td>0</td>\n",
       "    </tr>\n",
       "    <tr>\n",
       "      <th>2</th>\n",
       "      <td>2846.0</td>\n",
       "      <td>0.0</td>\n",
       "      <td>0.0</td>\n",
       "      <td>16.0</td>\n",
       "      <td>8.099716e+06</td>\n",
       "      <td>0</td>\n",
       "      <td>0</td>\n",
       "      <td>0</td>\n",
       "    </tr>\n",
       "    <tr>\n",
       "      <th>3</th>\n",
       "      <td>97956.0</td>\n",
       "      <td>8.0</td>\n",
       "      <td>227.0</td>\n",
       "      <td>4090.0</td>\n",
       "      <td>9.595378e+09</td>\n",
       "      <td>1</td>\n",
       "      <td>1</td>\n",
       "      <td>1</td>\n",
       "    </tr>\n",
       "    <tr>\n",
       "      <th>4</th>\n",
       "      <td>6388.0</td>\n",
       "      <td>0.0</td>\n",
       "      <td>4.0</td>\n",
       "      <td>223.0</td>\n",
       "      <td>4.080654e+07</td>\n",
       "      <td>0</td>\n",
       "      <td>1</td>\n",
       "      <td>0</td>\n",
       "    </tr>\n",
       "  </tbody>\n",
       "</table>\n",
       "</div>"
      ],
      "text/plain": [
       "   Population  Murder  Robbery  Property_Crime  population_2  Murder_Feature  \\\n",
       "0      1861.0     0.0      0.0            12.0  3.463321e+06               0   \n",
       "1      2577.0     0.0      0.0            24.0  6.640929e+06               0   \n",
       "2      2846.0     0.0      0.0            16.0  8.099716e+06               0   \n",
       "3     97956.0     8.0    227.0          4090.0  9.595378e+09               1   \n",
       "4      6388.0     0.0      4.0           223.0  4.080654e+07               0   \n",
       "\n",
       "   Robbery_Feature  Major_City  \n",
       "0                0           0  \n",
       "1                0           0  \n",
       "2                0           0  \n",
       "3                1           1  \n",
       "4                1           0  "
      ]
     },
     "execution_count": 6,
     "metadata": {},
     "output_type": "execute_result"
    }
   ],
   "source": [
    "df_crime.head()"
   ]
  },
  {
   "cell_type": "code",
   "execution_count": 7,
   "metadata": {},
   "outputs": [
    {
     "data": {
      "text/plain": [
       "count    3.480000e+02\n",
       "mean     4.003763e+04\n",
       "std      4.500374e+05\n",
       "min      5.260000e+02\n",
       "25%      3.003000e+03\n",
       "50%      7.233500e+03\n",
       "75%      1.842750e+04\n",
       "max      8.396126e+06\n",
       "Name: Population, dtype: float64"
      ]
     },
     "execution_count": 7,
     "metadata": {},
     "output_type": "execute_result"
    }
   ],
   "source": [
    "df_crime.Population.describe()"
   ]
  },
  {
   "cell_type": "code",
   "execution_count": 8,
   "metadata": {
    "scrolled": true
   },
   "outputs": [
    {
     "data": {
      "text/plain": [
       "<matplotlib.axes._subplots.AxesSubplot at 0x109f95518>"
      ]
     },
     "execution_count": 8,
     "metadata": {},
     "output_type": "execute_result"
    },
    {
     "data": {
      "image/png": "[encoded data removed]",
      "text/plain": [
       "<matplotlib.figure.Figure at 0x109fa0780>"
      ]
     },
     "metadata": {},
     "output_type": "display_data"
    }
   ],
   "source": [
    "# boxplot showing the property crime distirbution based on the Murder Feature\n",
    "plt.ylim(0, 3000)\n",
    "sns.boxplot(y = 'Property_Crime', x = 'Murder_Feature', data = df_crime)"
   ]
  },
  {
   "cell_type": "markdown",
   "metadata": {},
   "source": [
    "It looks like property crime is significantly more probable/common when a town's crimes include murder"
   ]
  },
  {
   "cell_type": "code",
   "execution_count": 9,
   "metadata": {},
   "outputs": [
    {
     "data": {
      "text/plain": [
       "<seaborn.axisgrid.FacetGrid at 0x10a927160>"
      ]
     },
     "execution_count": 9,
     "metadata": {},
     "output_type": "execute_result"
    },
    {
     "data": {
      "image/png": "[encoded data removed]",
      "text/plain": [
       "<matplotlib.figure.Figure at 0x10a927a90>"
      ]
     },
     "metadata": {},
     "output_type": "display_data"
    }
   ],
   "source": [
    "# plotting the murder rate against property crime rate\n",
    "sns.lmplot('Murder', 'Property_Crime', data = df_crime)"
   ]
  },
  {
   "cell_type": "markdown",
   "metadata": {},
   "source": [
    "Since the x and y axis are not to scale I'm not sure if interpreting the strong slope visually means anything. I wish there was a way to have the lmplot also output the equation it came up with."
   ]
  },
  {
   "cell_type": "code",
   "execution_count": 10,
   "metadata": {},
   "outputs": [
    {
     "data": {
      "image/png": "[encoded data removed]",
      "text/plain": [
       "<matplotlib.figure.Figure at 0x10aa939e8>"
      ]
     },
     "metadata": {},
     "output_type": "display_data"
    },
    {
     "data": {
      "image/png": "[encoded data removed]",
      "text/plain": [
       "<matplotlib.figure.Figure at 0x10aba7a90>"
      ]
     },
     "metadata": {},
     "output_type": "display_data"
    }
   ],
   "source": [
    "#Plotting both population and population squared against the property crime rate\n",
    "sns.lmplot('Population', 'Property_Crime', data = df_crime)\n",
    "sns.lmplot('population_2', 'Property_Crime', data = df_crime)\n",
    "plt.show()"
   ]
  },
  {
   "cell_type": "markdown",
   "metadata": {},
   "source": [
    "Logically speaking the bottom graph should have a shallower slope but there does not seem like a good way to plot this."
   ]
  },
  {
   "cell_type": "code",
   "execution_count": 11,
   "metadata": {},
   "outputs": [
    {
     "data": {
      "text/plain": [
       "<matplotlib.axes._subplots.AxesSubplot at 0x10b4acd30>"
      ]
     },
     "execution_count": 11,
     "metadata": {},
     "output_type": "execute_result"
    },
    {
     "data": {
      "image/png": "[encoded data removed]",
      "text/plain": [
       "<matplotlib.figure.Figure at 0x10b4acc50>"
      ]
     },
     "metadata": {},
     "output_type": "display_data"
    }
   ],
   "source": [
    "#Plotting distribution of property crime against the robbery feature\n",
    "plt.figure(figsize = (10, 10))\n",
    "plt.ylim(0,1300)\n",
    "sns.boxplot(x = 'Robbery_Feature', y = 'Property_Crime', data = df_crime)"
   ]
  },
  {
   "cell_type": "markdown",
   "metadata": {},
   "source": [
    "This plot would be a lot easier to see if I could turn it on its side but switching x and y do not have that effect."
   ]
  },
  {
   "cell_type": "markdown",
   "metadata": {
    "collapsed": true
   },
   "source": [
    "## Data Issues\n",
    "\n",
    "The main thing is going to be dealing with outliers and the main outlier for all of them is New York City. It skews everything. I created a dataframe just for that purpose and it worked better but it is still being skewed high on counts because of some of the major cities. A second dataframe might be worth it similar to the 'Major City' feature I created that only contains those types of cities. That would provide much cleaner analysis of crimes.\n",
    "\n",
    "Truth be told I think it would be extremely difficult to model all of these cities into one model, but rather than writing multiple models perhaps you could have a tier system. Since NYC is out you will only need four tiers. A Tier 1 city could be the major cities below(population range 100k or above). A Tier 2 city would range from that 95th percentile mark up to the 100k mark in population and encompass the rest of the outliers. Tier 3 cities would be from the Median to the 95th percentile mark and Tier 4 would be every city below the Median. \n",
    "\n",
    "So instead of building separate models the Tier system would provide a number that the model could incorporate into the equation that would alter probabilities of Murder and Robbery features."
   ]
  },
  {
   "cell_type": "code",
   "execution_count": 12,
   "metadata": {
    "scrolled": true
   },
   "outputs": [
    {
     "data": {
      "text/plain": [
       "<matplotlib.axes._subplots.AxesSubplot at 0x10b7ddf28>"
      ]
     },
     "execution_count": 12,
     "metadata": {},
     "output_type": "execute_result"
    },
    {
     "data": {
      "image/png": "[encoded data removed]",
      "text/plain": [
       "<matplotlib.figure.Figure at 0x10b7ddb38>"
      ]
     },
     "metadata": {},
     "output_type": "display_data"
    }
   ],
   "source": [
    "plt.figure(figsize = (20, 5))\n",
    "plt.xlim(-5,300000)\n",
    "sns.boxplot(x = 'Population', data = df_crime)"
   ]
  },
  {
   "cell_type": "markdown",
   "metadata": {
    "collapsed": true
   },
   "source": [
    "## Regression model building"
   ]
  },
  {
   "cell_type": "code",
   "execution_count": 13,
   "metadata": {},
   "outputs": [
    {
     "data": {
      "text/plain": [
       "Index(['Population', 'Murder', 'Robbery', 'Property_Crime', 'population_2',\n",
       "       'Murder_Feature', 'Robbery_Feature', 'Major_City'],\n",
       "      dtype='object')"
      ]
     },
     "execution_count": 13,
     "metadata": {},
     "output_type": "execute_result"
    }
   ],
   "source": [
    "df_crime.columns #model is propertycrime = a + population + population^2 + Murder_feature + Robbery_feature"
   ]
  },
  {
   "cell_type": "code",
   "execution_count": 14,
   "metadata": {
    "scrolled": true
   },
   "outputs": [
    {
     "name": "stdout",
     "output_type": "stream",
     "text": [
      "Coefficients: \n",
      " [  3.74134129e-02  -2.43432501e-09   7.35254352e+01  -1.06325917e+02\n",
      "  -3.91488220e+02]\n",
      "Intercept: \n",
      " -122.567043799\n",
      "\n",
      "R-squared: \n",
      " 0.99620639714\n"
     ]
    },
    {
     "name": "stderr",
     "output_type": "stream",
     "text": [
      "/Library/Frameworks/Python.framework/Versions/3.5/lib/python3.5/site-packages/scipy/linalg/basic.py:1018: RuntimeWarning: internal gelsd driver lwork query error, required iwork dimension not returned. This is likely the result of LAPACK bug 0038, fixed in LAPACK 3.2.2 (released July 21, 2010). Falling back to 'gelss' driver.\n",
      "  warnings.warn(mesg, RuntimeWarning)\n"
     ]
    }
   ],
   "source": [
    "x = df_crime[['Population', 'population_2', 'Murder_Feature', 'Robbery_Feature', 'Major_City']]\n",
    "y = df_crime['Property_Crime']\n",
    "\n",
    "regr = linear_model.LinearRegression()\n",
    "regr.fit(x,y)\n",
    "\n",
    "print('Coefficients: \\n', regr.coef_)\n",
    "print('Intercept: \\n', regr.intercept_)\n",
    "print('\\nR-squared: \\n', regr.score(x,y))\n"
   ]
  },
  {
   "cell_type": "code",
   "execution_count": 15,
   "metadata": {},
   "outputs": [
    {
     "name": "stdout",
     "output_type": "stream",
     "text": [
      "Coefficients: \n",
      " [  1.97700157e-09   4.32186017e+02   1.93346614e+02   1.94543191e+03]\n",
      "Intercept: \n",
      " 45.4959437395\n",
      "\n",
      "R-squared: \n",
      " 0.989587837549\n"
     ]
    }
   ],
   "source": [
    "x = df_crime[['population_2', 'Murder_Feature', 'Robbery_Feature', 'Major_City']]\n",
    "y = df_crime['Property_Crime']\n",
    "\n",
    "regr = linear_model.LinearRegression()\n",
    "regr.fit(x,y)\n",
    "\n",
    "print('Coefficients: \\n', regr.coef_)\n",
    "print('Intercept: \\n', regr.intercept_)\n",
    "print('\\nR-squared: \\n', regr.score(x,y))\n",
    "\n",
    "#x.describe()"
   ]
  },
  {
   "cell_type": "code",
   "execution_count": 16,
   "metadata": {},
   "outputs": [
    {
     "name": "stdout",
     "output_type": "stream",
     "text": [
      "Coefficients: \n",
      " [  1.67971775e-02   2.68885173e+02   5.91185775e+01   8.89294741e+02]\n",
      "Intercept: \n",
      " -29.9416242434\n",
      "\n",
      "R-squared: \n",
      " 0.994193809177\n"
     ]
    }
   ],
   "source": [
    "x = df_crime[['Population', 'Murder_Feature', 'Robbery_Feature', 'Major_City']]\n",
    "y = df_crime['Property_Crime']\n",
    "\n",
    "regr = linear_model.LinearRegression()\n",
    "regr.fit(x,y)\n",
    "\n",
    "print('Coefficients: \\n', regr.coef_)\n",
    "print('Intercept: \\n', regr.intercept_)\n",
    "print('\\nR-squared: \\n', regr.score(x,y))\n",
    "\n",
    "#x.describe()"
   ]
  },
  {
   "cell_type": "code",
   "execution_count": 17,
   "metadata": {},
   "outputs": [
    {
     "data": {
      "image/png": "[encoded data removed]",
      "text/plain": [
       "<matplotlib.figure.Figure at 0x10b9ff7b8>"
      ]
     },
     "metadata": {},
     "output_type": "display_data"
    }
   ],
   "source": [
    "# Extract predicted values.\n",
    "predicted = regr.predict(x).ravel()\n",
    "actual = df_crime['Property_Crime']\n",
    "\n",
    "# Calculate the error, also called the residual.\n",
    "residual = actual - predicted\n",
    "\n",
    "# This looks a bit concerning.\n",
    "plt.hist(residual, bins = 50)\n",
    "plt.title('Residual counts')\n",
    "plt.xlabel('Residual')\n",
    "plt.ylabel('Count')\n",
    "plt.show()"
   ]
  },
  {
   "cell_type": "code",
   "execution_count": 18,
   "metadata": {
    "collapsed": true
   },
   "outputs": [],
   "source": [
    "import statsmodels.formula.api as smf\n",
    "from statsmodels.sandbox.regression.predstd import wls_prediction_std"
   ]
  },
  {
   "cell_type": "code",
   "execution_count": 19,
   "metadata": {
    "collapsed": true
   },
   "outputs": [],
   "source": [
    "#model is propertycrime = a + population + population^2 + Murder_feature + Robbery_feature\n",
    "linear_formula = 'Property_Crime ~ population_2+Murder_Feature+Robbery_Feature'\n",
    "\n",
    "lm = smf.ols(formula = linear_formula, data = df_crime).fit()"
   ]
  },
  {
   "cell_type": "code",
   "execution_count": 20,
   "metadata": {},
   "outputs": [
    {
     "data": {
      "text/plain": [
       "Intercept          4.008610e+01\n",
       "population_2       1.992561e-09\n",
       "Murder_Feature     1.184060e+03\n",
       "Robbery_Feature    3.000526e+02\n",
       "dtype: float64"
      ]
     },
     "execution_count": 20,
     "metadata": {},
     "output_type": "execute_result"
    }
   ],
   "source": [
    "lm.params"
   ]
  },
  {
   "cell_type": "code",
   "execution_count": 21,
   "metadata": {},
   "outputs": [
    {
     "data": {
      "text/plain": [
       "Intercept           6.041530e-01\n",
       "population_2       4.349813e-318\n",
       "Murder_Feature      2.738344e-14\n",
       "Robbery_Feature     4.510728e-03\n",
       "dtype: float64"
      ]
     },
     "execution_count": 21,
     "metadata": {},
     "output_type": "execute_result"
    }
   ],
   "source": [
    "lm.pvalues"
   ]
  },
  {
   "cell_type": "markdown",
   "metadata": {},
   "source": [
    "Interestingly, when I ran this with the Population column instead of population squared the robbery feature had a really high p_value. "
   ]
  },
  {
   "cell_type": "code",
   "execution_count": 22,
   "metadata": {},
   "outputs": [
    {
     "data": {
      "text/plain": [
       "0.98598712040301306"
      ]
     },
     "execution_count": 22,
     "metadata": {},
     "output_type": "execute_result"
    }
   ],
   "source": [
    "lm.rsquared #seems kind of high...overfit?"
   ]
  },
  {
   "cell_type": "code",
   "execution_count": 23,
   "metadata": {},
   "outputs": [
    {
     "data": {
      "text/plain": [
       "2.3487090298259515e-318"
      ]
     },
     "execution_count": 23,
     "metadata": {},
     "output_type": "execute_result"
    }
   ],
   "source": [
    "lm.f_pvalue"
   ]
  },
  {
   "cell_type": "code",
   "execution_count": 24,
   "metadata": {
    "collapsed": true
   },
   "outputs": [],
   "source": [
    "#checking the model against a new state's crime data\n",
    "crime2 = pd.read_excel('Michigan_crime_by_city_2013.xls', skiprows = 4)\n",
    "df_crime2 = pd.DataFrame.from_dict(crime2)\n",
    "df_crime2.columns = ['City', 'Population', 'Violent_Crime', 'Murder', 'Rape', 'Rape2', 'Robbery', 'Aggravated_Assault',\n",
    "                   'Property_Crime', 'Burglary', 'Larceny_Theft', 'Motor_Vehicle_Theft', 'Arson']\n",
    "df_crime2 = df_crime2.drop('Rape2',1).dropna()"
   ]
  },
  {
   "cell_type": "code",
   "execution_count": 25,
   "metadata": {},
   "outputs": [
    {
     "data": {
      "text/html": [
       "<div>\n",
       "<style>\n",
       "    .dataframe thead tr:only-child th {\n",
       "        text-align: right;\n",
       "    }\n",
       "\n",
       "    .dataframe thead th {\n",
       "        text-align: left;\n",
       "    }\n",
       "\n",
       "    .dataframe tbody tr th {\n",
       "        vertical-align: top;\n",
       "    }\n",
       "</style>\n",
       "<table border=\"1\" class=\"dataframe\">\n",
       "  <thead>\n",
       "    <tr style=\"text-align: right;\">\n",
       "      <th></th>\n",
       "      <th>City</th>\n",
       "      <th>Population</th>\n",
       "      <th>Violent_Crime</th>\n",
       "      <th>Murder</th>\n",
       "      <th>Rape</th>\n",
       "      <th>Robbery</th>\n",
       "      <th>Aggravated_Assault</th>\n",
       "      <th>Property_Crime</th>\n",
       "      <th>Burglary</th>\n",
       "      <th>Larceny_Theft</th>\n",
       "      <th>Motor_Vehicle_Theft</th>\n",
       "      <th>Arson</th>\n",
       "    </tr>\n",
       "  </thead>\n",
       "  <tbody>\n",
       "    <tr>\n",
       "      <th>0</th>\n",
       "      <td>Akron</td>\n",
       "      <td>394.0</td>\n",
       "      <td>1.0</td>\n",
       "      <td>0.0</td>\n",
       "      <td>0.0</td>\n",
       "      <td>0.0</td>\n",
       "      <td>1.0</td>\n",
       "      <td>6.0</td>\n",
       "      <td>3.0</td>\n",
       "      <td>3.0</td>\n",
       "      <td>0.0</td>\n",
       "      <td>0.0</td>\n",
       "    </tr>\n",
       "    <tr>\n",
       "      <th>1</th>\n",
       "      <td>Albion</td>\n",
       "      <td>8524.0</td>\n",
       "      <td>58.0</td>\n",
       "      <td>0.0</td>\n",
       "      <td>10.0</td>\n",
       "      <td>13.0</td>\n",
       "      <td>35.0</td>\n",
       "      <td>240.0</td>\n",
       "      <td>86.0</td>\n",
       "      <td>144.0</td>\n",
       "      <td>10.0</td>\n",
       "      <td>3.0</td>\n",
       "    </tr>\n",
       "    <tr>\n",
       "      <th>2</th>\n",
       "      <td>Allegan</td>\n",
       "      <td>5055.0</td>\n",
       "      <td>17.0</td>\n",
       "      <td>0.0</td>\n",
       "      <td>9.0</td>\n",
       "      <td>1.0</td>\n",
       "      <td>7.0</td>\n",
       "      <td>83.0</td>\n",
       "      <td>6.0</td>\n",
       "      <td>72.0</td>\n",
       "      <td>5.0</td>\n",
       "      <td>1.0</td>\n",
       "    </tr>\n",
       "    <tr>\n",
       "      <th>3</th>\n",
       "      <td>Allen Park</td>\n",
       "      <td>27601.0</td>\n",
       "      <td>35.0</td>\n",
       "      <td>0.0</td>\n",
       "      <td>7.0</td>\n",
       "      <td>4.0</td>\n",
       "      <td>24.0</td>\n",
       "      <td>662.0</td>\n",
       "      <td>100.0</td>\n",
       "      <td>474.0</td>\n",
       "      <td>88.0</td>\n",
       "      <td>4.0</td>\n",
       "    </tr>\n",
       "    <tr>\n",
       "      <th>4</th>\n",
       "      <td>Alma</td>\n",
       "      <td>9256.0</td>\n",
       "      <td>22.0</td>\n",
       "      <td>1.0</td>\n",
       "      <td>8.0</td>\n",
       "      <td>3.0</td>\n",
       "      <td>10.0</td>\n",
       "      <td>208.0</td>\n",
       "      <td>27.0</td>\n",
       "      <td>180.0</td>\n",
       "      <td>1.0</td>\n",
       "      <td>1.0</td>\n",
       "    </tr>\n",
       "  </tbody>\n",
       "</table>\n",
       "</div>"
      ],
      "text/plain": [
       "         City  Population  Violent_Crime  Murder  Rape  Robbery  \\\n",
       "0       Akron       394.0            1.0     0.0   0.0      0.0   \n",
       "1      Albion      8524.0           58.0     0.0  10.0     13.0   \n",
       "2     Allegan      5055.0           17.0     0.0   9.0      1.0   \n",
       "3  Allen Park     27601.0           35.0     0.0   7.0      4.0   \n",
       "4        Alma      9256.0           22.0     1.0   8.0      3.0   \n",
       "\n",
       "   Aggravated_Assault  Property_Crime  Burglary  Larceny_Theft  \\\n",
       "0                 1.0             6.0       3.0            3.0   \n",
       "1                35.0           240.0      86.0          144.0   \n",
       "2                 7.0            83.0       6.0           72.0   \n",
       "3                24.0           662.0     100.0          474.0   \n",
       "4                10.0           208.0      27.0          180.0   \n",
       "\n",
       "   Motor_Vehicle_Theft  Arson  \n",
       "0                  0.0    0.0  \n",
       "1                 10.0    3.0  \n",
       "2                  5.0    1.0  \n",
       "3                 88.0    4.0  \n",
       "4                  1.0    1.0  "
      ]
     },
     "execution_count": 25,
     "metadata": {},
     "output_type": "execute_result"
    }
   ],
   "source": [
    "df_crime2.head()"
   ]
  },
  {
   "cell_type": "code",
   "execution_count": 26,
   "metadata": {
    "collapsed": true
   },
   "outputs": [],
   "source": [
    "#creating a squared column for population\n",
    "df_crime2['population_2'] = (df_crime2['Population']**2)\n",
    "\n",
    "#creating a binary column for murder\n",
    "df_crime2['Murder_Feature'] = 0\n",
    "df_crime2.loc[\n",
    "    (df_crime2['Murder'] > 0),\n",
    "    'Murder_Feature'\n",
    "] = 1\n",
    "\n",
    "#creating a binary column for robbery\n",
    "df_crime2['Robbery_Feature'] = 0\n",
    "df_crime2.loc[\n",
    "    (df_crime2.Robbery > 0),\n",
    "    'Robbery_Feature'\n",
    "] = 1\n",
    "\n",
    "#creating a column to wrangle the population differences\n",
    "df_crime2['Major_City'] = 0\n",
    "df_crime2.loc[\n",
    "    (df_crime2.Population > 40000),\n",
    "    'Major_City'\n",
    "] = 1"
   ]
  },
  {
   "cell_type": "code",
   "execution_count": 27,
   "metadata": {
    "collapsed": true
   },
   "outputs": [],
   "source": [
    "mich_y_pred = lm.predict(df_crime2[['population_2', 'Murder_Feature', 'Robbery_Feature']])"
   ]
  },
  {
   "cell_type": "code",
   "execution_count": 28,
   "metadata": {},
   "outputs": [
    {
     "data": {
      "text/plain": [
       "0.1180978416977827"
      ]
     },
     "execution_count": 28,
     "metadata": {},
     "output_type": "execute_result"
    }
   ],
   "source": [
    "r2_score(df_crime2['Property_Crime'], mich_y_pred)"
   ]
  },
  {
   "cell_type": "markdown",
   "metadata": {},
   "source": [
    "Clearly there was significant overfitting of my model"
   ]
  },
  {
   "cell_type": "markdown",
   "metadata": {},
   "source": [
    "# Building a new model "
   ]
  },
  {
   "cell_type": "code",
   "execution_count": 29,
   "metadata": {
    "scrolled": true
   },
   "outputs": [
    {
     "data": {
      "text/html": [
       "<div>\n",
       "<style>\n",
       "    .dataframe thead tr:only-child th {\n",
       "        text-align: right;\n",
       "    }\n",
       "\n",
       "    .dataframe thead th {\n",
       "        text-align: left;\n",
       "    }\n",
       "\n",
       "    .dataframe tbody tr th {\n",
       "        vertical-align: top;\n",
       "    }\n",
       "</style>\n",
       "<table border=\"1\" class=\"dataframe\">\n",
       "  <thead>\n",
       "    <tr style=\"text-align: right;\">\n",
       "      <th></th>\n",
       "      <th>City</th>\n",
       "      <th>Population</th>\n",
       "      <th>Violent_Crime</th>\n",
       "      <th>Murder</th>\n",
       "      <th>Rape2</th>\n",
       "      <th>Robbery</th>\n",
       "      <th>Aggravated_Assault</th>\n",
       "      <th>Property_Crime</th>\n",
       "      <th>Burglary</th>\n",
       "      <th>Larceny_Theft</th>\n",
       "      <th>Motor_Vehicle_Theft</th>\n",
       "      <th>Arson</th>\n",
       "    </tr>\n",
       "  </thead>\n",
       "  <tbody>\n",
       "    <tr>\n",
       "      <th>0</th>\n",
       "      <td>Adams Village</td>\n",
       "      <td>1861.0</td>\n",
       "      <td>0.0</td>\n",
       "      <td>0.0</td>\n",
       "      <td>0.0</td>\n",
       "      <td>0.0</td>\n",
       "      <td>0.0</td>\n",
       "      <td>12.0</td>\n",
       "      <td>2.0</td>\n",
       "      <td>10.0</td>\n",
       "      <td>0.0</td>\n",
       "      <td>0.0</td>\n",
       "    </tr>\n",
       "    <tr>\n",
       "      <th>1</th>\n",
       "      <td>Addison Town and Village</td>\n",
       "      <td>2577.0</td>\n",
       "      <td>3.0</td>\n",
       "      <td>0.0</td>\n",
       "      <td>0.0</td>\n",
       "      <td>0.0</td>\n",
       "      <td>3.0</td>\n",
       "      <td>24.0</td>\n",
       "      <td>3.0</td>\n",
       "      <td>20.0</td>\n",
       "      <td>1.0</td>\n",
       "      <td>0.0</td>\n",
       "    </tr>\n",
       "    <tr>\n",
       "      <th>2</th>\n",
       "      <td>Akron Village</td>\n",
       "      <td>2846.0</td>\n",
       "      <td>3.0</td>\n",
       "      <td>0.0</td>\n",
       "      <td>0.0</td>\n",
       "      <td>0.0</td>\n",
       "      <td>3.0</td>\n",
       "      <td>16.0</td>\n",
       "      <td>1.0</td>\n",
       "      <td>15.0</td>\n",
       "      <td>0.0</td>\n",
       "      <td>0.0</td>\n",
       "    </tr>\n",
       "    <tr>\n",
       "      <th>3</th>\n",
       "      <td>Albany</td>\n",
       "      <td>97956.0</td>\n",
       "      <td>791.0</td>\n",
       "      <td>8.0</td>\n",
       "      <td>30.0</td>\n",
       "      <td>227.0</td>\n",
       "      <td>526.0</td>\n",
       "      <td>4090.0</td>\n",
       "      <td>705.0</td>\n",
       "      <td>3243.0</td>\n",
       "      <td>142.0</td>\n",
       "      <td>NaN</td>\n",
       "    </tr>\n",
       "    <tr>\n",
       "      <th>4</th>\n",
       "      <td>Albion Village</td>\n",
       "      <td>6388.0</td>\n",
       "      <td>23.0</td>\n",
       "      <td>0.0</td>\n",
       "      <td>3.0</td>\n",
       "      <td>4.0</td>\n",
       "      <td>16.0</td>\n",
       "      <td>223.0</td>\n",
       "      <td>53.0</td>\n",
       "      <td>165.0</td>\n",
       "      <td>5.0</td>\n",
       "      <td>NaN</td>\n",
       "    </tr>\n",
       "  </tbody>\n",
       "</table>\n",
       "</div>"
      ],
      "text/plain": [
       "                       City  Population  Violent_Crime  Murder  Rape2  \\\n",
       "0             Adams Village      1861.0            0.0     0.0    0.0   \n",
       "1  Addison Town and Village      2577.0            3.0     0.0    0.0   \n",
       "2             Akron Village      2846.0            3.0     0.0    0.0   \n",
       "3                    Albany     97956.0          791.0     8.0   30.0   \n",
       "4            Albion Village      6388.0           23.0     0.0    3.0   \n",
       "\n",
       "   Robbery  Aggravated_Assault  Property_Crime  Burglary  Larceny_Theft  \\\n",
       "0      0.0                 0.0            12.0       2.0           10.0   \n",
       "1      0.0                 3.0            24.0       3.0           20.0   \n",
       "2      0.0                 3.0            16.0       1.0           15.0   \n",
       "3    227.0               526.0          4090.0     705.0         3243.0   \n",
       "4      4.0                16.0           223.0      53.0          165.0   \n",
       "\n",
       "   Motor_Vehicle_Theft  Arson  \n",
       "0                  0.0    0.0  \n",
       "1                  1.0    0.0  \n",
       "2                  0.0    0.0  \n",
       "3                142.0    NaN  \n",
       "4                  5.0    NaN  "
      ]
     },
     "execution_count": 29,
     "metadata": {},
     "output_type": "execute_result"
    }
   ],
   "source": [
    "#start building new features from the original(NY) dataset in order to build a new model\n",
    "NY_Crime = pd.read_excel('new_york_crime_by_city_2013.xls')\n",
    "df_NY_crime = pd.DataFrame.from_dict(NY_Crime)\n",
    "df_NY_crime.columns = ['City', 'Population', 'Violent_Crime', 'Murder', 'Rape', 'Rape2', 'Robbery', 'Aggravated_Assault',\n",
    "                   'Property_Crime', 'Burglary', 'Larceny_Theft', 'Motor_Vehicle_Theft', 'Arson']\n",
    "df_NY_crime = df_NY_crime.drop('Rape',1)\n",
    "df_NY_crime.head()"
   ]
  },
  {
   "cell_type": "code",
   "execution_count": 30,
   "metadata": {
    "collapsed": true
   },
   "outputs": [],
   "source": [
    "#Feature Building\n",
    "\n",
    "#Feature list so far will be Population, Major City, Larceny_Theft, Violent_Crime, Murder_Feature\n",
    "\n",
    "#Major City feature\n",
    "df_NY_crime['Major_City'] = 0 \n",
    "\n",
    "df_NY_crime.loc[\n",
    "    (df_NY_crime.Population > 50000),\n",
    "    'Major_City'\n",
    "] = 1"
   ]
  },
  {
   "cell_type": "code",
   "execution_count": 74,
   "metadata": {},
   "outputs": [
    {
     "data": {
      "image/png": "[encoded data removed]",
      "text/plain": [
       "<matplotlib.figure.Figure at 0x10aa9a9e8>"
      ]
     },
     "metadata": {},
     "output_type": "display_data"
    },
    {
     "data": {
      "image/png": "[encoded data removed]",
      "text/plain": [
       "<matplotlib.figure.Figure at 0x10f50f7f0>"
      ]
     },
     "metadata": {},
     "output_type": "display_data"
    }
   ],
   "source": [
    "sns.heatmap(df_NY_crime[['Property_Crime',\n",
    "                               'Robbery', 'Burglary', \n",
    "                               'Larceny_Theft', \n",
    "                               'Motor_Vehicle_Theft']].corr())\n",
    "plt.show()\n",
    "\n",
    "#Based on the heatmap below it seems like I could drop all features except Larceny_Theft and still achieve pretty\n",
    "#good predictive power\n",
    "\n",
    "sns.lmplot(x = 'Larceny_Theft', y = 'Property_Crime', data = df_NY_crime.loc[(df_NY_crime.City != 'New York')])\n",
    "plt.show()"
   ]
  },
  {
   "cell_type": "code",
   "execution_count": 76,
   "metadata": {},
   "outputs": [
    {
     "data": {
      "image/png": "[encoded data removed]",
      "text/plain": [
       "<matplotlib.figure.Figure at 0x10f0972b0>"
      ]
     },
     "metadata": {},
     "output_type": "display_data"
    },
    {
     "name": "stdout",
     "output_type": "stream",
     "text": [
      "                    Property_Crime  Violent_Crime    Murder  \\\n",
      "Property_Crime            1.000000       0.998059  0.995403   \n",
      "Violent_Crime             0.998059       1.000000  0.992098   \n",
      "Murder                    0.995403       0.992098  1.000000   \n",
      "Aggravated_Assault        0.997622       0.999942  0.990843   \n",
      "\n",
      "                    Aggravated_Assault  \n",
      "Property_Crime                0.997622  \n",
      "Violent_Crime                 0.999942  \n",
      "Murder                        0.990843  \n",
      "Aggravated_Assault            1.000000  \n"
     ]
    },
    {
     "data": {
      "image/png": "[encoded data removed]",
      "text/plain": [
       "<matplotlib.figure.Figure at 0x10ee375f8>"
      ]
     },
     "metadata": {},
     "output_type": "display_data"
    }
   ],
   "source": [
    "sns.heatmap(df_NY_crime.loc[(df_NY_crime.City != 'New York'),\n",
    "                            ['Property_Crime','Violent_Crime', 'Murder', 'Aggravated_Assault']].corr())\n",
    "plt.show()\n",
    "\n",
    "print(df_NY_crime[['Property_Crime','Violent_Crime', 'Murder', 'Aggravated_Assault']].corr())\n",
    "\n",
    "sns.lmplot(x = 'Violent_Crime', y = 'Property_Crime', data = df_NY_crime.loc[(df_NY_crime.City != 'New York')])\n",
    "plt.show()"
   ]
  },
  {
   "cell_type": "markdown",
   "metadata": {},
   "source": [
    "Both Violent Crime and Aggravated Assault share extremely heavy correlation and variance, Violent Crime however is slightly more strongly correlated to Property Crime so I will use that feature."
   ]
  },
  {
   "cell_type": "code",
   "execution_count": 33,
   "metadata": {
    "collapsed": true
   },
   "outputs": [],
   "source": [
    "df_NY_crime['Murder_Feature'] = 0\n",
    "df_NY_crime.loc[\n",
    "    (df_NY_crime.Murder > 0),\n",
    "    'Murder_Feature'\n",
    "] = 1"
   ]
  },
  {
   "cell_type": "code",
   "execution_count": 45,
   "metadata": {},
   "outputs": [
    {
     "name": "stdout",
     "output_type": "stream",
     "text": [
      "Murder_Feature\n",
      "0     202.224080\n",
      "1    1528.979167\n",
      "Name: Property_Crime, dtype: float64\n",
      "<><><><><><><><><><><><><><><><><><><><><><><><><><><><><><><><><><><><><><><><>\n",
      "Major_City  Murder_Feature\n",
      "0           0                   169.136519\n",
      "            1                   700.794118\n",
      "1           0                  1818.000000\n",
      "            1                 12769.000000\n",
      "Name: Property_Crime, dtype: float64\n"
     ]
    }
   ],
   "source": [
    "#This is one way of looking at it but I am excluding the major outlier NYC. \n",
    "print(df_NY_crime.loc[\n",
    "    (df_NY_crime.City != 'New York')].groupby('Murder_Feature')['Property_Crime'].mean())\n",
    "\n",
    "print('<>'*40)\n",
    "\n",
    "#Another way of looking at it is doing a double groupby where I include the major city feature. This should be\n",
    "#incorporated into the model so I think this second view is more how the model will look\n",
    "\n",
    "print(df_NY_crime.groupby(['Major_City', 'Murder_Feature'])['Property_Crime'].mean())"
   ]
  },
  {
   "cell_type": "code",
   "execution_count": 77,
   "metadata": {},
   "outputs": [
    {
     "data": {
      "image/png": "[encoded data removed]",
      "text/plain": [
       "<matplotlib.figure.Figure at 0x10f0b4c18>"
      ]
     },
     "metadata": {},
     "output_type": "display_data"
    },
    {
     "data": {
      "image/png": "[encoded data removed]",
      "text/plain": [
       "<matplotlib.figure.Figure at 0x10f52ab70>"
      ]
     },
     "metadata": {},
     "output_type": "display_data"
    }
   ],
   "source": [
    "sns.lmplot(x = 'Population', y = 'Property_Crime', data = df_NY_crime.loc[(df_NY_crime.City != 'New York')])\n",
    "plt.show()\n",
    "\n",
    "sns.heatmap(df_NY_crime[['Population', 'Property_Crime', 'Arson', 'Major_City']].corr())\n",
    "plt.show()"
   ]
  },
  {
   "cell_type": "code",
   "execution_count": 67,
   "metadata": {},
   "outputs": [],
   "source": [
    "df_NY_crime['Arson_Feature'] = 0\n",
    "df_NY_crime.loc[\n",
    "    (df_NY_crime.Arson >= 0),\n",
    "    'Arson_Feature'\n",
    "] = 1"
   ]
  },
  {
   "cell_type": "code",
   "execution_count": 69,
   "metadata": {},
   "outputs": [
    {
     "name": "stdout",
     "output_type": "stream",
     "text": [
      "Arson_Feature\n",
      "0    1318.509317\n",
      "1     339.823529\n",
      "Name: Property_Crime, dtype: float64\n",
      "Arson_Feature\n",
      "0    161\n",
      "1    187\n",
      "Name: Property_Crime, dtype: int64\n"
     ]
    }
   ],
   "source": [
    "print(df_NY_crime.groupby('Arson_Feature')['Property_Crime'].mean())\n",
    "print(df_NY_crime.groupby('Arson_Feature')['Property_Crime'].count())"
   ]
  },
  {
   "cell_type": "code",
   "execution_count": 72,
   "metadata": {},
   "outputs": [
    {
     "name": "stdout",
     "output_type": "stream",
     "text": [
      "<class 'pandas.core.frame.DataFrame'>\n",
      "RangeIndex: 351 entries, 0 to 350\n",
      "Data columns (total 15 columns):\n",
      "City                   351 non-null object\n",
      "Population             348 non-null float64\n",
      "Violent_Crime          348 non-null float64\n",
      "Murder                 348 non-null float64\n",
      "Rape2                  348 non-null float64\n",
      "Robbery                348 non-null float64\n",
      "Aggravated_Assault     348 non-null float64\n",
      "Property_Crime         348 non-null float64\n",
      "Burglary               348 non-null float64\n",
      "Larceny_Theft          348 non-null float64\n",
      "Motor_Vehicle_Theft    348 non-null float64\n",
      "Arson                  187 non-null float64\n",
      "Major_City             351 non-null int64\n",
      "Murder_Feature         351 non-null int64\n",
      "Arson_Feature          351 non-null int64\n",
      "dtypes: float64(11), int64(3), object(1)\n",
      "memory usage: 41.2+ KB\n"
     ]
    }
   ],
   "source": [
    "#Since half of the data is missing I don't think this column can be reliably used for feature building or in\n",
    "#the building of a model\n",
    "df_NY_crime.info()"
   ]
  },
  {
   "cell_type": "markdown",
   "metadata": {},
   "source": [
    "### Model Building\n",
    "\n",
    "Build a df that is just the built features for the model and then perform holdout testing as well as testing on some new crime datasets."
   ]
  },
  {
   "cell_type": "code",
   "execution_count": 79,
   "metadata": {
    "collapsed": true
   },
   "outputs": [],
   "source": [
    "#holdout groups to be built through: train, test = train_test_split(data, test_size = .2, random_state = 1)\n",
    "from sklearn.model_selection import train_test_split"
   ]
  },
  {
   "cell_type": "code",
   "execution_count": 81,
   "metadata": {
    "scrolled": true
   },
   "outputs": [
    {
     "data": {
      "text/html": [
       "<div>\n",
       "<style>\n",
       "    .dataframe thead tr:only-child th {\n",
       "        text-align: right;\n",
       "    }\n",
       "\n",
       "    .dataframe thead th {\n",
       "        text-align: left;\n",
       "    }\n",
       "\n",
       "    .dataframe tbody tr th {\n",
       "        vertical-align: top;\n",
       "    }\n",
       "</style>\n",
       "<table border=\"1\" class=\"dataframe\">\n",
       "  <thead>\n",
       "    <tr style=\"text-align: right;\">\n",
       "      <th></th>\n",
       "      <th>City</th>\n",
       "      <th>Population</th>\n",
       "      <th>Violent_Crime</th>\n",
       "      <th>Murder</th>\n",
       "      <th>Rape2</th>\n",
       "      <th>Robbery</th>\n",
       "      <th>Aggravated_Assault</th>\n",
       "      <th>Property_Crime</th>\n",
       "      <th>Burglary</th>\n",
       "      <th>Larceny_Theft</th>\n",
       "      <th>Motor_Vehicle_Theft</th>\n",
       "      <th>Arson</th>\n",
       "      <th>Major_City</th>\n",
       "      <th>Murder_Feature</th>\n",
       "      <th>Arson_Feature</th>\n",
       "    </tr>\n",
       "  </thead>\n",
       "  <tbody>\n",
       "    <tr>\n",
       "      <th>0</th>\n",
       "      <td>Adams Village</td>\n",
       "      <td>1861.0</td>\n",
       "      <td>0.0</td>\n",
       "      <td>0.0</td>\n",
       "      <td>0.0</td>\n",
       "      <td>0.0</td>\n",
       "      <td>0.0</td>\n",
       "      <td>12.0</td>\n",
       "      <td>2.0</td>\n",
       "      <td>10.0</td>\n",
       "      <td>0.0</td>\n",
       "      <td>0.0</td>\n",
       "      <td>0</td>\n",
       "      <td>0</td>\n",
       "      <td>1</td>\n",
       "    </tr>\n",
       "    <tr>\n",
       "      <th>1</th>\n",
       "      <td>Addison Town and Village</td>\n",
       "      <td>2577.0</td>\n",
       "      <td>3.0</td>\n",
       "      <td>0.0</td>\n",
       "      <td>0.0</td>\n",
       "      <td>0.0</td>\n",
       "      <td>3.0</td>\n",
       "      <td>24.0</td>\n",
       "      <td>3.0</td>\n",
       "      <td>20.0</td>\n",
       "      <td>1.0</td>\n",
       "      <td>0.0</td>\n",
       "      <td>0</td>\n",
       "      <td>0</td>\n",
       "      <td>1</td>\n",
       "    </tr>\n",
       "    <tr>\n",
       "      <th>2</th>\n",
       "      <td>Akron Village</td>\n",
       "      <td>2846.0</td>\n",
       "      <td>3.0</td>\n",
       "      <td>0.0</td>\n",
       "      <td>0.0</td>\n",
       "      <td>0.0</td>\n",
       "      <td>3.0</td>\n",
       "      <td>16.0</td>\n",
       "      <td>1.0</td>\n",
       "      <td>15.0</td>\n",
       "      <td>0.0</td>\n",
       "      <td>0.0</td>\n",
       "      <td>0</td>\n",
       "      <td>0</td>\n",
       "      <td>1</td>\n",
       "    </tr>\n",
       "    <tr>\n",
       "      <th>3</th>\n",
       "      <td>Albany</td>\n",
       "      <td>97956.0</td>\n",
       "      <td>791.0</td>\n",
       "      <td>8.0</td>\n",
       "      <td>30.0</td>\n",
       "      <td>227.0</td>\n",
       "      <td>526.0</td>\n",
       "      <td>4090.0</td>\n",
       "      <td>705.0</td>\n",
       "      <td>3243.0</td>\n",
       "      <td>142.0</td>\n",
       "      <td>NaN</td>\n",
       "      <td>1</td>\n",
       "      <td>1</td>\n",
       "      <td>0</td>\n",
       "    </tr>\n",
       "    <tr>\n",
       "      <th>4</th>\n",
       "      <td>Albion Village</td>\n",
       "      <td>6388.0</td>\n",
       "      <td>23.0</td>\n",
       "      <td>0.0</td>\n",
       "      <td>3.0</td>\n",
       "      <td>4.0</td>\n",
       "      <td>16.0</td>\n",
       "      <td>223.0</td>\n",
       "      <td>53.0</td>\n",
       "      <td>165.0</td>\n",
       "      <td>5.0</td>\n",
       "      <td>NaN</td>\n",
       "      <td>0</td>\n",
       "      <td>0</td>\n",
       "      <td>0</td>\n",
       "    </tr>\n",
       "  </tbody>\n",
       "</table>\n",
       "</div>"
      ],
      "text/plain": [
       "                       City  Population  Violent_Crime  Murder  Rape2  \\\n",
       "0             Adams Village      1861.0            0.0     0.0    0.0   \n",
       "1  Addison Town and Village      2577.0            3.0     0.0    0.0   \n",
       "2             Akron Village      2846.0            3.0     0.0    0.0   \n",
       "3                    Albany     97956.0          791.0     8.0   30.0   \n",
       "4            Albion Village      6388.0           23.0     0.0    3.0   \n",
       "\n",
       "   Robbery  Aggravated_Assault  Property_Crime  Burglary  Larceny_Theft  \\\n",
       "0      0.0                 0.0            12.0       2.0           10.0   \n",
       "1      0.0                 3.0            24.0       3.0           20.0   \n",
       "2      0.0                 3.0            16.0       1.0           15.0   \n",
       "3    227.0               526.0          4090.0     705.0         3243.0   \n",
       "4      4.0                16.0           223.0      53.0          165.0   \n",
       "\n",
       "   Motor_Vehicle_Theft  Arson  Major_City  Murder_Feature  Arson_Feature  \n",
       "0                  0.0    0.0           0               0              1  \n",
       "1                  1.0    0.0           0               0              1  \n",
       "2                  0.0    0.0           0               0              1  \n",
       "3                142.0    NaN           1               1              0  \n",
       "4                  5.0    NaN           0               0              0  "
      ]
     },
     "execution_count": 81,
     "metadata": {},
     "output_type": "execute_result"
    }
   ],
   "source": [
    "df_NY_crime.head()\n",
    "#Population, Major City, Larceny_Theft, Violent_Crime, Murder_Feature"
   ]
  },
  {
   "cell_type": "code",
   "execution_count": 87,
   "metadata": {},
   "outputs": [],
   "source": [
    "df_NY_crime2 = df_NY_crime[:347]"
   ]
  },
  {
   "cell_type": "code",
   "execution_count": 88,
   "metadata": {},
   "outputs": [
    {
     "name": "stdout",
     "output_type": "stream",
     "text": [
      "Coefficients: \n",
      " [ -8.07106455e-03   1.49905418e+02   1.39527606e+00   8.59045606e-01\n",
      "   2.44960001e+01]\n",
      "Intercept: \n",
      " 39.143429561\n",
      "\n",
      "R-squared: \n",
      " 0.99991764969\n"
     ]
    }
   ],
   "source": [
    "train, test = train_test_split(df_NY_crime2[['Property_Crime',\n",
    "                                            'Population', \n",
    "                                            'Major_City', \n",
    "                                            'Larceny_Theft', \n",
    "                                            'Violent_Crime', \n",
    "                                            'Murder_Feature']], test_size = .2, random_state = 1)\n",
    "train.dropna()\n",
    "test.dropna()\n",
    "\n",
    "x = train[['Population', 'Major_City', 'Larceny_Theft', 'Violent_Crime', 'Murder_Feature']]\n",
    "y = train['Property_Crime']\n",
    "\n",
    "regr = linear_model.LinearRegression()\n",
    "regr.fit(x,y)\n",
    "\n",
    "print('Coefficients: \\n', regr.coef_)\n",
    "print('Intercept: \\n', regr.intercept_)\n",
    "print('\\nR-squared: \\n', regr.score(x,y))"
   ]
  },
  {
   "cell_type": "code",
   "execution_count": 92,
   "metadata": {},
   "outputs": [
    {
     "data": {
      "text/plain": [
       "0.96351363002363555"
      ]
     },
     "execution_count": 92,
     "metadata": {},
     "output_type": "execute_result"
    }
   ],
   "source": [
    "#y_pred = regr.predict(test[['Population', 'Major_City', 'Larceny_Theft', 'Violent_Crime', 'Murder_Feature']])\n",
    "\n",
    "regr.score(test[['Population', \n",
    "                 'Major_City', \n",
    "                 'Larceny_Theft', \n",
    "                 'Violent_Crime', \n",
    "                 'Murder_Feature']], test['Property_Crime'])"
   ]
  },
  {
   "cell_type": "markdown",
   "metadata": {},
   "source": [
    "Based on the above R_squared score the model seems to work well for the holdout NY data"
   ]
  },
  {
   "cell_type": "markdown",
   "metadata": {},
   "source": [
    "# Testing the model on Michigan data"
   ]
  },
  {
   "cell_type": "code",
   "execution_count": 93,
   "metadata": {
    "collapsed": true
   },
   "outputs": [],
   "source": [
    "#Importing another states crime data and running it against the model\n",
    "crime2 = pd.read_excel('Michigan_crime_by_city_2013.xls', skiprows = 4)\n",
    "df_crime2 = pd.DataFrame.from_dict(crime2)\n",
    "df_crime2.columns = ['City', 'Population', 'Violent_Crime', 'Murder', 'Rape', 'Rape2', 'Robbery', 'Aggravated_Assault',\n",
    "                   'Property_Crime', 'Burglary', 'Larceny_Theft', 'Motor_Vehicle_Theft', 'Arson']\n",
    "df_MI_crime = df_crime2.drop('Rape2',1).dropna()"
   ]
  },
  {
   "cell_type": "code",
   "execution_count": 94,
   "metadata": {
    "collapsed": true
   },
   "outputs": [],
   "source": [
    "#Feature building for the michigan crime data\n",
    "\n",
    "#Population - good to go\n",
    "\n",
    "#Major City feature\n",
    "df_MI_crime['Major_City'] = 0 \n",
    "\n",
    "df_MI_crime.loc[\n",
    "    (df_MI_crime.Population > 50000),\n",
    "    'Major_City'\n",
    "] = 1\n",
    "\n",
    "#Larceny Theft - good to go\n",
    "\n",
    "#Violent Crime = good to go\n",
    "\n",
    "#Murder Feature\n",
    "df_MI_crime['Murder_Feature'] = 0\n",
    "df_MI_crime.loc[\n",
    "    (df_MI_crime.Murder > 0),\n",
    "    'Murder_Feature'\n",
    "] = 1"
   ]
  },
  {
   "cell_type": "code",
   "execution_count": 97,
   "metadata": {},
   "outputs": [
    {
     "data": {
      "text/plain": [
       "0.94348134866596922"
      ]
     },
     "execution_count": 97,
     "metadata": {},
     "output_type": "execute_result"
    }
   ],
   "source": [
    "regr.score(df_MI_crime[['Population', \n",
    "                        'Major_City', \n",
    "                        'Larceny_Theft', \n",
    "                        'Violent_Crime', \n",
    "                        'Murder_Feature']], df_MI_crime['Property_Crime'])"
   ]
  },
  {
   "cell_type": "markdown",
   "metadata": {},
   "source": [
    "That seems like a strong R-Squared for brand new data, I will run the model on a few other states as well."
   ]
  },
  {
   "cell_type": "markdown",
   "metadata": {},
   "source": [
    "# Testing the model on Ohio data"
   ]
  },
  {
   "cell_type": "code",
   "execution_count": 98,
   "metadata": {
    "collapsed": true
   },
   "outputs": [],
   "source": [
    "#Importing another states crime data and running it against the model\n",
    "crime3 = pd.read_excel('ohio_crime_by_city_2013.xls', skiprows = 4)\n",
    "df_crime3 = pd.DataFrame.from_dict(crime3)\n",
    "df_crime3.columns = ['City', 'Population', 'Violent_Crime', 'Murder', 'Rape', 'Rape2', 'Robbery', 'Aggravated_Assault',\n",
    "                   'Property_Crime', 'Burglary', 'Larceny_Theft', 'Motor_Vehicle_Theft', 'Arson']\n",
    "df_OH_crime = df_crime3.drop('Rape2',1).dropna()"
   ]
  },
  {
   "cell_type": "code",
   "execution_count": 101,
   "metadata": {},
   "outputs": [],
   "source": [
    "#Feature building for the ohio crime data\n",
    "\n",
    "#Population - good to go\n",
    "\n",
    "#Major City feature\n",
    "df_OH_crime['Major_City'] = 0 \n",
    "\n",
    "df_OH_crime.loc[\n",
    "    (df_OH_crime.Population > 50000),\n",
    "    'Major_City'\n",
    "] = 1\n",
    "\n",
    "#Larceny Theft - good to go\n",
    "\n",
    "#Violent Crime = good to go\n",
    "\n",
    "#Murder Feature\n",
    "df_OH_crime['Murder_Feature'] = 0\n",
    "df_OH_crime.loc[\n",
    "    (df_OH_crime.Murder > 0),\n",
    "    'Murder_Feature'\n",
    "] = 1"
   ]
  },
  {
   "cell_type": "code",
   "execution_count": 102,
   "metadata": {},
   "outputs": [
    {
     "data": {
      "text/plain": [
       "0.95094350572585384"
      ]
     },
     "execution_count": 102,
     "metadata": {},
     "output_type": "execute_result"
    }
   ],
   "source": [
    "regr.score(df_OH_crime[['Population', \n",
    "                        'Major_City', \n",
    "                        'Larceny_Theft', \n",
    "                        'Violent_Crime', \n",
    "                        'Murder_Feature']], df_OH_crime['Property_Crime'])"
   ]
  },
  {
   "cell_type": "markdown",
   "metadata": {},
   "source": [
    "The Ohio crime data R-Squared is even better than michigan so I am very happy with this model. I will test on two more states with vastly different populations to see how it holds up."
   ]
  },
  {
   "cell_type": "markdown",
   "metadata": {},
   "source": [
    "# Testing the model on California data"
   ]
  },
  {
   "cell_type": "code",
   "execution_count": 113,
   "metadata": {
    "collapsed": true
   },
   "outputs": [],
   "source": [
    "#Importing another states crime data and running it against the model\n",
    "crime4 = pd.read_excel('california_crime_by_city_2013.xls', skiprows = 4)\n",
    "df_crime4 = pd.DataFrame.from_dict(crime4)\n",
    "df_crime4.columns = ['City', 'Population', 'Violent_Crime', 'Murder', 'Rape', 'Rape2', 'Robbery', 'Aggravated_Assault',\n",
    "                   'Property_Crime', 'Burglary', 'Larceny_Theft', 'Motor_Vehicle_Theft', 'Arson']\n",
    "df_CA_crime = df_crime4.drop('Rape2',1)\n",
    "df_CA_crime = df_CA_crime.drop('Rape', 1)\n",
    "df_CA_crime = df_CA_crime[:461]"
   ]
  },
  {
   "cell_type": "code",
   "execution_count": 116,
   "metadata": {
    "collapsed": true
   },
   "outputs": [],
   "source": [
    "#Feature building for the california crime data\n",
    "\n",
    "#Population - good to go\n",
    "\n",
    "#Major City feature\n",
    "df_CA_crime['Major_City'] = 0 \n",
    "\n",
    "df_CA_crime.loc[\n",
    "    (df_CA_crime.Population > 50000),\n",
    "    'Major_City'\n",
    "] = 1\n",
    "\n",
    "#Larceny Theft - good to go\n",
    "\n",
    "#Violent Crime = good to go\n",
    "\n",
    "#Murder Feature\n",
    "df_CA_crime['Murder_Feature'] = 0\n",
    "df_CA_crime.loc[\n",
    "    (df_CA_crime.Murder > 0),\n",
    "    'Murder_Feature'\n",
    "] = 1"
   ]
  },
  {
   "cell_type": "code",
   "execution_count": 117,
   "metadata": {},
   "outputs": [
    {
     "data": {
      "text/plain": [
       "0.91347293245925221"
      ]
     },
     "execution_count": 117,
     "metadata": {},
     "output_type": "execute_result"
    }
   ],
   "source": [
    "regr.score(df_CA_crime[['Population', \n",
    "                        'Major_City', \n",
    "                        'Larceny_Theft', \n",
    "                        'Violent_Crime', \n",
    "                        'Murder_Feature']], df_CA_crime['Property_Crime'])"
   ]
  },
  {
   "cell_type": "markdown",
   "metadata": {},
   "source": [
    "The score isn't as good for california and I am wondering if it has something to do with the amount of potential 'Major Cities' in that state."
   ]
  },
  {
   "cell_type": "markdown",
   "metadata": {},
   "source": [
    "# Testing the model on Vermont"
   ]
  },
  {
   "cell_type": "code",
   "execution_count": 122,
   "metadata": {
    "collapsed": true
   },
   "outputs": [],
   "source": [
    "#Importing another states crime data and running it against the model\n",
    "crime5 = pd.read_excel('vermont_crime_by_city_2013.xls', skiprows = 4)\n",
    "df_crime5 = pd.DataFrame.from_dict(crime5)\n",
    "df_crime5.columns = ['City', 'Population', 'Violent_Crime', 'Murder', 'Rape', 'Rape2', 'Robbery', 'Aggravated_Assault',\n",
    "                   'Property_Crime', 'Burglary', 'Larceny_Theft', 'Motor_Vehicle_Theft', 'Arson']\n",
    "df_VT_crime = df_crime5.drop('Rape2',1)\n",
    "df_VT_crime = df_VT_crime.drop('Rape', 1)\n",
    "df_VT_crime = df_VT_crime[:34]"
   ]
  },
  {
   "cell_type": "code",
   "execution_count": 124,
   "metadata": {},
   "outputs": [],
   "source": [
    "#Feature building for the vermont crime data\n",
    "\n",
    "#Population - good to go\n",
    "\n",
    "#Major City feature\n",
    "df_VT_crime['Major_City'] = 0 \n",
    "\n",
    "df_VT_crime.loc[\n",
    "    (df_VT_crime.Population > 50000),\n",
    "    'Major_City'\n",
    "] = 1\n",
    "\n",
    "#Larceny Theft - good to go\n",
    "\n",
    "#Violent Crime = good to go\n",
    "\n",
    "#Murder Feature\n",
    "df_VT_crime['Murder_Feature'] = 0\n",
    "df_VT_crime.loc[\n",
    "    (df_VT_crime.Murder > 0),\n",
    "    'Murder_Feature'\n",
    "] = 1"
   ]
  },
  {
   "cell_type": "code",
   "execution_count": 125,
   "metadata": {},
   "outputs": [
    {
     "data": {
      "text/plain": [
       "0.97571854195280638"
      ]
     },
     "execution_count": 125,
     "metadata": {},
     "output_type": "execute_result"
    }
   ],
   "source": [
    "regr.score(df_VT_crime[['Population', \n",
    "                        'Major_City', \n",
    "                        'Larceny_Theft', \n",
    "                        'Violent_Crime', \n",
    "                        'Murder_Feature']], df_VT_crime['Property_Crime'])"
   ]
  },
  {
   "cell_type": "markdown",
   "metadata": {},
   "source": [
    "I was curious how this model would run on a very small state and it seems to be holding up pretty well."
   ]
  },
  {
   "cell_type": "code",
   "execution_count": null,
   "metadata": {
    "collapsed": true
   },
   "outputs": [],
   "source": []
  }
 ],
 "metadata": {
  "kernelspec": {
   "display_name": "Python 3",
   "language": "python",
   "name": "python3"
  },
  "language_info": {
   "codemirror_mode": {
    "name": "ipython",
    "version": 3
   },
   "file_extension": ".py",
   "mimetype": "text/x-python",
   "name": "python",
   "nbconvert_exporter": "python",
   "pygments_lexer": "ipython3",
   "version": "3.5.2"
  }
 },
 "nbformat": 4,
 "nbformat_minor": 2
}

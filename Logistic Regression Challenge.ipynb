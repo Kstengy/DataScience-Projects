{
 "cells": [
  {
   "cell_type": "code",
   "execution_count": 68,
   "metadata": {},
   "outputs": [],
   "source": [
    "import numpy as np\n",
    "import pandas as pd\n",
    "import matplotlib.pyplot as plt\n",
    "import seaborn as sns\n",
    "import statsmodels.api as sm\n",
    "from sklearn.linear_model import LogisticRegression\n",
    "%matplotlib inline"
   ]
  },
  {
   "cell_type": "code",
   "execution_count": 69,
   "metadata": {
    "scrolled": true
   },
   "outputs": [
    {
     "data": {
      "text/html": [
       "<div>\n",
       "<style>\n",
       "    .dataframe thead tr:only-child th {\n",
       "        text-align: right;\n",
       "    }\n",
       "\n",
       "    .dataframe thead th {\n",
       "        text-align: left;\n",
       "    }\n",
       "\n",
       "    .dataframe tbody tr th {\n",
       "        vertical-align: top;\n",
       "    }\n",
       "</style>\n",
       "<table border=\"1\" class=\"dataframe\">\n",
       "  <thead>\n",
       "    <tr style=\"text-align: right;\">\n",
       "      <th></th>\n",
       "      <th>Sex</th>\n",
       "      <th>Length</th>\n",
       "      <th>Diameter</th>\n",
       "      <th>Height</th>\n",
       "      <th>Whole_weight</th>\n",
       "      <th>Shucked_weight</th>\n",
       "      <th>Viscera_weight</th>\n",
       "      <th>Shell_weight</th>\n",
       "      <th>Rings</th>\n",
       "    </tr>\n",
       "  </thead>\n",
       "  <tbody>\n",
       "    <tr>\n",
       "      <th>0</th>\n",
       "      <td>M</td>\n",
       "      <td>0.350</td>\n",
       "      <td>0.265</td>\n",
       "      <td>0.090</td>\n",
       "      <td>0.2255</td>\n",
       "      <td>0.0995</td>\n",
       "      <td>0.0485</td>\n",
       "      <td>0.070</td>\n",
       "      <td>7</td>\n",
       "    </tr>\n",
       "    <tr>\n",
       "      <th>1</th>\n",
       "      <td>F</td>\n",
       "      <td>0.530</td>\n",
       "      <td>0.420</td>\n",
       "      <td>0.135</td>\n",
       "      <td>0.6770</td>\n",
       "      <td>0.2565</td>\n",
       "      <td>0.1415</td>\n",
       "      <td>0.210</td>\n",
       "      <td>9</td>\n",
       "    </tr>\n",
       "    <tr>\n",
       "      <th>2</th>\n",
       "      <td>M</td>\n",
       "      <td>0.440</td>\n",
       "      <td>0.365</td>\n",
       "      <td>0.125</td>\n",
       "      <td>0.5160</td>\n",
       "      <td>0.2155</td>\n",
       "      <td>0.1140</td>\n",
       "      <td>0.155</td>\n",
       "      <td>10</td>\n",
       "    </tr>\n",
       "    <tr>\n",
       "      <th>3</th>\n",
       "      <td>I</td>\n",
       "      <td>0.330</td>\n",
       "      <td>0.255</td>\n",
       "      <td>0.080</td>\n",
       "      <td>0.2050</td>\n",
       "      <td>0.0895</td>\n",
       "      <td>0.0395</td>\n",
       "      <td>0.055</td>\n",
       "      <td>7</td>\n",
       "    </tr>\n",
       "    <tr>\n",
       "      <th>4</th>\n",
       "      <td>I</td>\n",
       "      <td>0.425</td>\n",
       "      <td>0.300</td>\n",
       "      <td>0.095</td>\n",
       "      <td>0.3515</td>\n",
       "      <td>0.1410</td>\n",
       "      <td>0.0775</td>\n",
       "      <td>0.120</td>\n",
       "      <td>8</td>\n",
       "    </tr>\n",
       "  </tbody>\n",
       "</table>\n",
       "</div>"
      ],
      "text/plain": [
       "  Sex  Length  Diameter  Height  Whole_weight  Shucked_weight  Viscera_weight  \\\n",
       "0   M   0.350     0.265   0.090        0.2255          0.0995          0.0485   \n",
       "1   F   0.530     0.420   0.135        0.6770          0.2565          0.1415   \n",
       "2   M   0.440     0.365   0.125        0.5160          0.2155          0.1140   \n",
       "3   I   0.330     0.255   0.080        0.2050          0.0895          0.0395   \n",
       "4   I   0.425     0.300   0.095        0.3515          0.1410          0.0775   \n",
       "\n",
       "   Shell_weight  Rings  \n",
       "0         0.070      7  \n",
       "1         0.210      9  \n",
       "2         0.155     10  \n",
       "3         0.055      7  \n",
       "4         0.120      8  "
      ]
     },
     "execution_count": 69,
     "metadata": {},
     "output_type": "execute_result"
    }
   ],
   "source": [
    "# creating and inspecting the dataframe\n",
    "df = pd.read_csv('abalone.csv')\n",
    "df.columns = ['Sex', 'Length', 'Diameter', \n",
    "              'Height', 'Whole_weight', 'Shucked_weight', \n",
    "              'Viscera_weight', 'Shell_weight', 'Rings']\n",
    "df.head()"
   ]
  },
  {
   "cell_type": "markdown",
   "metadata": {},
   "source": [
    "## Feature Engineering"
   ]
  },
  {
   "cell_type": "code",
   "execution_count": 70,
   "metadata": {
    "collapsed": true
   },
   "outputs": [],
   "source": [
    "# Creating a column for Adult(yes or no) which will be my outcome variable\n",
    "df['Adult'] = 1\n",
    "df.loc[\n",
    "    (df['Sex']== 'I'),\n",
    "    'Adult'\n",
    "] = 0\n",
    "\n",
    "# Up until 21 rings the majority of abalones are I rather than M or F, this will be another feature\n",
    "df['Ring_Count_<_7'] = 1\n",
    "df.loc[\n",
    "    (df['Rings'] > 7),\n",
    "    'Ring_Count_<_7'\n",
    "] = 0"
   ]
  },
  {
   "cell_type": "code",
   "execution_count": 71,
   "metadata": {
    "scrolled": false
   },
   "outputs": [
    {
     "data": {
      "text/plain": [
       "Adult  Ring_Count_<_7\n",
       "0      0                  694\n",
       "       1                  648\n",
       "1      0                 2643\n",
       "       1                  191\n",
       "Name: Ring_Count_<_7, dtype: int64"
      ]
     },
     "execution_count": 71,
     "metadata": {},
     "output_type": "execute_result"
    }
   ],
   "source": [
    "df.groupby('Adult')['Ring_Count_<_7'].value_counts()"
   ]
  },
  {
   "cell_type": "code",
   "execution_count": 72,
   "metadata": {},
   "outputs": [
    {
     "data": {
      "image/png": "[encoded data removed]",
      "text/plain": [
       "<matplotlib.figure.Figure at 0x119c8c748>"
      ]
     },
     "metadata": {},
     "output_type": "display_data"
    }
   ],
   "source": [
    "#Exploring if the Rings variable is noticeably different between the sexes\n",
    "XI = sorted(df.loc[\n",
    "    (df['Sex'] == 'I'),\n",
    "    'Rings'\n",
    "].unique())\n",
    "\n",
    "XM = sorted(df.loc[\n",
    "    (df['Sex'] == 'M'),\n",
    "    'Rings'\n",
    "].unique())\n",
    "\n",
    "XF = sorted(df.loc[\n",
    "    (df['Sex'] == 'F'),\n",
    "    'Rings'\n",
    "].unique())\n",
    "\n",
    "YI = df.loc[\n",
    "    (df['Sex'] == 'I'),\n",
    "].groupby('Rings')['Rings'].value_counts()\n",
    "\n",
    "YM = df.loc[\n",
    "    (df['Sex'] == 'M'),\n",
    "].groupby('Rings')['Rings'].value_counts()\n",
    "\n",
    "YF = df.loc[\n",
    "    (df['Sex'] == 'F'),\n",
    "].groupby('Rings')['Rings'].value_counts()\n",
    "\n",
    "plt.plot(XI, YI, XM, YM, XF, YF)\n",
    "plt.xlabel('Rings')\n",
    "plt.ylabel('Count')\n",
    "plt.legend(['I', 'M', 'F'])\n",
    "plt.show()"
   ]
  },
  {
   "cell_type": "markdown",
   "metadata": {},
   "source": [
    "# Creating the regression models"
   ]
  },
  {
   "cell_type": "markdown",
   "metadata": {},
   "source": [
    "## Regular logistic regression (Both the Statsmodels and SKLearn approaches)\n",
    "\n",
    "In an attempt to familiarize myself with both styles I will code up a model from each module and compare them to each other and then use the best one to compare to the other two types of regression."
   ]
  },
  {
   "cell_type": "markdown",
   "metadata": {},
   "source": [
    "### The Statsmodels method"
   ]
  },
  {
   "cell_type": "code",
   "execution_count": 73,
   "metadata": {},
   "outputs": [
    {
     "name": "stdout",
     "output_type": "stream",
     "text": [
      "Optimization terminated successfully.\n",
      "         Current function value: 0.394727\n",
      "         Iterations 8\n",
      "\n",
      " Accuracy by adult status\n",
      "col_0    0     1\n",
      "Adult           \n",
      "0      919   423\n",
      "1      307  2527\n",
      "\n",
      " Percentage accuracy\n",
      "0.825191570881\n"
     ]
    },
    {
     "name": "stderr",
     "output_type": "stream",
     "text": [
      "/anaconda/lib/python3.6/site-packages/ipykernel_launcher.py:6: SettingWithCopyWarning: \n",
      "A value is trying to be set on a copy of a slice from a DataFrame.\n",
      "Try using .loc[row_indexer,col_indexer] = value instead\n",
      "\n",
      "See the caveats in the documentation: http://pandas.pydata.org/pandas-docs/stable/indexing.html#indexing-view-versus-copy\n",
      "  \n"
     ]
    }
   ],
   "source": [
    "#Creating the predictor dataframe\n",
    "\n",
    "# I have inclued both 'Rings' and 'Ring_count' and ran the model replacing both of them but it is more accurate with\n",
    "# them both in. I wonder what the potential is for it being overfit?\n",
    "X_statsmod = df[['Length', 'Diameter', 'Height',\n",
    "                 'Whole_weight', 'Shucked_weight', \n",
    "                 'Viscera_weight', 'Shell_weight', \n",
    "                 'Rings', 'Ring_Count_<_7']]\n",
    "X_statsmod['Intercept'] = 1\n",
    "\n",
    "#declaring and fitting the model\n",
    "logit = sm.Logit(df['Adult'], X_statsmod)\n",
    "result = logit.fit()\n",
    "\n",
    "#Getting an accuracy measurement\n",
    "pred_statsmod = result.predict(X_statsmod)\n",
    "\n",
    "#Coding Adult as 1 if probability greater than .45 (I started with .5 but played around a bit)\n",
    "pred_y_statsmod = np.where(pred_statsmod < .45, 0, 1)\n",
    "\n",
    "#accuracy table\n",
    "table = pd.crosstab(df['Adult'], pred_y_statsmod)\n",
    "\n",
    "print('\\n Accuracy by adult status')\n",
    "print(table)\n",
    "print('\\n Percentage accuracy')\n",
    "print((table.iloc[0,0] + table.iloc[1,1]) / (table.sum().sum()))"
   ]
  },
  {
   "cell_type": "markdown",
   "metadata": {},
   "source": [
    "82% accuracy after the first model is pretty good. I'm curious to see if the lasso and ridge can improve upon this since they are more accurate models."
   ]
  },
  {
   "cell_type": "markdown",
   "metadata": {},
   "source": [
    "### The SKLearn method"
   ]
  },
  {
   "cell_type": "code",
   "execution_count": 57,
   "metadata": {},
   "outputs": [
    {
     "name": "stdout",
     "output_type": "stream",
     "text": [
      "\n",
      " Accuracy by Adult status\n",
      "Adult    0     1\n",
      "row_0           \n",
      "0      953   341\n",
      "1      389  2493\n",
      "\n",
      " Percentage accuracy\n",
      "0.825191570881\n"
     ]
    }
   ],
   "source": [
    "#declaring a logistic regression classifier\n",
    "lr = LogisticRegression(C=1e9)\n",
    "y = df['Adult']\n",
    "x = df[['Length', 'Diameter', 'Height', #I have inclued both 'Rings' and 'Ring_count' but I might delete one\n",
    "                 'Whole_weight', 'Shucked_weight', \n",
    "                 'Viscera_weight', 'Shell_weight', \n",
    "                 'Rings', 'Ring_Count_<_7']]\n",
    "\n",
    "#Fitting the model\n",
    "fit = lr.fit(x,y)\n",
    "\n",
    "#displaying accuracy scores\n",
    "pred_y_sklearn = lr.predict(x)\n",
    "\n",
    "print('\\n Accuracy by Adult status')\n",
    "print(pd.crosstab(pred_y_sklearn, y))\n",
    "\n",
    "print('\\n Percentage accuracy')\n",
    "print(lr.score(x, y))"
   ]
  },
  {
   "cell_type": "markdown",
   "metadata": {},
   "source": [
    "After playing around with the C value this accuracy seems to be the highest I can get it to go. This model seems to be more balanced in its errors but ultimately very very slightly less accurate than the StatsModels method."
   ]
  },
  {
   "cell_type": "markdown",
   "metadata": {},
   "source": [
    "## Ridge regression"
   ]
  },
  {
   "cell_type": "code",
   "execution_count": 58,
   "metadata": {
    "collapsed": true
   },
   "outputs": [],
   "source": [
    "import math\n",
    "from sklearn import linear_model\n",
    "from sklearn import preprocessing"
   ]
  },
  {
   "cell_type": "code",
   "execution_count": 59,
   "metadata": {},
   "outputs": [],
   "source": [
    "df.drop('Sex', 1, inplace=True)\n",
    "names = df.columns\n",
    "df_processed = pd.DataFrame(preprocessing.scale(df), columns = names)\n",
    "\n",
    "# Define the training and test sizes.\n",
    "trainsize = int(df.shape[0] / 2)\n",
    "df_test = df_processed.iloc[trainsize:, :].copy()\n",
    "df_train = df_processed.iloc[:trainsize, :].copy()\n",
    "\n",
    "Y_train = df_train['Adult'].values.reshape(-1, 1)\n",
    "X_train = df_train.loc[:, ~(df_train.columns).isin(['Adult'])]\n",
    "\n",
    "Y_test = df_test['Adult'].values.reshape(-1, 1)\n",
    "X_test = df_test.loc[:, ~(df_test.columns).isin(['Adult'])]"
   ]
  },
  {
   "cell_type": "code",
   "execution_count": 60,
   "metadata": {},
   "outputs": [
    {
     "name": "stdout",
     "output_type": "stream",
     "text": [
      "\n",
      "Training set score\n",
      "0.377431347662\n",
      "\n",
      "Test set score\n",
      "0.366878217884\n"
     ]
    }
   ],
   "source": [
    "ridgeregr = linear_model.Ridge(alpha = 5, fit_intercept=False)\n",
    "ridgeregr.fit(X_train, Y_train)\n",
    "print('\\nTraining set score')\n",
    "print(ridgeregr.score(X_train, Y_train))\n",
    "print('\\nTest set score')\n",
    "print(ridgeregr.score(X_test, Y_test))"
   ]
  },
  {
   "cell_type": "markdown",
   "metadata": {},
   "source": [
    "I tried to set the alpha anywhere between .05 and 50 and the R-squared score didn't get any better, I'm surprised but maybe this type of data is not great for this type of model?"
   ]
  },
  {
   "cell_type": "markdown",
   "metadata": {},
   "source": [
    "## Lasso regression"
   ]
  },
  {
   "cell_type": "code",
   "execution_count": 61,
   "metadata": {},
   "outputs": [
    {
     "name": "stdout",
     "output_type": "stream",
     "text": [
      "R-Squared for the training set:\n",
      "0.377060594704\n",
      "\n",
      "R-Squared for the test set:\n",
      "0.366446670135\n"
     ]
    }
   ],
   "source": [
    "#I can basically use all of the variables from above so this is really just fitting to a new model\n",
    "lass = linear_model.Lasso(alpha = .001)\n",
    "lassfit = lass.fit(X_train, Y_train)\n",
    "print('R-Squared for the training set:')\n",
    "print(lassfit.score(X_train, Y_train)) #Why would you use lass and not lassfit here?\n",
    "\n",
    "print('\\nR-Squared for the test set:')\n",
    "print(lassfit.score(X_test, Y_test))"
   ]
  },
  {
   "cell_type": "markdown",
   "metadata": {},
   "source": [
    "Another poorly performing model"
   ]
  },
  {
   "cell_type": "markdown",
   "metadata": {},
   "source": [
    "## Results\n",
    "\n",
    "I think the main reason that both the ridge and lasso models performed significantly worse than regular logistic regression was the data used. It was a relatively simple and straightforward dataset that could probably be just as easily predicted with a simpler classifier model. "
   ]
  },
  {
   "cell_type": "code",
   "execution_count": null,
   "metadata": {
    "collapsed": true
   },
   "outputs": [],
   "source": []
  }
 ],
 "metadata": {
  "kernelspec": {
   "display_name": "Python 3",
   "language": "python",
   "name": "python3"
  },
  "language_info": {
   "codemirror_mode": {
    "name": "ipython",
    "version": 3
   },
   "file_extension": ".py",
   "mimetype": "text/x-python",
   "name": "python",
   "nbconvert_exporter": "python",
   "pygments_lexer": "ipython3",
   "version": "3.6.1"
  }
 },
 "nbformat": 4,
 "nbformat_minor": 2
}

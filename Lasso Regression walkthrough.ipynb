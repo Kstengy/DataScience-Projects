{
 "cells": [
  {
   "cell_type": "code",
   "execution_count": 1,
   "metadata": {
    "collapsed": true
   },
   "outputs": [],
   "source": [
    "import pandas as pd\n",
    "from matplotlib import pyplot as plt\n",
    "import numpy as np\n",
    "import math\n",
    "import seaborn as sns\n",
    "import sklearn\n",
    "from sklearn import linear_model\n",
    "from sklearn import preprocessing\n",
    "%matplotlib inline\n",
    "sns.set_style('white')"
   ]
  },
  {
   "cell_type": "markdown",
   "metadata": {},
   "source": [
    "Ridge regression shrinks parameter estimates(parameter meaning coefficients?)"
   ]
  },
  {
   "cell_type": "code",
   "execution_count": 2,
   "metadata": {
    "collapsed": true
   },
   "outputs": [],
   "source": [
    "#working with the air quality data again\n",
    "df = pd.read_csv(\n",
    "    'https://vincentarelbundock.github.io/Rdatasets/csv/ISLR/Default.csv'\n",
    ").iloc[:,1:].dropna()\n",
    "\n",
    "#recoding strings to numeric\n",
    "df['default'] = np.where(df['default']=='Yes', 1, 0)\n",
    "df['student'] = np.where(df['student']=='Yes', 1, 0)\n",
    "names = df.columns\n",
    "df = pd.DataFrame(preprocessing.scale(df), columns=names)\n",
    "\n",
    "#define training and test set sizes\n",
    "trainsize = int(df.shape[0]/2)\n",
    "df_test = df.iloc[trainsize:, :].copy()\n",
    "df_train = df.iloc[:trainsize, :].copy()\n",
    "\n",
    "Y_train = df_train['income'].values.reshape(-1,1)\n",
    "X_train = df_train[[c for c in df_train.columns if c != 'income']]\n",
    "\n",
    "# Make some new features to capture potential quadratic and cubic\n",
    "# relationships between solar radiation and day or temperature.\n",
    "df_train['balance_student'] = df_train['balance'] * df_train['student']\n",
    "df_train['balance_default'] = df_train['balance'] * df_train['default']\n",
    "df_train['student_default'] = df_train['student'] * df_train['default']\n",
    "df_train['balance_sqrt'] = (df_train['balance'] + 100) ** .5\n",
    "df_train['balance2'] = (df_train['balance'] + 100) ** 2\n",
    "df_train['balance3'] = (df_train['balance'] + 100) ** 3\n",
    "\n",
    "X_train2 = df_train[[c for c in df_train.columns if c != 'income']]\n",
    "\n",
    "#test the simpler model with smaller coefs\n",
    "Y_test = df_test['income'].values.reshape(-1, 1)\n",
    "X_test = df_test.loc[:, ~(df_test.columns).isin(['income'])]\n",
    "\n",
    "# Test the more complex model with larger coefficients.\n",
    "df_test['balance_student'] = df_test['balance'] * df_test['student']\n",
    "df_test['balance_default'] = df_test['balance'] * df_test['default']\n",
    "df_test['student_default'] = df_test['student'] * df_test['default']\n",
    "df_test['balance_sqrt'] = (df_test['balance'] + 100) ** .5\n",
    "df_test['balance2'] = (df_test['balance'] + 100) ** 2\n",
    "df_test['balance3'] = (df_test['balance'] + 100) ** 3\n",
    "X_test2 = df_test.loc[:, ~(df_test.columns).isin(['income'])]"
   ]
  },
  {
   "cell_type": "code",
   "execution_count": 3,
   "metadata": {},
   "outputs": [
    {
     "name": "stdout",
     "output_type": "stream",
     "text": [
      "R-Squared for the model with few features:\n",
      "0.450062579301\n",
      "\n",
      "Parameter estimates for the model with few features:\n",
      "[-0.         -0.40657726 -0.          0.00114596]\n",
      "\n",
      "R-Squared for the model with many features:\n",
      "0.443633767129\n",
      "\n",
      "Parameter estimates for the model with many features:\n",
      "[  0.00000000e+00  -3.89351238e-01   0.00000000e+00  -0.00000000e+00\n",
      "   0.00000000e+00  -0.00000000e+00   0.00000000e+00  -2.77688887e-04\n",
      "  -7.09158792e-07   3.48711577e+00]\n"
     ]
    }
   ],
   "source": [
    "#small number of params\n",
    "lass = linear_model.Lasso(alpha = .35)\n",
    "lassfit = lass.fit(X_train, Y_train)\n",
    "print('R-Squared for the model with few features:')\n",
    "print(lass.score(X_train, Y_train))\n",
    "\n",
    "origparams = np.append(lassfit.coef_, lassfit.intercept_)\n",
    "\n",
    "print('\\nParameter estimates for the model with few features:')\n",
    "print(origparams)\n",
    "\n",
    "#large number of params\n",
    "lassBig = linear_model.Lasso(alpha=.35)\n",
    "lassBig.fit(X_train2, Y_train)\n",
    "print('\\nR-Squared for the model with many features:')\n",
    "print(lassBig.score(X_train2, Y_train))\n",
    "\n",
    "origparams = np.append(lassBig.coef_, lassBig.intercept_)\n",
    "\n",
    "print('\\nParameter estimates for the model with many features:')\n",
    "print(origparams)"
   ]
  },
  {
   "cell_type": "code",
   "execution_count": 4,
   "metadata": {},
   "outputs": [
    {
     "name": "stdout",
     "output_type": "stream",
     "text": [
      "0.445532251512\n",
      "0.438046634591\n"
     ]
    }
   ],
   "source": [
    "#Checking the predictive power using the test set\n",
    "print(lass.score(X_test, Y_test))\n",
    "print(lassBig.score(X_test2, Y_test))"
   ]
  },
  {
   "cell_type": "code",
   "execution_count": 29,
   "metadata": {},
   "outputs": [
    {
     "data": {
      "image/png": "[encoded data removed]",
      "text/plain": [
       "<matplotlib.figure.Figure at 0x11f3d0630>"
      ]
     },
     "metadata": {},
     "output_type": "display_data"
    }
   ],
   "source": [
    "#Building a plot to show estimates\n",
    "#estimates = np.append(lassBig.coef_, [10])\n",
    "\n",
    "#legend info\n",
    "labels = []\n",
    "\n",
    "#running the model for multple alphas\n",
    "#for lambd in range(1, 50, 2):\n",
    "#    lassBig = linear_model.Lasso(alpha = lambd)\n",
    "#    lassBig.fit(X_train2, Y_train)\n",
    "#    estimates = np.row_stack((\n",
    "#        estimates,\n",
    "#        np.append(lassBig.coef_, [lambd])))\n",
    "    \n",
    "#making the data look better\n",
    "#estimates_df = pd.DataFrame(\n",
    "#    estimates,\n",
    "#    columns = list(X_train2.columns) + ['lambda'])\n",
    "#estimates_df.sort_values(by = 'lambda', inplace = True, ascending = True)\n",
    "\n",
    "#leaving out the student variable since it's high values throw off plot scale\n",
    "#varstoplot = list(estimates_df.columns[:9,])\n",
    "#varstoplot.remove('student')\n",
    "\n",
    "#plot a line for each parameter\n",
    "r_list = []\n",
    "alphas = [i for i in np.arange(0.1,1.0, 0.2)]\n",
    "for lambd in alphas:\n",
    "    lassBig = linear_model.Lasso(alpha = lambd)\n",
    "    lassBig.fit(X_train2, Y_train)\n",
    "    r_score = lassBig.score(X_train2, Y_train)\n",
    "    r_list.append(r_score)\n",
    "    labels.append(lambd)\n",
    "plt.plot(labels, r_list)\n",
    "plt.xlabel('lambda')\n",
    "plt.ylabel('R-Squared')\n",
    "plt.legend(labels)\n",
    "plt.show()"
   ]
  },
  {
   "cell_type": "code",
   "execution_count": null,
   "metadata": {
    "collapsed": true
   },
   "outputs": [],
   "source": []
  }
 ],
 "metadata": {
  "kernelspec": {
   "display_name": "Python 3",
   "language": "python",
   "name": "python3"
  },
  "language_info": {
   "codemirror_mode": {
    "name": "ipython",
    "version": 3
   },
   "file_extension": ".py",
   "mimetype": "text/x-python",
   "name": "python",
   "nbconvert_exporter": "python",
   "pygments_lexer": "ipython3",
   "version": "3.6.1"
  }
 },
 "nbformat": 4,
 "nbformat_minor": 2
}

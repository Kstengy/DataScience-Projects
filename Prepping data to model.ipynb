{
 "cells": [
  {
   "cell_type": "code",
   "execution_count": 1,
   "metadata": {
    "collapsed": true
   },
   "outputs": [],
   "source": [
    "import pandas as pd\n",
    "import numpy as np\n",
    "import matplotlib.pyplot as plt\n",
    "import seaborn as sns\n",
    "import scipy.stats as stats\n",
    "%matplotlib inline\n",
    "\n",
    "#Setting default aesthetics\n",
    "sns.set_style('white')\n",
    "\n",
    "#bringing in the data\n",
    "df = pd.read_csv('/users/krisstenglein/desktop/adult.csv')\n",
    "\n",
    "pd.set_option('display.max_columns', 30)"
   ]
  },
  {
   "cell_type": "code",
   "execution_count": 2,
   "metadata": {},
   "outputs": [
    {
     "data": {
      "text/html": [
       "<div>\n",
       "<table border=\"1\" class=\"dataframe\">\n",
       "  <thead>\n",
       "    <tr style=\"text-align: right;\">\n",
       "      <th></th>\n",
       "      <th>age</th>\n",
       "      <th>workclass</th>\n",
       "      <th>fnlwgt</th>\n",
       "      <th>education</th>\n",
       "      <th>education.num</th>\n",
       "      <th>marital.status</th>\n",
       "      <th>occupation</th>\n",
       "      <th>relationship</th>\n",
       "      <th>race</th>\n",
       "      <th>sex</th>\n",
       "      <th>capital.gain</th>\n",
       "      <th>capital.loss</th>\n",
       "      <th>hours.per.week</th>\n",
       "      <th>native.country</th>\n",
       "      <th>income</th>\n",
       "    </tr>\n",
       "  </thead>\n",
       "  <tbody>\n",
       "    <tr>\n",
       "      <th>0</th>\n",
       "      <td>90</td>\n",
       "      <td>?</td>\n",
       "      <td>77053</td>\n",
       "      <td>HS-grad</td>\n",
       "      <td>9</td>\n",
       "      <td>Widowed</td>\n",
       "      <td>?</td>\n",
       "      <td>Not-in-family</td>\n",
       "      <td>White</td>\n",
       "      <td>Female</td>\n",
       "      <td>0</td>\n",
       "      <td>4356</td>\n",
       "      <td>40</td>\n",
       "      <td>United-States</td>\n",
       "      <td>&lt;=50K</td>\n",
       "    </tr>\n",
       "    <tr>\n",
       "      <th>1</th>\n",
       "      <td>82</td>\n",
       "      <td>Private</td>\n",
       "      <td>132870</td>\n",
       "      <td>HS-grad</td>\n",
       "      <td>9</td>\n",
       "      <td>Widowed</td>\n",
       "      <td>Exec-managerial</td>\n",
       "      <td>Not-in-family</td>\n",
       "      <td>White</td>\n",
       "      <td>Female</td>\n",
       "      <td>0</td>\n",
       "      <td>4356</td>\n",
       "      <td>18</td>\n",
       "      <td>United-States</td>\n",
       "      <td>&lt;=50K</td>\n",
       "    </tr>\n",
       "    <tr>\n",
       "      <th>2</th>\n",
       "      <td>66</td>\n",
       "      <td>?</td>\n",
       "      <td>186061</td>\n",
       "      <td>Some-college</td>\n",
       "      <td>10</td>\n",
       "      <td>Widowed</td>\n",
       "      <td>?</td>\n",
       "      <td>Unmarried</td>\n",
       "      <td>Black</td>\n",
       "      <td>Female</td>\n",
       "      <td>0</td>\n",
       "      <td>4356</td>\n",
       "      <td>40</td>\n",
       "      <td>United-States</td>\n",
       "      <td>&lt;=50K</td>\n",
       "    </tr>\n",
       "    <tr>\n",
       "      <th>3</th>\n",
       "      <td>54</td>\n",
       "      <td>Private</td>\n",
       "      <td>140359</td>\n",
       "      <td>7th-8th</td>\n",
       "      <td>4</td>\n",
       "      <td>Divorced</td>\n",
       "      <td>Machine-op-inspct</td>\n",
       "      <td>Unmarried</td>\n",
       "      <td>White</td>\n",
       "      <td>Female</td>\n",
       "      <td>0</td>\n",
       "      <td>3900</td>\n",
       "      <td>40</td>\n",
       "      <td>United-States</td>\n",
       "      <td>&lt;=50K</td>\n",
       "    </tr>\n",
       "    <tr>\n",
       "      <th>4</th>\n",
       "      <td>41</td>\n",
       "      <td>Private</td>\n",
       "      <td>264663</td>\n",
       "      <td>Some-college</td>\n",
       "      <td>10</td>\n",
       "      <td>Separated</td>\n",
       "      <td>Prof-specialty</td>\n",
       "      <td>Own-child</td>\n",
       "      <td>White</td>\n",
       "      <td>Female</td>\n",
       "      <td>0</td>\n",
       "      <td>3900</td>\n",
       "      <td>40</td>\n",
       "      <td>United-States</td>\n",
       "      <td>&lt;=50K</td>\n",
       "    </tr>\n",
       "  </tbody>\n",
       "</table>\n",
       "</div>"
      ],
      "text/plain": [
       "   age workclass  fnlwgt     education  education.num marital.status  \\\n",
       "0   90         ?   77053       HS-grad              9        Widowed   \n",
       "1   82   Private  132870       HS-grad              9        Widowed   \n",
       "2   66         ?  186061  Some-college             10        Widowed   \n",
       "3   54   Private  140359       7th-8th              4       Divorced   \n",
       "4   41   Private  264663  Some-college             10      Separated   \n",
       "\n",
       "          occupation   relationship   race     sex  capital.gain  \\\n",
       "0                  ?  Not-in-family  White  Female             0   \n",
       "1    Exec-managerial  Not-in-family  White  Female             0   \n",
       "2                  ?      Unmarried  Black  Female             0   \n",
       "3  Machine-op-inspct      Unmarried  White  Female             0   \n",
       "4     Prof-specialty      Own-child  White  Female             0   \n",
       "\n",
       "   capital.loss  hours.per.week native.country income  \n",
       "0          4356              40  United-States  <=50K  \n",
       "1          4356              18  United-States  <=50K  \n",
       "2          4356              40  United-States  <=50K  \n",
       "3          3900              40  United-States  <=50K  \n",
       "4          3900              40  United-States  <=50K  "
      ]
     },
     "execution_count": 2,
     "metadata": {},
     "output_type": "execute_result"
    }
   ],
   "source": [
    "#a quick look at the data\n",
    "df.head()\n",
    "\n",
    "# A quick question about log. When we are doing some some data cleaning and we say we can do things like take the\n",
    "# inverse, square root or log of a dataset to try and make it more linear...what are we actually doing in terms of\n",
    "# log? I think of log as a^b == c or log_a(c) == b. So for each datapoint are we assuming a log of base 10 and \n",
    "# remapping it to log(x) == y aka 10^y = x? Or is it the other way around? And is this a way of scaling things?"
   ]
  },
  {
   "cell_type": "code",
   "execution_count": 3,
   "metadata": {
    "collapsed": true
   },
   "outputs": [],
   "source": [
    "#creating a numerical representation of making over 50k or not for statistical purposes\n",
    "df['inc'] = 1\n",
    "df.loc[(df.income == '<=50K'),'inc'] = 0"
   ]
  },
  {
   "cell_type": "markdown",
   "metadata": {},
   "source": [
    "Go through the rows and figure out which ones are going to be useful"
   ]
  },
  {
   "cell_type": "markdown",
   "metadata": {},
   "source": [
    "# Age"
   ]
  },
  {
   "cell_type": "code",
   "execution_count": 4,
   "metadata": {
    "scrolled": false
   },
   "outputs": [
    {
     "name": "stdout",
     "output_type": "stream",
     "text": [
      "sex          \n",
      "Female  count    10771.000000\n",
      "        mean        36.858230\n",
      "        std         14.013697\n",
      "        min         17.000000\n",
      "        25%         25.000000\n",
      "        50%         35.000000\n",
      "        75%         46.000000\n",
      "        max         90.000000\n",
      "Male    count    21790.000000\n",
      "        mean        39.433547\n",
      "        std         13.370630\n",
      "        min         17.000000\n",
      "        25%         29.000000\n",
      "        50%         38.000000\n",
      "        75%         48.000000\n",
      "        max         90.000000\n",
      "Name: age, dtype: float64\n"
     ]
    },
    {
     "data": {
      "image/png": "[encoded data removed]",
      "text/plain": [
       "<matplotlib.figure.Figure at 0x104345588>"
      ]
     },
     "metadata": {},
     "output_type": "display_data"
    },
    {
     "data": {
      "image/png": "[encoded data removed]",
      "text/plain": [
       "<matplotlib.figure.Figure at 0x109861c88>"
      ]
     },
     "metadata": {},
     "output_type": "display_data"
    },
    {
     "data": {
      "image/png": "[encoded data removed]",
      "text/plain": [
       "<matplotlib.figure.Figure at 0x10922e6a0>"
      ]
     },
     "metadata": {},
     "output_type": "display_data"
    },
    {
     "data": {
      "text/plain": [
       "working age\n",
       "no     0.118562\n",
       "yes    0.356375\n",
       "Name: inc, dtype: float64"
      ]
     },
     "execution_count": 4,
     "metadata": {},
     "output_type": "execute_result"
    }
   ],
   "source": [
    "#starting with age\n",
    "\n",
    "#Quick stats about the age column\n",
    "print(df.groupby('sex')['age'].describe())\n",
    "sns.boxplot(x = 'age', y = 'sex', data = df)\n",
    "plt.show()\n",
    "\n",
    "# The males in the data are a bit older than the females, this will have implications on the 'working age' feature\n",
    "\n",
    "# Creating grouped data to build an age range feature\n",
    "x = df.groupby('age')['inc'].mean()\n",
    "y = df['age'].value_counts().sort_index()\n",
    "\n",
    "#This plot and the bars show my 'working age' range where earners have the highest chance of making over $50k\n",
    "plt.plot(x)\n",
    "plt.title('Age vs income')\n",
    "plt.axvline(35, color = 'r', linestyle = '--')\n",
    "plt.axvline(62, color = 'r', linestyle = '--')\n",
    "plt.show()\n",
    "\n",
    "#The histogram was kind of messy looking so I used a line plot instead\n",
    "plt.plot(y)\n",
    "plt.title('Age counts')\n",
    "plt.show()\n",
    "\n",
    "#Creating a feature\n",
    "df['working age'] = 'no'\n",
    "df.loc[((df.age >= 35) & (df.age <= 62)), 'working age'] = 'yes'\n",
    "df.groupby('working age')['inc'].mean()"
   ]
  },
  {
   "cell_type": "markdown",
   "metadata": {},
   "source": [
    "Age by itself provides a decent feature but I will be combining it with other variables below and it will be a lot more useful as part of a multi-variable feature."
   ]
  },
  {
   "cell_type": "markdown",
   "metadata": {},
   "source": [
    "Ultimately I think the second feature ('working age male') is a bit stronger than the original age feature."
   ]
  },
  {
   "cell_type": "markdown",
   "metadata": {},
   "source": [
    "# Workclass"
   ]
  },
  {
   "cell_type": "code",
   "execution_count": 5,
   "metadata": {
    "scrolled": false
   },
   "outputs": [
    {
     "name": "stdout",
     "output_type": "stream",
     "text": [
      "workclass\n",
      "?                   0.104031\n",
      "Federal-gov         0.386458\n",
      "Local-gov           0.294792\n",
      "Never-worked        0.000000\n",
      "Private             0.218673\n",
      "Self-emp-inc        0.557348\n",
      "Self-emp-not-inc    0.284927\n",
      "State-gov           0.271957\n",
      "Without-pay         0.000000\n",
      "Name: inc, dtype: float64\n",
      "----------------------------------------\n",
      "Private             22696\n",
      "Self-emp-not-inc     2541\n",
      "Local-gov            2093\n",
      "?                    1836\n",
      "State-gov            1298\n",
      "Self-emp-inc         1116\n",
      "Federal-gov           960\n",
      "Without-pay            14\n",
      "Never-worked            7\n",
      "Name: workclass, dtype: int64\n",
      "----------------------------------------\n",
      "worktype\n",
      "Governmental             0.308205\n",
      "Other                    0.000000\n",
      "Other - still working    0.217117\n",
      "Self Employed            0.557348\n",
      "Name: inc, dtype: float64\n"
     ]
    }
   ],
   "source": [
    "# next is 'workclass'\n",
    "\n",
    "# Private is the main work listed here so if we can split that up and find some tendencies it should make the model\n",
    "# better at predicting things\n",
    "\n",
    "print(df.groupby(['workclass'])['inc'].mean())\n",
    "print('-'*40)\n",
    "print(df.workclass.value_counts())\n",
    "\n",
    "#creating levels based on work groups(government, self employed, other - still working and other)\n",
    "df['worktype'] = 'Other'\n",
    "\n",
    "df.loc[\n",
    "    ((df.workclass == '?') | \n",
    "     (df.workclass == 'Private') | \n",
    "     (df.workclass == 'Self-emp-not-inc')),'worktype'\n",
    "] = 'Other - still working'\n",
    "\n",
    "df.loc[(df.workclass == 'Self-emp-inc'),'worktype'\n",
    "] = 'Self Employed'\n",
    "\n",
    "df.loc[((df.workclass == 'Federal-gov') | \n",
    "        (df.workclass == 'Local-gov') | \n",
    "        (df.workclass == 'State-gov')),'worktype'\n",
    "] = 'Governmental'\n",
    "\n",
    "print('-'*40)\n",
    "print(df.groupby(['worktype'])['inc'].mean())"
   ]
  },
  {
   "cell_type": "markdown",
   "metadata": {},
   "source": [
    "It is important to keep the 'Never-worked' and 'Without-pay' people since it is a strong predictor, but I wanted to make it it's own separate group since it was dragging down the other two non sorted classes(private, ?). \n",
    "\n",
    "It also seems(based on the data above) that separating this by gender would also be important.\n",
    "\n",
    "Since 'Private' makes up almost 70% of the respondents would it be worth trying to dig into that subset separately to find some patterns?"
   ]
  },
  {
   "cell_type": "markdown",
   "metadata": {},
   "source": [
    "# Education"
   ]
  },
  {
   "cell_type": "code",
   "execution_count": 6,
   "metadata": {
    "scrolled": false
   },
   "outputs": [
    {
     "name": "stdout",
     "output_type": "stream",
     "text": [
      "education.num  education   \n",
      "1              Preschool       0.000000\n",
      "2              1st-4th         0.035714\n",
      "3              5th-6th         0.048048\n",
      "4              7th-8th         0.061920\n",
      "5              9th             0.052529\n",
      "6              10th            0.066452\n",
      "7              11th            0.051064\n",
      "8              12th            0.076212\n",
      "9              HS-grad         0.159509\n",
      "10             Some-college    0.190235\n",
      "11             Assoc-voc       0.261216\n",
      "12             Assoc-acdm      0.248360\n",
      "13             Bachelors       0.414753\n",
      "14             Masters         0.556587\n",
      "15             Prof-school     0.734375\n",
      "16             Doctorate       0.740920\n",
      "Name: inc, dtype: float64\n"
     ]
    },
    {
     "data": {
      "image/png": "[encoded data removed]",
      "text/plain": [
       "<matplotlib.figure.Figure at 0x10a477f60>"
      ]
     },
     "metadata": {},
     "output_type": "display_data"
    },
    {
     "name": "stdout",
     "output_type": "stream",
     "text": [
      "college\n",
      "no     0.160529\n",
      "yes    0.484567\n",
      "Name: inc, dtype: float64\n"
     ]
    }
   ],
   "source": [
    "#Looking through the education data\n",
    "print(df.groupby(['education.num', 'education'])['inc'].mean())\n",
    "\n",
    "x = df.groupby('education.num')['inc'].mean()\n",
    "plt.plot(x)\n",
    "plt.show()\n",
    "\n",
    "#setting a variable to indicate college level education\n",
    "df['college'] = 'no'\n",
    "df.loc[df['education.num'] >=13, 'college'] = 'yes'\n",
    "\n",
    "print(df.groupby(['college'])['inc'].mean())"
   ]
  },
  {
   "cell_type": "markdown",
   "metadata": {},
   "source": [
    "The major determinant here seems to be college. When I set that as a feature it's a pretty stark difference."
   ]
  },
  {
   "cell_type": "markdown",
   "metadata": {},
   "source": [
    "# Marital Status"
   ]
  },
  {
   "cell_type": "code",
   "execution_count": 7,
   "metadata": {
    "scrolled": false
   },
   "outputs": [
    {
     "name": "stdout",
     "output_type": "stream",
     "text": [
      "Married-civ-spouse       14976\n",
      "Never-married            10683\n",
      "Divorced                  4443\n",
      "Separated                 1025\n",
      "Widowed                    993\n",
      "Married-spouse-absent      418\n",
      "Married-AF-spouse           23\n",
      "Name: marital.status, dtype: int64\n",
      "----------------------------------------\n",
      "marital.status\n",
      "Divorced                 0.104209\n",
      "Married-AF-spouse        0.434783\n",
      "Married-civ-spouse       0.446848\n",
      "Married-spouse-absent    0.081340\n",
      "Never-married            0.045961\n",
      "Separated                0.064390\n",
      "Widowed                  0.085599\n",
      "Name: inc, dtype: float64\n",
      "----------------------------------------\n",
      "married\n",
      "no     0.064856\n",
      "yes    0.446830\n",
      "Name: inc, dtype: float64\n"
     ]
    }
   ],
   "source": [
    "#Marital status exploration\n",
    "print(df['marital.status'].value_counts())\n",
    "print('-'*40)\n",
    "\n",
    "print(df.groupby('marital.status')['inc'].mean())\n",
    "print('-'*40)\n",
    "\n",
    "df['married'] = 'no'\n",
    "df.loc[((df['marital.status'] == 'Married-AF-spouse') | (df['marital.status'] == 'Married-civ-spouse')),'married'] = 'yes'\n",
    "\n",
    "print(df.groupby('married')['inc'].mean())"
   ]
  },
  {
   "cell_type": "code",
   "execution_count": 8,
   "metadata": {
    "scrolled": false
   },
   "outputs": [
    {
     "name": "stdout",
     "output_type": "stream",
     "text": [
      "inc  marital.status       \n",
      "0    Never-married            10192\n",
      "     Married-civ-spouse        8284\n",
      "     Divorced                  3980\n",
      "     Separated                  959\n",
      "     Widowed                    908\n",
      "     Married-spouse-absent      384\n",
      "     Married-AF-spouse           13\n",
      "1    Married-civ-spouse        6692\n",
      "     Never-married              491\n",
      "     Divorced                   463\n",
      "     Widowed                     85\n",
      "     Separated                   66\n",
      "     Married-spouse-absent       34\n",
      "     Married-AF-spouse           10\n",
      "Name: marital.status, dtype: int64\n",
      "--------------------------------------------------\n",
      "inc  relationship  \n",
      "0    Not-in-family     7449\n",
      "     Husband           7275\n",
      "     Own-child         5001\n",
      "     Unmarried         3228\n",
      "     Other-relative     944\n",
      "     Wife               823\n",
      "1    Husband           5918\n",
      "     Not-in-family      856\n",
      "     Wife               745\n",
      "     Unmarried          218\n",
      "     Own-child           67\n",
      "     Other-relative      37\n",
      "Name: relationship, dtype: int64\n",
      "--------------------------------------------------\n",
      "marital.status         relationship  \n",
      "Divorced               Not-in-family      2404\n",
      "                       Unmarried          1601\n",
      "                       Own-child           328\n",
      "                       Other-relative      110\n",
      "Married-AF-spouse      Wife                 12\n",
      "                       Husband               9\n",
      "                       Other-relative        1\n",
      "                       Own-child             1\n",
      "Married-civ-spouse     Husband           13184\n",
      "                       Wife               1556\n",
      "                       Other-relative      124\n",
      "                       Own-child            95\n",
      "                       Not-in-family        17\n",
      "Married-spouse-absent  Not-in-family       211\n",
      "                       Unmarried           130\n",
      "                       Own-child            45\n",
      "                       Other-relative       32\n",
      "Never-married          Not-in-family      4706\n",
      "                       Own-child          4485\n",
      "                       Unmarried           881\n",
      "                       Other-relative      611\n",
      "Separated              Unmarried           451\n",
      "                       Not-in-family       420\n",
      "                       Own-child            99\n",
      "                       Other-relative       55\n",
      "Widowed                Not-in-family       547\n",
      "                       Unmarried           383\n",
      "                       Other-relative       48\n",
      "                       Own-child            15\n",
      "Name: relationship, dtype: int64\n",
      "--------------------------------------------------\n"
     ]
    },
    {
     "data": {
      "text/plain": [
       "civ_husband\n",
       "0    0.099448\n",
       "1    0.448574\n",
       "Name: inc, dtype: float64"
      ]
     },
     "execution_count": 8,
     "metadata": {},
     "output_type": "execute_result"
    }
   ],
   "source": [
    "print(df.groupby('inc')['marital.status'].value_counts())\n",
    "print('-'*50)\n",
    "print(df.groupby('inc')['relationship'].value_counts())\n",
    "print('-'*50)\n",
    "print(df.groupby('marital.status')['relationship'].value_counts())\n",
    "print('-'*50)\n",
    "\n",
    "df['civ_husband'] = 0\n",
    "df.loc[\n",
    "    (df['marital.status'] == 'Married-civ-spouse') & (df.relationship == 'Husband'),\n",
    "    'civ_husband'\n",
    "] = 1\n",
    "\n",
    "df.groupby('civ_husband')['inc'].mean()"
   ]
  },
  {
   "cell_type": "markdown",
   "metadata": {},
   "source": [
    "It would seem that being married and living with your spouse seems to have a strong correlation to making over 50k, and it is slightly better than the more fine tuned civ_husband feature."
   ]
  },
  {
   "cell_type": "markdown",
   "metadata": {},
   "source": [
    "# Occupation"
   ]
  },
  {
   "cell_type": "code",
   "execution_count": 9,
   "metadata": {},
   "outputs": [
    {
     "name": "stdout",
     "output_type": "stream",
     "text": [
      "Prof-specialty       4140\n",
      "Craft-repair         4099\n",
      "Exec-managerial      4066\n",
      "Adm-clerical         3770\n",
      "Sales                3650\n",
      "Other-service        3295\n",
      "Machine-op-inspct    2002\n",
      "?                    1843\n",
      "Transport-moving     1597\n",
      "Handlers-cleaners    1370\n",
      "Farming-fishing       994\n",
      "Tech-support          928\n",
      "Protective-serv       649\n",
      "Priv-house-serv       149\n",
      "Armed-Forces            9\n",
      "Name: occupation, dtype: int64\n",
      "----------------------------------------\n",
      "occupation\n",
      "?                    0.103635\n",
      "Adm-clerical         0.134483\n",
      "Armed-Forces         0.111111\n",
      "Craft-repair         0.226641\n",
      "Exec-managerial      0.484014\n",
      "Farming-fishing      0.115694\n",
      "Handlers-cleaners    0.062774\n",
      "Machine-op-inspct    0.124875\n",
      "Other-service        0.041578\n",
      "Priv-house-serv      0.006711\n",
      "Prof-specialty       0.449034\n",
      "Protective-serv      0.325116\n",
      "Sales                0.269315\n",
      "Tech-support         0.304957\n",
      "Transport-moving     0.200376\n",
      "Name: inc, dtype: float64\n",
      "----------------------------------------\n"
     ]
    },
    {
     "data": {
      "text/plain": [
       "collar\n",
       "blue     0.140001\n",
       "white    0.338287\n",
       "Name: inc, dtype: float64"
      ]
     },
     "execution_count": 9,
     "metadata": {},
     "output_type": "execute_result"
    }
   ],
   "source": [
    "print(df.occupation.value_counts())\n",
    "print('-'*40)\n",
    "\n",
    "print(df.groupby('occupation')['inc'].mean())\n",
    "print('-'*40)\n",
    "\n",
    "#separating out occupations by collar color(that's fun to say)\n",
    "df['collar'] = 'blue'\n",
    "df.loc[\n",
    "    ((df.occupation == 'Exec-managerial') | \n",
    "     (df.occupation == 'Prof-specialty') | \n",
    "     (df.occupation == 'Sales') | \n",
    "     (df.occupation == 'Tech-support') | \n",
    "     (df.occupation == 'Adm-clerical')),\n",
    "    'collar'\n",
    "] = 'white'\n",
    "\n",
    "df.groupby('collar')['inc'].mean()"
   ]
  },
  {
   "cell_type": "markdown",
   "metadata": {},
   "source": [
    "Exec-managerial obviously takes the cake here, lets organize this into white collar and blue collar(everything non-white collar) jobs."
   ]
  },
  {
   "cell_type": "markdown",
   "metadata": {},
   "source": [
    "# Relationship"
   ]
  },
  {
   "cell_type": "code",
   "execution_count": 10,
   "metadata": {
    "scrolled": false
   },
   "outputs": [
    {
     "name": "stdout",
     "output_type": "stream",
     "text": [
      "Husband           13193\n",
      "Not-in-family      8305\n",
      "Own-child          5068\n",
      "Unmarried          3446\n",
      "Wife               1568\n",
      "Other-relative      981\n",
      "Name: relationship, dtype: int64\n",
      "----------------------------------------\n",
      "relationship\n",
      "Husband           0.448571\n",
      "Not-in-family     0.103070\n",
      "Other-relative    0.037717\n",
      "Own-child         0.013220\n",
      "Unmarried         0.063262\n",
      "Wife              0.475128\n",
      "Name: inc, dtype: float64\n"
     ]
    }
   ],
   "source": [
    "#Relationship issues\n",
    "print(df.relationship.value_counts())\n",
    "print('-'*40)\n",
    "print(df.groupby('relationship')['inc'].mean())"
   ]
  },
  {
   "cell_type": "markdown",
   "metadata": {},
   "source": [
    "After googling I can't find a good explanation for this column, but upon quick analysis it seems this category doesn't offer much more than the marital status column previously. Would it be worth trying to tie in this category and the 'marital status' category?"
   ]
  },
  {
   "cell_type": "markdown",
   "metadata": {},
   "source": [
    "# Race"
   ]
  },
  {
   "cell_type": "code",
   "execution_count": 11,
   "metadata": {
    "scrolled": true
   },
   "outputs": [
    {
     "name": "stdout",
     "output_type": "stream",
     "text": [
      "White                 27816\n",
      "Black                  3124\n",
      "Asian-Pac-Islander     1039\n",
      "Amer-Indian-Eskimo      311\n",
      "Other                   271\n",
      "Name: race, dtype: int64\n",
      "----------------------------------------\n",
      "race\n",
      "Amer-Indian-Eskimo    0.115756\n",
      "Asian-Pac-Islander    0.265640\n",
      "Black                 0.123880\n",
      "Other                 0.092251\n",
      "White                 0.255860\n",
      "Name: inc, dtype: float64\n",
      "----------------------------------------\n",
      "White or Asian\n",
      "no     0.120885\n",
      "yes    0.256212\n",
      "Name: inc, dtype: float64\n"
     ]
    }
   ],
   "source": [
    "#Playing the race card\n",
    "\n",
    "print(df.race.value_counts())\n",
    "print('-'*40)\n",
    "print(df.groupby('race')['inc'].mean())\n",
    "print('-'*40)\n",
    "\n",
    "#creating a group for whites and asians vs the rest\n",
    "df['White or Asian'] = 'no'\n",
    "df.loc[\n",
    "    ((df.race == 'White') | (df.race == 'Asian-Pac-Islander')),'White or Asian'\n",
    "] = 'yes'\n",
    "\n",
    "print(df.groupby('White or Asian')['inc'].mean())"
   ]
  },
  {
   "cell_type": "markdown",
   "metadata": {},
   "source": [
    "White and Asian/Pacific Islanders seem to have the best chance of making over 50k. The correlation is not super strong though so I might try and combine this with gender or something later on."
   ]
  },
  {
   "cell_type": "markdown",
   "metadata": {},
   "source": [
    "# Sex"
   ]
  },
  {
   "cell_type": "code",
   "execution_count": 12,
   "metadata": {},
   "outputs": [
    {
     "data": {
      "text/plain": [
       "sex\n",
       "Female    0.109461\n",
       "Male      0.305737\n",
       "Name: inc, dtype: float64"
      ]
     },
     "execution_count": 12,
     "metadata": {},
     "output_type": "execute_result"
    }
   ],
   "source": [
    "#Sex sells\n",
    "df.groupby('sex')['inc'].mean()"
   ]
  },
  {
   "cell_type": "markdown",
   "metadata": {},
   "source": [
    "It seems fairly obvious(even before the analysis above) that men have a better chance of making over 50k than women do. It seems a bit simplistic though to just say that men make more than women. Race and Gender seem like they are more intertwined and nuanced than simply one or the other."
   ]
  },
  {
   "cell_type": "code",
   "execution_count": 35,
   "metadata": {},
   "outputs": [
    {
     "data": {
      "text/plain": [
       "<matplotlib.axes._subplots.AxesSubplot at 0x1098820b8>"
      ]
     },
     "execution_count": 35,
     "metadata": {},
     "output_type": "execute_result"
    },
    {
     "data": {
      "image/png": "[encoded data removed]",
      "text/plain": [
       "<matplotlib.figure.Figure at 0x109504278>"
      ]
     },
     "metadata": {},
     "output_type": "display_data"
    }
   ],
   "source": [
    "plt.figure(figsize=(20,10))\n",
    "sns.boxplot(x='hours.per.week', y = 'worktype', hue = 'inc', data = df)"
   ]
  },
  {
   "cell_type": "markdown",
   "metadata": {},
   "source": [
    "# Hours per week"
   ]
  },
  {
   "cell_type": "code",
   "execution_count": 14,
   "metadata": {
    "scrolled": false
   },
   "outputs": [
    {
     "name": "stdout",
     "output_type": "stream",
     "text": [
      "hours\n",
      "0    0.088978\n",
      "1    0.284292\n",
      "Name: inc, dtype: float64\n"
     ]
    },
    {
     "data": {
      "image/png": "[encoded data removed]",
      "text/plain": [
       "<matplotlib.figure.Figure at 0x104336dd8>"
      ]
     },
     "metadata": {},
     "output_type": "display_data"
    }
   ],
   "source": [
    "df.groupby('hours.per.week')['inc'].mean().plot()\n",
    "df['hours'] = 0\n",
    "df.loc[\n",
    "    ((df['hours.per.week'] >= 38)), #& (df['hours.per.week'] <= 50)),\n",
    "    'hours'\n",
    "] = 1\n",
    "print(df.groupby('hours')['inc'].mean())\n",
    "\n",
    "#Check out full time vs part time"
   ]
  },
  {
   "cell_type": "code",
   "execution_count": 38,
   "metadata": {},
   "outputs": [
    {
     "name": "stdout",
     "output_type": "stream",
     "text": [
      "full-time\n",
      "no     0.069318\n",
      "yes    0.276299\n",
      "Name: inc, dtype: float64\n"
     ]
    }
   ],
   "source": [
    "df['full-time'] = 'no'\n",
    "\n",
    "df.loc[\n",
    "    ((df['hours.per.week'] >= 35)),\n",
    "    'full-time'\n",
    "] = 'yes'\n",
    "\n",
    "print(df.groupby('full-time')['inc'].mean())"
   ]
  },
  {
   "cell_type": "code",
   "execution_count": 15,
   "metadata": {
    "scrolled": false
   },
   "outputs": [
    {
     "data": {
      "text/plain": [
       "<matplotlib.axes._subplots.AxesSubplot at 0x104393eb8>"
      ]
     },
     "execution_count": 15,
     "metadata": {},
     "output_type": "execute_result"
    },
    {
     "data": {
      "image/png": "[encoded data removed]",
      "text/plain": [
       "<matplotlib.figure.Figure at 0x1091c5eb8>"
      ]
     },
     "metadata": {},
     "output_type": "display_data"
    }
   ],
   "source": [
    "plt.figure(figsize = (20,10))\n",
    "sns.boxplot(x = 'hours.per.week', y = 'collar', hue = 'inc', data = df)"
   ]
  },
  {
   "cell_type": "markdown",
   "metadata": {},
   "source": [
    "While it is clear that men work more hours per week than women, there was suprisingly little difference in hours per week worked by workclass. Overall hours per week seems to be correlated to money earned but not necessarily driving it(since the hours themselves seem more of a byproduct of education level/job type and age). \n",
    "\n",
    "It seems like an interesting feature to be built would combine occupation and hours worked or education and hours worked to see what the differences were."
   ]
  },
  {
   "cell_type": "markdown",
   "metadata": {},
   "source": [
    "# Native Country"
   ]
  },
  {
   "cell_type": "code",
   "execution_count": 16,
   "metadata": {
    "scrolled": false
   },
   "outputs": [
    {
     "data": {
      "text/plain": [
       "United-States                 29170\n",
       "Mexico                          643\n",
       "?                               583\n",
       "Philippines                     198\n",
       "Germany                         137\n",
       "Canada                          121\n",
       "Puerto-Rico                     114\n",
       "El-Salvador                     106\n",
       "India                           100\n",
       "Cuba                             95\n",
       "England                          90\n",
       "Jamaica                          81\n",
       "South                            80\n",
       "China                            75\n",
       "Italy                            73\n",
       "Dominican-Republic               70\n",
       "Vietnam                          67\n",
       "Guatemala                        64\n",
       "Japan                            62\n",
       "Poland                           60\n",
       "Columbia                         59\n",
       "Taiwan                           51\n",
       "Haiti                            44\n",
       "Iran                             43\n",
       "Portugal                         37\n",
       "Nicaragua                        34\n",
       "Peru                             31\n",
       "France                           29\n",
       "Greece                           29\n",
       "Ecuador                          28\n",
       "Ireland                          24\n",
       "Hong                             20\n",
       "Trinadad&Tobago                  19\n",
       "Cambodia                         19\n",
       "Thailand                         18\n",
       "Laos                             18\n",
       "Yugoslavia                       16\n",
       "Outlying-US(Guam-USVI-etc)       14\n",
       "Hungary                          13\n",
       "Honduras                         13\n",
       "Scotland                         12\n",
       "Holand-Netherlands                1\n",
       "Name: native.country, dtype: int64"
      ]
     },
     "execution_count": 16,
     "metadata": {},
     "output_type": "execute_result"
    }
   ],
   "source": [
    "# the last column is native country\n",
    "\n",
    "# having trouble finding a good way to build this feature, US is dominant population wise but liklihood of over 50k \n",
    "# is not too much bigger than all other countries, run a ttest?\n",
    "\n",
    "df['native.country'].value_counts()\n",
    "# The US makes up 90% of respondents...seems like that should factor in heavily, and that maybe I should break down\n",
    "# the US data a bit more by itself.\n"
   ]
  },
  {
   "cell_type": "code",
   "execution_count": 17,
   "metadata": {
    "scrolled": false
   },
   "outputs": [
    {
     "name": "stdout",
     "output_type": "stream",
     "text": [
      "native.country\n",
      "Iran                          0.418605\n",
      "France                        0.413793\n",
      "India                         0.400000\n",
      "Taiwan                        0.392157\n",
      "Japan                         0.387097\n",
      "Yugoslavia                    0.375000\n",
      "Cambodia                      0.368421\n",
      "Italy                         0.342466\n",
      "England                       0.333333\n",
      "Canada                        0.322314\n",
      "Germany                       0.321168\n",
      "Philippines                   0.308081\n",
      "Hong                          0.300000\n",
      "Greece                        0.275862\n",
      "China                         0.266667\n",
      "Cuba                          0.263158\n",
      "?                             0.250429\n",
      "Scotland                      0.250000\n",
      "United-States                 0.245835\n",
      "Hungary                       0.230769\n",
      "Ireland                       0.208333\n",
      "South                         0.200000\n",
      "Poland                        0.200000\n",
      "Thailand                      0.166667\n",
      "Ecuador                       0.142857\n",
      "Jamaica                       0.123457\n",
      "Laos                          0.111111\n",
      "Portugal                      0.108108\n",
      "Trinadad&Tobago               0.105263\n",
      "Puerto-Rico                   0.105263\n",
      "Haiti                         0.090909\n",
      "El-Salvador                   0.084906\n",
      "Honduras                      0.076923\n",
      "Vietnam                       0.074627\n",
      "Peru                          0.064516\n",
      "Nicaragua                     0.058824\n",
      "Mexico                        0.051322\n",
      "Guatemala                     0.046875\n",
      "Columbia                      0.033898\n",
      "Dominican-Republic            0.028571\n",
      "Outlying-US(Guam-USVI-etc)    0.000000\n",
      "Holand-Netherlands            0.000000\n",
      "Name: inc, dtype: float64\n",
      "----------------------------------------\n"
     ]
    },
    {
     "data": {
      "text/plain": [
       "developed\n",
       "no     0.151104\n",
       "yes    0.248532\n",
       "Name: inc, dtype: float64"
      ]
     },
     "execution_count": 17,
     "metadata": {},
     "output_type": "execute_result"
    }
   ],
   "source": [
    "print(df.groupby('native.country')['inc'].mean().sort_values(ascending = False))\n",
    "print('-'*40)\n",
    "\n",
    "df['developed'] = 'no'\n",
    "\n",
    "df.loc[\n",
    "    ((df['native.country'] == 'Canada') |\n",
    "    (df['native.country'] == 'China') |\n",
    "     (df['native.country'] == 'England') |\n",
    "     (df['native.country'] == 'France') |\n",
    "     (df['native.country'] == 'Germany') |\n",
    "     (df['native.country'] == 'Greece') |\n",
    "     (df['native.country'] == 'India') |\n",
    "     (df['native.country'] == 'Italy') |\n",
    "     (df['native.country'] == 'Japan') |\n",
    "     (df['native.country'] == 'Iran') |\n",
    "     (df['native.country'] == 'Taiwan') |\n",
    "     (df['native.country'] == 'United-States')),\n",
    "    'developed'\n",
    "] = 'yes'\n",
    "\n",
    "df.groupby('developed')['inc'].mean()"
   ]
  },
  {
   "cell_type": "markdown",
   "metadata": {},
   "source": [
    "This is kind of a mediocre split. Something I'm wondering. Since the US makes up 90% or so of respondents. Is it worth almost treating it like a separate column. So in the model it would go through two checks. The first to see if they are from the US, if yes then you are evaluated against feature A, if no then you are evaluated against feature B(a separate feature built by looking at all of the other countries in one group separate from the US."
   ]
  },
  {
   "cell_type": "code",
   "execution_count": null,
   "metadata": {
    "collapsed": true
   },
   "outputs": [],
   "source": [
    "\n"
   ]
  },
  {
   "cell_type": "code",
   "execution_count": 18,
   "metadata": {
    "scrolled": true
   },
   "outputs": [
    {
     "data": {
      "text/html": [
       "<div>\n",
       "<table border=\"1\" class=\"dataframe\">\n",
       "  <thead>\n",
       "    <tr style=\"text-align: right;\">\n",
       "      <th></th>\n",
       "      <th>age</th>\n",
       "      <th>workclass</th>\n",
       "      <th>fnlwgt</th>\n",
       "      <th>education</th>\n",
       "      <th>education.num</th>\n",
       "      <th>marital.status</th>\n",
       "      <th>occupation</th>\n",
       "      <th>relationship</th>\n",
       "      <th>race</th>\n",
       "      <th>sex</th>\n",
       "      <th>capital.gain</th>\n",
       "      <th>capital.loss</th>\n",
       "      <th>hours.per.week</th>\n",
       "      <th>native.country</th>\n",
       "      <th>income</th>\n",
       "      <th>inc</th>\n",
       "      <th>working age</th>\n",
       "      <th>worktype</th>\n",
       "      <th>college</th>\n",
       "      <th>married</th>\n",
       "      <th>civ_husband</th>\n",
       "      <th>collar</th>\n",
       "      <th>White or Asian</th>\n",
       "      <th>hours</th>\n",
       "      <th>developed</th>\n",
       "    </tr>\n",
       "  </thead>\n",
       "  <tbody>\n",
       "    <tr>\n",
       "      <th>0</th>\n",
       "      <td>90</td>\n",
       "      <td>?</td>\n",
       "      <td>77053</td>\n",
       "      <td>HS-grad</td>\n",
       "      <td>9</td>\n",
       "      <td>Widowed</td>\n",
       "      <td>?</td>\n",
       "      <td>Not-in-family</td>\n",
       "      <td>White</td>\n",
       "      <td>Female</td>\n",
       "      <td>0</td>\n",
       "      <td>4356</td>\n",
       "      <td>40</td>\n",
       "      <td>United-States</td>\n",
       "      <td>&lt;=50K</td>\n",
       "      <td>0</td>\n",
       "      <td>no</td>\n",
       "      <td>Other - still working</td>\n",
       "      <td>no</td>\n",
       "      <td>no</td>\n",
       "      <td>0</td>\n",
       "      <td>blue</td>\n",
       "      <td>yes</td>\n",
       "      <td>1</td>\n",
       "      <td>yes</td>\n",
       "    </tr>\n",
       "    <tr>\n",
       "      <th>1</th>\n",
       "      <td>82</td>\n",
       "      <td>Private</td>\n",
       "      <td>132870</td>\n",
       "      <td>HS-grad</td>\n",
       "      <td>9</td>\n",
       "      <td>Widowed</td>\n",
       "      <td>Exec-managerial</td>\n",
       "      <td>Not-in-family</td>\n",
       "      <td>White</td>\n",
       "      <td>Female</td>\n",
       "      <td>0</td>\n",
       "      <td>4356</td>\n",
       "      <td>18</td>\n",
       "      <td>United-States</td>\n",
       "      <td>&lt;=50K</td>\n",
       "      <td>0</td>\n",
       "      <td>no</td>\n",
       "      <td>Other - still working</td>\n",
       "      <td>no</td>\n",
       "      <td>no</td>\n",
       "      <td>0</td>\n",
       "      <td>white</td>\n",
       "      <td>yes</td>\n",
       "      <td>0</td>\n",
       "      <td>yes</td>\n",
       "    </tr>\n",
       "    <tr>\n",
       "      <th>2</th>\n",
       "      <td>66</td>\n",
       "      <td>?</td>\n",
       "      <td>186061</td>\n",
       "      <td>Some-college</td>\n",
       "      <td>10</td>\n",
       "      <td>Widowed</td>\n",
       "      <td>?</td>\n",
       "      <td>Unmarried</td>\n",
       "      <td>Black</td>\n",
       "      <td>Female</td>\n",
       "      <td>0</td>\n",
       "      <td>4356</td>\n",
       "      <td>40</td>\n",
       "      <td>United-States</td>\n",
       "      <td>&lt;=50K</td>\n",
       "      <td>0</td>\n",
       "      <td>no</td>\n",
       "      <td>Other - still working</td>\n",
       "      <td>no</td>\n",
       "      <td>no</td>\n",
       "      <td>0</td>\n",
       "      <td>blue</td>\n",
       "      <td>no</td>\n",
       "      <td>1</td>\n",
       "      <td>yes</td>\n",
       "    </tr>\n",
       "    <tr>\n",
       "      <th>3</th>\n",
       "      <td>54</td>\n",
       "      <td>Private</td>\n",
       "      <td>140359</td>\n",
       "      <td>7th-8th</td>\n",
       "      <td>4</td>\n",
       "      <td>Divorced</td>\n",
       "      <td>Machine-op-inspct</td>\n",
       "      <td>Unmarried</td>\n",
       "      <td>White</td>\n",
       "      <td>Female</td>\n",
       "      <td>0</td>\n",
       "      <td>3900</td>\n",
       "      <td>40</td>\n",
       "      <td>United-States</td>\n",
       "      <td>&lt;=50K</td>\n",
       "      <td>0</td>\n",
       "      <td>yes</td>\n",
       "      <td>Other - still working</td>\n",
       "      <td>no</td>\n",
       "      <td>no</td>\n",
       "      <td>0</td>\n",
       "      <td>blue</td>\n",
       "      <td>yes</td>\n",
       "      <td>1</td>\n",
       "      <td>yes</td>\n",
       "    </tr>\n",
       "    <tr>\n",
       "      <th>4</th>\n",
       "      <td>41</td>\n",
       "      <td>Private</td>\n",
       "      <td>264663</td>\n",
       "      <td>Some-college</td>\n",
       "      <td>10</td>\n",
       "      <td>Separated</td>\n",
       "      <td>Prof-specialty</td>\n",
       "      <td>Own-child</td>\n",
       "      <td>White</td>\n",
       "      <td>Female</td>\n",
       "      <td>0</td>\n",
       "      <td>3900</td>\n",
       "      <td>40</td>\n",
       "      <td>United-States</td>\n",
       "      <td>&lt;=50K</td>\n",
       "      <td>0</td>\n",
       "      <td>yes</td>\n",
       "      <td>Other - still working</td>\n",
       "      <td>no</td>\n",
       "      <td>no</td>\n",
       "      <td>0</td>\n",
       "      <td>white</td>\n",
       "      <td>yes</td>\n",
       "      <td>1</td>\n",
       "      <td>yes</td>\n",
       "    </tr>\n",
       "  </tbody>\n",
       "</table>\n",
       "</div>"
      ],
      "text/plain": [
       "   age workclass  fnlwgt     education  education.num marital.status  \\\n",
       "0   90         ?   77053       HS-grad              9        Widowed   \n",
       "1   82   Private  132870       HS-grad              9        Widowed   \n",
       "2   66         ?  186061  Some-college             10        Widowed   \n",
       "3   54   Private  140359       7th-8th              4       Divorced   \n",
       "4   41   Private  264663  Some-college             10      Separated   \n",
       "\n",
       "          occupation   relationship   race     sex  capital.gain  \\\n",
       "0                  ?  Not-in-family  White  Female             0   \n",
       "1    Exec-managerial  Not-in-family  White  Female             0   \n",
       "2                  ?      Unmarried  Black  Female             0   \n",
       "3  Machine-op-inspct      Unmarried  White  Female             0   \n",
       "4     Prof-specialty      Own-child  White  Female             0   \n",
       "\n",
       "   capital.loss  hours.per.week native.country income  inc working age  \\\n",
       "0          4356              40  United-States  <=50K    0          no   \n",
       "1          4356              18  United-States  <=50K    0          no   \n",
       "2          4356              40  United-States  <=50K    0          no   \n",
       "3          3900              40  United-States  <=50K    0         yes   \n",
       "4          3900              40  United-States  <=50K    0         yes   \n",
       "\n",
       "                worktype college married  civ_husband collar White or Asian  \\\n",
       "0  Other - still working      no      no            0   blue            yes   \n",
       "1  Other - still working      no      no            0  white            yes   \n",
       "2  Other - still working      no      no            0   blue             no   \n",
       "3  Other - still working      no      no            0   blue            yes   \n",
       "4  Other - still working      no      no            0  white            yes   \n",
       "\n",
       "   hours developed  \n",
       "0      1       yes  \n",
       "1      0       yes  \n",
       "2      1       yes  \n",
       "3      1       yes  \n",
       "4      1       yes  "
      ]
     },
     "execution_count": 18,
     "metadata": {},
     "output_type": "execute_result"
    }
   ],
   "source": [
    "df.head()"
   ]
  },
  {
   "cell_type": "markdown",
   "metadata": {},
   "source": [
    "# Multivariate features"
   ]
  },
  {
   "cell_type": "code",
   "execution_count": 19,
   "metadata": {},
   "outputs": [
    {
     "name": "stdout",
     "output_type": "stream",
     "text": [
      "collar  worktype             \n",
      "blue    Governmental             0.227910\n",
      "        Other                    0.000000\n",
      "        Other - still working    0.128384\n",
      "        Self Employed            0.329004\n",
      "white   Governmental             0.347350\n",
      "        Other                    0.000000\n",
      "        Other - still working    0.316930\n",
      "        Self Employed            0.616949\n",
      "Name: inc, dtype: float64\n",
      "------------------------------------------------------------\n",
      "collar  worktype               inc\n",
      "blue    Governmental           0       1101\n",
      "                               1        325\n",
      "        Other                  0         18\n",
      "        Other - still working  0      12492\n",
      "                               1       1840\n",
      "        Self Employed          0        155\n",
      "                               1         76\n",
      "white   Governmental           0       1909\n",
      "                               1       1016\n",
      "        Other                  0          3\n",
      "        Other - still working  0       8703\n",
      "                               1       4038\n",
      "        Self Employed          1        546\n",
      "                               0        339\n",
      "Name: inc, dtype: int64\n",
      "white collar professional\n",
      "0    0.139975\n",
      "1    0.338348\n",
      "Name: inc, dtype: float64\n"
     ]
    }
   ],
   "source": [
    "# Looking at these two variables for a possible combination\n",
    "print(df.groupby(['collar', 'worktype'])['inc'].mean())\n",
    "print('-'*60)\n",
    "print(df.groupby(['collar', 'worktype'])['inc'].value_counts())\n",
    "\n",
    "df['white collar professional'] = 0\n",
    "df.loc[\n",
    "    (((df.worktype == 'Governmental') | \n",
    "     (df.worktype == 'Other - still working') | \n",
    "     (df.worktype == 'Self Employed')) & \n",
    "     (df.collar == 'white')),\n",
    "    'white collar professional'\n",
    "] = 1\n",
    "\n",
    "print(df.groupby('white collar professional')['inc'].mean())"
   ]
  },
  {
   "cell_type": "code",
   "execution_count": 20,
   "metadata": {},
   "outputs": [
    {
     "name": "stdout",
     "output_type": "stream",
     "text": [
      "race                sex   \n",
      "Amer-Indian-Eskimo  Female    0.100840\n",
      "                    Male      0.125000\n",
      "Asian-Pac-Islander  Female    0.124277\n",
      "                    Male      0.336219\n",
      "Black               Female    0.057878\n",
      "                    Male      0.189293\n",
      "Other               Female    0.055046\n",
      "                    Male      0.117284\n",
      "White               Female    0.118954\n",
      "                    Male      0.317565\n",
      "Name: inc, dtype: float64\n",
      "white_male\n",
      "no     0.119663\n",
      "yes    0.318216\n",
      "Name: inc, dtype: float64\n"
     ]
    }
   ],
   "source": [
    "# A feature built off the two most likely race indicators and further segmented by gender\n",
    "print(df.groupby(['race', 'sex'])['inc'].mean())\n",
    "\n",
    "df['white_male'] = 'no'\n",
    "df.loc[\n",
    "    ((df.race == 'White') | (df.race == 'Asian-Pac-Islander')) & (df.sex == 'Male'),\n",
    "    'white_male'\n",
    "] = 'yes'\n",
    "\n",
    "print(df.groupby('white_male')['inc'].mean())"
   ]
  },
  {
   "cell_type": "code",
   "execution_count": 36,
   "metadata": {},
   "outputs": [
    {
     "data": {
      "text/plain": [
       "third.world.college\n",
       "no     0.238263\n",
       "yes    0.384480\n",
       "Name: inc, dtype: float64"
      ]
     },
     "execution_count": 36,
     "metadata": {},
     "output_type": "execute_result"
    }
   ],
   "source": [
    "# Looking at the combination of going to college and coming from a developed country\n",
    "df['third.world.college'] = 'no'\n",
    "\n",
    "df.loc[\n",
    "    ((df.college == 'yes') & \n",
    "    (df.developed == 'no')),\n",
    "    'third.world.college'\n",
    "] = 'yes'\n",
    "df.groupby('third.world.college')['inc'].mean()"
   ]
  },
  {
   "cell_type": "code",
   "execution_count": 22,
   "metadata": {
    "scrolled": false
   },
   "outputs": [
    {
     "data": {
      "text/plain": [
       "first.world.college\n",
       "no     0.165596\n",
       "yes    0.492133\n",
       "Name: inc, dtype: float64"
      ]
     },
     "execution_count": 22,
     "metadata": {},
     "output_type": "execute_result"
    }
   ],
   "source": [
    "df.groupby('first.world.college')['inc'].mean()"
   ]
  },
  {
   "cell_type": "markdown",
   "metadata": {},
   "source": [
    "That seems like a pretty good split"
   ]
  },
  {
   "cell_type": "code",
   "execution_count": 23,
   "metadata": {
    "scrolled": false
   },
   "outputs": [
    {
     "data": {
      "image/png": "[encoded data removed]",
      "text/plain": [
       "<matplotlib.figure.Figure at 0x109f36b00>"
      ]
     },
     "metadata": {},
     "output_type": "display_data"
    },
    {
     "name": "stdout",
     "output_type": "stream",
     "text": [
      "sex\n",
      "Female    36.410361\n",
      "Male      42.428086\n",
      "Name: hours.per.week, dtype: float64\n",
      "count    21790.000000\n",
      "mean        42.428086\n",
      "std         12.119755\n",
      "min          1.000000\n",
      "25%         40.000000\n",
      "50%         40.000000\n",
      "75%         49.000000\n",
      "max         99.000000\n",
      "Name: hours.per.week, dtype: float64\n",
      "----------------------------------------\n",
      "count    10771.000000\n",
      "mean        36.410361\n",
      "std         11.811300\n",
      "min          1.000000\n",
      "25%         30.000000\n",
      "50%         40.000000\n",
      "75%         40.000000\n",
      "max         99.000000\n",
      "Name: hours.per.week, dtype: float64\n",
      "----------------------------------------\n",
      "Ttest_indResult(statistic=42.50952506734037, pvalue=0.0)\n"
     ]
    }
   ],
   "source": [
    "#Hours worked per week\n",
    "\n",
    "plt.figure(figsize=(20,10))\n",
    "plt.title('Differences in hours worked per week by Gender and Collar')\n",
    "sns.boxplot(x = df['hours.per.week'], y = df['sex'], hue = df['collar'])\n",
    "plt.axvline(36.4, color = 'r', linestyle = '--')\n",
    "plt.axvline(42.4, color = 'c', linestyle = '--')\n",
    "plt.show()\n",
    "print(df.groupby('sex')['hours.per.week'].mean())\n",
    "\n",
    "#Breaking this up by gender gets interesting\n",
    "print(df.loc[(df['sex'] == 'Male'),'hours.per.week'].describe())\n",
    "print('-'*40)\n",
    "print(df.loc[(df['sex'] == 'Female'), 'hours.per.week'].describe())\n",
    "print('-'*40)\n",
    "\n",
    "#Lets see if those differences are significant\n",
    "print(stats.ttest_ind(\n",
    "        df[df['sex'] == 'Male']['hours.per.week'].dropna(),\n",
    "        df[df['sex'] == 'Female']['hours.per.week'].dropna()\n",
    "    ))"
   ]
  },
  {
   "cell_type": "code",
   "execution_count": 24,
   "metadata": {
    "scrolled": false
   },
   "outputs": [
    {
     "data": {
      "text/plain": [
       "<matplotlib.axes._subplots.AxesSubplot at 0x109f3fda0>"
      ]
     },
     "execution_count": 24,
     "metadata": {},
     "output_type": "execute_result"
    },
    {
     "data": {
      "image/png": "[encoded data removed]",
      "text/plain": [
       "<matplotlib.figure.Figure at 0x109f3d9b0>"
      ]
     },
     "metadata": {},
     "output_type": "display_data"
    }
   ],
   "source": [
    "#By swapping randome combinations of variables into the y and hue variables we can get a lot of interesting views\n",
    "# of the data\n",
    "plt.figure(figsize=(20,10))\n",
    "sns.boxplot(x = 'hours.per.week', y = 'sex', hue = 'inc', data = df)"
   ]
  },
  {
   "cell_type": "code",
   "execution_count": 25,
   "metadata": {},
   "outputs": [
    {
     "name": "stdout",
     "output_type": "stream",
     "text": [
      "Axes(0.125,0.125;0.775x0.755)\n",
      "Axes(0.125,0.125;0.775x0.755)\n",
      "Axes(0.125,0.125;0.775x0.755)\n"
     ]
    },
    {
     "data": {
      "text/plain": [
       "working.age.male\n",
       "no     0.152751\n",
       "yes    0.451768\n",
       "Name: inc, dtype: float64"
      ]
     },
     "execution_count": 25,
     "metadata": {},
     "output_type": "execute_result"
    },
    {
     "data": {
      "image/png": "[encoded data removed]",
      "text/plain": [
       "<matplotlib.figure.Figure at 0x109f3e240>"
      ]
     },
     "metadata": {},
     "output_type": "display_data"
    }
   ],
   "source": [
    "#creating separate dataframes for testing\n",
    "df_w = df.loc[\n",
    "    (df.sex == 'Female'), :\n",
    "]\n",
    "\n",
    "df_m = df.loc[\n",
    "    (df.sex == 'Male'), :\n",
    "]\n",
    "\n",
    "# I think these three lines are fascinating. You can see that during the previously discussed 'working age' period \n",
    "# that males have a much higher earning potential. This needs to be factored in.\n",
    "print(df_w.groupby('age')['inc'].mean().plot()) # Female line is Blue\n",
    "print(df_m.groupby('age')['inc'].mean().plot()) # Male line is Green\n",
    "print(df.groupby('age')['inc'].mean().plot())   # Total line is Red\n",
    "\n",
    "#Building a feature for working age males(40-60), notice I have also changed the age range around for just men\n",
    "df['working.age.male'] = 'no'\n",
    "df.loc[\n",
    "    ((df.age >= 38) & \n",
    "     (df.age <= 60) & \n",
    "     (df.sex == 'Male')\n",
    "    ), 'working.age.male'\n",
    "] = 'yes'\n",
    "\n",
    "df.groupby('working.age.male')['inc'].mean()"
   ]
  },
  {
   "cell_type": "code",
   "execution_count": 26,
   "metadata": {},
   "outputs": [
    {
     "data": {
      "text/plain": [
       "prof_male\n",
       "no     0.214667\n",
       "yes    0.445167\n",
       "Name: inc, dtype: float64"
      ]
     },
     "execution_count": 26,
     "metadata": {},
     "output_type": "execute_result"
    }
   ],
   "source": [
    "#creating a feature that looks at only men in government/self employed roles\n",
    "\n",
    "df['prof_male'] = 'no'\n",
    "df.loc[\n",
    "    (((df.worktype == 'Governmental') | \n",
    "      (df.worktype == 'Self Employed')) & \n",
    "     (df.sex == 'Male')),\n",
    "    'prof_male'\n",
    "] = 'yes'\n",
    "\n",
    "df.groupby('prof_male')['inc'].mean()"
   ]
  },
  {
   "cell_type": "markdown",
   "metadata": {},
   "source": [
    "# Final list of features"
   ]
  },
  {
   "cell_type": "code",
   "execution_count": 39,
   "metadata": {},
   "outputs": [
    {
     "data": {
      "text/plain": [
       "Index(['age', 'workclass', 'fnlwgt', 'education', 'education.num',\n",
       "       'marital.status', 'occupation', 'relationship', 'race', 'sex',\n",
       "       'capital.gain', 'capital.loss', 'hours.per.week', 'native.country',\n",
       "       'income', 'inc', 'working age', 'worktype', 'college', 'married',\n",
       "       'civ_husband', 'collar', 'White or Asian', 'hours', 'developed',\n",
       "       'white collar professional', 'white_male', 'first.world.college',\n",
       "       'working.age.male', 'prof_male', 'third.world.college', 'full-time'],\n",
       "      dtype='object')"
      ]
     },
     "execution_count": 39,
     "metadata": {},
     "output_type": "execute_result"
    }
   ],
   "source": [
    "df.columns"
   ]
  },
  {
   "cell_type": "code",
   "execution_count": 40,
   "metadata": {
    "collapsed": true,
    "scrolled": false
   },
   "outputs": [],
   "source": [
    "df_feats = df[['age', \n",
    "               'workclass', \n",
    "               'education', \n",
    "               'education.num',\n",
    "               'marital.status',\n",
    "               'occupation',\n",
    "               'relationship',\n",
    "               'race',\n",
    "               'sex',\n",
    "               'hours.per.week',\n",
    "               'native.country',\n",
    "               'working age',\n",
    "               'worktype',\n",
    "               'college',\n",
    "               'married',\n",
    "               'civ_husband',\n",
    "               'collar',\n",
    "               'White or Asian',\n",
    "               'hours',\n",
    "               'developed',\n",
    "               'white collar professional',\n",
    "               'white_male',\n",
    "               'first.world.college',\n",
    "               'working.age.male',\n",
    "               'prof_male',\n",
    "               'full-time',\n",
    "               'inc']           \n",
    "]"
   ]
  },
  {
   "cell_type": "code",
   "execution_count": 41,
   "metadata": {},
   "outputs": [
    {
     "data": {
      "text/html": [
       "<div>\n",
       "<table border=\"1\" class=\"dataframe\">\n",
       "  <thead>\n",
       "    <tr style=\"text-align: right;\">\n",
       "      <th></th>\n",
       "      <th>age</th>\n",
       "      <th>workclass</th>\n",
       "      <th>education</th>\n",
       "      <th>education.num</th>\n",
       "      <th>marital.status</th>\n",
       "      <th>occupation</th>\n",
       "      <th>relationship</th>\n",
       "      <th>race</th>\n",
       "      <th>sex</th>\n",
       "      <th>hours.per.week</th>\n",
       "      <th>native.country</th>\n",
       "      <th>working age</th>\n",
       "      <th>worktype</th>\n",
       "      <th>college</th>\n",
       "      <th>married</th>\n",
       "      <th>civ_husband</th>\n",
       "      <th>collar</th>\n",
       "      <th>White or Asian</th>\n",
       "      <th>hours</th>\n",
       "      <th>developed</th>\n",
       "      <th>white collar professional</th>\n",
       "      <th>white_male</th>\n",
       "      <th>first.world.college</th>\n",
       "      <th>working.age.male</th>\n",
       "      <th>prof_male</th>\n",
       "      <th>full-time</th>\n",
       "      <th>inc</th>\n",
       "    </tr>\n",
       "  </thead>\n",
       "  <tbody>\n",
       "    <tr>\n",
       "      <th>0</th>\n",
       "      <td>90</td>\n",
       "      <td>?</td>\n",
       "      <td>HS-grad</td>\n",
       "      <td>9</td>\n",
       "      <td>Widowed</td>\n",
       "      <td>?</td>\n",
       "      <td>Not-in-family</td>\n",
       "      <td>White</td>\n",
       "      <td>Female</td>\n",
       "      <td>40</td>\n",
       "      <td>United-States</td>\n",
       "      <td>no</td>\n",
       "      <td>Other - still working</td>\n",
       "      <td>no</td>\n",
       "      <td>no</td>\n",
       "      <td>0</td>\n",
       "      <td>blue</td>\n",
       "      <td>yes</td>\n",
       "      <td>1</td>\n",
       "      <td>yes</td>\n",
       "      <td>0</td>\n",
       "      <td>no</td>\n",
       "      <td>no</td>\n",
       "      <td>no</td>\n",
       "      <td>no</td>\n",
       "      <td>yes</td>\n",
       "      <td>0</td>\n",
       "    </tr>\n",
       "    <tr>\n",
       "      <th>1</th>\n",
       "      <td>82</td>\n",
       "      <td>Private</td>\n",
       "      <td>HS-grad</td>\n",
       "      <td>9</td>\n",
       "      <td>Widowed</td>\n",
       "      <td>Exec-managerial</td>\n",
       "      <td>Not-in-family</td>\n",
       "      <td>White</td>\n",
       "      <td>Female</td>\n",
       "      <td>18</td>\n",
       "      <td>United-States</td>\n",
       "      <td>no</td>\n",
       "      <td>Other - still working</td>\n",
       "      <td>no</td>\n",
       "      <td>no</td>\n",
       "      <td>0</td>\n",
       "      <td>white</td>\n",
       "      <td>yes</td>\n",
       "      <td>0</td>\n",
       "      <td>yes</td>\n",
       "      <td>1</td>\n",
       "      <td>no</td>\n",
       "      <td>no</td>\n",
       "      <td>no</td>\n",
       "      <td>no</td>\n",
       "      <td>no</td>\n",
       "      <td>0</td>\n",
       "    </tr>\n",
       "    <tr>\n",
       "      <th>2</th>\n",
       "      <td>66</td>\n",
       "      <td>?</td>\n",
       "      <td>Some-college</td>\n",
       "      <td>10</td>\n",
       "      <td>Widowed</td>\n",
       "      <td>?</td>\n",
       "      <td>Unmarried</td>\n",
       "      <td>Black</td>\n",
       "      <td>Female</td>\n",
       "      <td>40</td>\n",
       "      <td>United-States</td>\n",
       "      <td>no</td>\n",
       "      <td>Other - still working</td>\n",
       "      <td>no</td>\n",
       "      <td>no</td>\n",
       "      <td>0</td>\n",
       "      <td>blue</td>\n",
       "      <td>no</td>\n",
       "      <td>1</td>\n",
       "      <td>yes</td>\n",
       "      <td>0</td>\n",
       "      <td>no</td>\n",
       "      <td>no</td>\n",
       "      <td>no</td>\n",
       "      <td>no</td>\n",
       "      <td>yes</td>\n",
       "      <td>0</td>\n",
       "    </tr>\n",
       "    <tr>\n",
       "      <th>3</th>\n",
       "      <td>54</td>\n",
       "      <td>Private</td>\n",
       "      <td>7th-8th</td>\n",
       "      <td>4</td>\n",
       "      <td>Divorced</td>\n",
       "      <td>Machine-op-inspct</td>\n",
       "      <td>Unmarried</td>\n",
       "      <td>White</td>\n",
       "      <td>Female</td>\n",
       "      <td>40</td>\n",
       "      <td>United-States</td>\n",
       "      <td>yes</td>\n",
       "      <td>Other - still working</td>\n",
       "      <td>no</td>\n",
       "      <td>no</td>\n",
       "      <td>0</td>\n",
       "      <td>blue</td>\n",
       "      <td>yes</td>\n",
       "      <td>1</td>\n",
       "      <td>yes</td>\n",
       "      <td>0</td>\n",
       "      <td>no</td>\n",
       "      <td>no</td>\n",
       "      <td>no</td>\n",
       "      <td>no</td>\n",
       "      <td>yes</td>\n",
       "      <td>0</td>\n",
       "    </tr>\n",
       "    <tr>\n",
       "      <th>4</th>\n",
       "      <td>41</td>\n",
       "      <td>Private</td>\n",
       "      <td>Some-college</td>\n",
       "      <td>10</td>\n",
       "      <td>Separated</td>\n",
       "      <td>Prof-specialty</td>\n",
       "      <td>Own-child</td>\n",
       "      <td>White</td>\n",
       "      <td>Female</td>\n",
       "      <td>40</td>\n",
       "      <td>United-States</td>\n",
       "      <td>yes</td>\n",
       "      <td>Other - still working</td>\n",
       "      <td>no</td>\n",
       "      <td>no</td>\n",
       "      <td>0</td>\n",
       "      <td>white</td>\n",
       "      <td>yes</td>\n",
       "      <td>1</td>\n",
       "      <td>yes</td>\n",
       "      <td>1</td>\n",
       "      <td>no</td>\n",
       "      <td>no</td>\n",
       "      <td>no</td>\n",
       "      <td>no</td>\n",
       "      <td>yes</td>\n",
       "      <td>0</td>\n",
       "    </tr>\n",
       "  </tbody>\n",
       "</table>\n",
       "</div>"
      ],
      "text/plain": [
       "   age workclass     education  education.num marital.status  \\\n",
       "0   90         ?       HS-grad              9        Widowed   \n",
       "1   82   Private       HS-grad              9        Widowed   \n",
       "2   66         ?  Some-college             10        Widowed   \n",
       "3   54   Private       7th-8th              4       Divorced   \n",
       "4   41   Private  Some-college             10      Separated   \n",
       "\n",
       "          occupation   relationship   race     sex  hours.per.week  \\\n",
       "0                  ?  Not-in-family  White  Female              40   \n",
       "1    Exec-managerial  Not-in-family  White  Female              18   \n",
       "2                  ?      Unmarried  Black  Female              40   \n",
       "3  Machine-op-inspct      Unmarried  White  Female              40   \n",
       "4     Prof-specialty      Own-child  White  Female              40   \n",
       "\n",
       "  native.country working age               worktype college married  \\\n",
       "0  United-States          no  Other - still working      no      no   \n",
       "1  United-States          no  Other - still working      no      no   \n",
       "2  United-States          no  Other - still working      no      no   \n",
       "3  United-States         yes  Other - still working      no      no   \n",
       "4  United-States         yes  Other - still working      no      no   \n",
       "\n",
       "   civ_husband collar White or Asian  hours developed  \\\n",
       "0            0   blue            yes      1       yes   \n",
       "1            0  white            yes      0       yes   \n",
       "2            0   blue             no      1       yes   \n",
       "3            0   blue            yes      1       yes   \n",
       "4            0  white            yes      1       yes   \n",
       "\n",
       "   white collar professional white_male first.world.college working.age.male  \\\n",
       "0                          0         no                  no               no   \n",
       "1                          1         no                  no               no   \n",
       "2                          0         no                  no               no   \n",
       "3                          0         no                  no               no   \n",
       "4                          1         no                  no               no   \n",
       "\n",
       "  prof_male full-time  inc  \n",
       "0        no       yes    0  \n",
       "1        no        no    0  \n",
       "2        no       yes    0  \n",
       "3        no       yes    0  \n",
       "4        no       yes    0  "
      ]
     },
     "execution_count": 41,
     "metadata": {},
     "output_type": "execute_result"
    }
   ],
   "source": [
    "df_feats.head()"
   ]
  },
  {
   "cell_type": "code",
   "execution_count": 43,
   "metadata": {},
   "outputs": [],
   "source": [
    "#Categorizing the newly built features\n",
    "\n",
    "#lets focus on the ones more 'social' in nature first\n",
    "\n",
    " ch = df_feats.groupby('civ_husband')['inc'].mean() \n",
    " ma = df_feats.groupby('married')['inc'].mean()\n",
    " wa = df_feats.groupby('White or Asian')['inc'].mean()\n",
    " wm = df_feats.groupby('white_male')['inc'].mean()\n",
    " wam = df_feats.groupby('working.age.male')['inc'].mean()\n",
    " pm = df_feats.groupby('prof_male')['inc'].mean()\n",
    "se = df_feats.groupby('sex')['inc'].mean()\n",
    " de = df_feats.groupby('developed')['inc'].mean()\n",
    "\n",
    "#And these are a bit more professional in nature\n",
    " wcp = df_feats.groupby('white collar professional')['inc'].mean()\n",
    " fwc = df_feats.groupby('first.world.college')['inc'].mean()\n",
    " wt = df_feats.groupby('worktype')['inc'].mean()\n",
    " ce = df_feats.groupby('college')['inc'].mean()\n",
    " cr = df_feats.groupby('collar')['inc'].mean()\n",
    " wo = df_feats.groupby('working age')['inc'].mean()\n",
    "ho = df_feats.groupby('hours')['inc'].mean()\n",
    "ft = df_feats.groupby('full-time')['inc'].mean()"
   ]
  },
  {
   "cell_type": "markdown",
   "metadata": {},
   "source": [
    "Comparing similar categories below for clarity purposes."
   ]
  },
  {
   "cell_type": "code",
   "execution_count": 31,
   "metadata": {},
   "outputs": [
    {
     "name": "stdout",
     "output_type": "stream",
     "text": [
      "civ_husband\n",
      "0    0.099448\n",
      "1    0.448574\n",
      "Name: inc, dtype: float64\n",
      "married\n",
      "no     0.064856\n",
      "yes    0.446830\n",
      "Name: inc, dtype: float64\n"
     ]
    }
   ],
   "source": [
    "print(ch)\n",
    "print(ma)"
   ]
  },
  {
   "cell_type": "markdown",
   "metadata": {},
   "source": [
    "Married seems like it will suffice"
   ]
  },
  {
   "cell_type": "code",
   "execution_count": 32,
   "metadata": {},
   "outputs": [
    {
     "name": "stdout",
     "output_type": "stream",
     "text": [
      "White or Asian\n",
      "no     0.120885\n",
      "yes    0.256212\n",
      "Name: inc, dtype: float64\n",
      "white_male\n",
      "no     0.119663\n",
      "yes    0.318216\n",
      "Name: inc, dtype: float64\n",
      "working.age.male\n",
      "no     0.152751\n",
      "yes    0.451768\n",
      "Name: inc, dtype: float64\n",
      "working age\n",
      "no     0.118562\n",
      "yes    0.356375\n",
      "Name: inc, dtype: float64\n",
      "prof_male\n",
      "no     0.214667\n",
      "yes    0.445167\n",
      "Name: inc, dtype: float64\n"
     ]
    }
   ],
   "source": [
    "print(wa)\n",
    "print(wm)\n",
    "print(wam)\n",
    "print(wo)\n",
    "print(pm)"
   ]
  },
  {
   "cell_type": "markdown",
   "metadata": {
    "collapsed": true
   },
   "source": [
    "The 'White or Asian' feature just doesn't have a very strong split, 'white_male' seems to be better. Working age also seems alright but 'working age male' is better. I might just use working age male in place of all of them."
   ]
  },
  {
   "cell_type": "code",
   "execution_count": 33,
   "metadata": {},
   "outputs": [
    {
     "name": "stdout",
     "output_type": "stream",
     "text": [
      "white collar professional\n",
      "0    0.139975\n",
      "1    0.338348\n",
      "Name: inc, dtype: float64\n",
      "worktype\n",
      "Governmental             0.308205\n",
      "Other                    0.000000\n",
      "Other - still working    0.217117\n",
      "Self Employed            0.557348\n",
      "Name: inc, dtype: float64\n",
      "collar\n",
      "blue     0.140001\n",
      "white    0.338287\n",
      "Name: inc, dtype: float64\n"
     ]
    }
   ],
   "source": [
    "print(wcp)\n",
    "print(wt)\n",
    "print(cr)"
   ]
  },
  {
   "cell_type": "markdown",
   "metadata": {},
   "source": [
    "I think worktype is still the best indicator, especially if I can use it as a weight instead of a straight yes/no variable"
   ]
  },
  {
   "cell_type": "code",
   "execution_count": 34,
   "metadata": {},
   "outputs": [
    {
     "name": "stdout",
     "output_type": "stream",
     "text": [
      "college\n",
      "no     0.160529\n",
      "yes    0.484567\n",
      "Name: inc, dtype: float64\n",
      "first.world.college\n",
      "no     0.165596\n",
      "yes    0.492133\n",
      "Name: inc, dtype: float64\n",
      "developed\n",
      "no     0.151104\n",
      "yes    0.248532\n",
      "Name: inc, dtype: float64\n"
     ]
    }
   ],
   "source": [
    "print(ce)\n",
    "print(fwc)\n",
    "print(de)"
   ]
  },
  {
   "cell_type": "markdown",
   "metadata": {},
   "source": [
    "first.world.college seems like the strongest indicator"
   ]
  },
  {
   "cell_type": "code",
   "execution_count": 44,
   "metadata": {},
   "outputs": [
    {
     "name": "stdout",
     "output_type": "stream",
     "text": [
      "hours\n",
      "0    0.088978\n",
      "1    0.284292\n",
      "Name: inc, dtype: float64\n",
      "full-time\n",
      "no     0.069318\n",
      "yes    0.276299\n",
      "Name: inc, dtype: float64\n"
     ]
    }
   ],
   "source": [
    "print(ho)\n",
    "print(ft)"
   ]
  },
  {
   "cell_type": "markdown",
   "metadata": {},
   "source": [
    "the full time seems like a better indicator both because it's close to the 'hours' feature and also because it is a more natural split. More than 35 hours equates to full time work and less would be part time, this would probably reflect better upon test data and prevent over fitting(my original setting of the arbitrary lower and upper limits of 'hours' seems like a type of over-fitting."
   ]
  },
  {
   "cell_type": "code",
   "execution_count": 46,
   "metadata": {
    "collapsed": true
   },
   "outputs": [],
   "source": [
    "#building a data frame with the final features that I would put into my model\n",
    "df_final = df_feats[['married', 'working.age.male', 'worktype', 'first.world.college', 'full-time', 'inc']]"
   ]
  },
  {
   "cell_type": "markdown",
   "metadata": {},
   "source": [
    "The only issue I see above so far is that all the final features except for 'worktype' are binary. The 'worktype' feature would work better if it was able to be weighted instead of just a yes or no checkoff."
   ]
  },
  {
   "cell_type": "code",
   "execution_count": 50,
   "metadata": {},
   "outputs": [
    {
     "data": {
      "text/plain": [
       "0.80601092896174864"
      ]
     },
     "execution_count": 50,
     "metadata": {},
     "output_type": "execute_result"
    }
   ],
   "source": [
    "#lets do a quick run through of the features\n",
    "df_final.loc[\n",
    "    ((df_final.married == 'yes') & \n",
    "    (df_final['working.age.male'] == 'yes') & \n",
    "    ((df_final.worktype == 'Governmental') | \n",
    "    (df_final.worktype == 'Self Employed')) & \n",
    "     (df['first.world.college'] == 'yes') & \n",
    "     (df['full-time'] == 'yes')),\n",
    "    'inc'\n",
    "].mean()"
   ]
  },
  {
   "cell_type": "code",
   "execution_count": null,
   "metadata": {
    "collapsed": true
   },
   "outputs": [],
   "source": []
  }
 ],
 "metadata": {
  "kernelspec": {
   "display_name": "Python 3",
   "language": "python",
   "name": "python3"
  },
  "language_info": {
   "codemirror_mode": {
    "name": "ipython",
    "version": 3
   },
   "file_extension": ".py",
   "mimetype": "text/x-python",
   "name": "python",
   "nbconvert_exporter": "python",
   "pygments_lexer": "ipython3",
   "version": "3.5.2"
  }
 },
 "nbformat": 4,
 "nbformat_minor": 2
}

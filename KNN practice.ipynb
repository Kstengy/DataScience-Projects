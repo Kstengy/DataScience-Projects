{
 "cells": [
  {
   "cell_type": "code",
   "execution_count": 77,
   "metadata": {
    "collapsed": true
   },
   "outputs": [],
   "source": [
    "import numpy as np\n",
    "import pandas as pd\n",
    "import matplotlib.pyplot as plt\n",
    "import scipy\n",
    "%matplotlib inline"
   ]
  },
  {
   "cell_type": "code",
   "execution_count": 78,
   "metadata": {},
   "outputs": [
    {
     "data": {
      "image/png": "[encoded data removed]",
      "text/plain": [
       "<matplotlib.figure.Figure at 0x10785fd30>"
      ]
     },
     "metadata": {},
     "output_type": "display_data"
    }
   ],
   "source": [
    "music = pd.DataFrame()\n",
    "\n",
    "#creating data to mess around with\n",
    "# Some data to play with.\n",
    "music['Duration'] = [184, 134, 243, 186, 122, 197, 294, 382, 102, 264, \n",
    "                     205, 110, 307, 110, 397, 153, 190, 192, 210, 403,\n",
    "                     164, 198, 204, 253, 234, 190, 182, 401, 376, 102]\n",
    "music['Loudness'] = [18, 34, 43, 36, 22, 9, 29, 22, 10, 24, \n",
    "                     20, 10, 17, 51, 7, 13, 19, 12, 21, 22,\n",
    "                     16, 18, 4, 23, 34, 19, 14, 11, 37, 42]\n",
    "\n",
    "# We know whether the songs in our training data are jazz or not.\n",
    "music['Jazz'] = [ 1, 0, 0, 0, 1, 1, 0, 1, 1, 0,\n",
    "                  0, 1, 1, 0, 1, 1, 0, 1, 1, 1,\n",
    "                  1, 1, 1, 1, 0, 0, 1, 1, 0, 0] \n",
    "\n",
    "plt.scatter(\n",
    "    music[music['Jazz'] == 1].Duration,\n",
    "    music[music['Jazz'] == 1].Loudness,\n",
    "    color = 'red')\n",
    "\n",
    "plt.scatter(\n",
    "    music[music['Jazz'] == 0].Duration,\n",
    "    music[music['Jazz'] == 0].Loudness,\n",
    "    color = 'blue')\n",
    "\n",
    "plt.legend(['Jazz', 'Rock'])\n",
    "plt.title('Jazz and Rock Characteristics')\n",
    "plt.xlabel('Duration')\n",
    "plt.ylabel('Loudness')\n",
    "plt.show()"
   ]
  },
  {
   "cell_type": "markdown",
   "metadata": {},
   "source": [
    "Q - so in nearest neighbor it says 'when tyring to predict an observation, we find the closest known observation in our training data' so...we aren't actually building a model then right? Just measuring proximity? How does this translate into unknown data?"
   ]
  },
  {
   "cell_type": "code",
   "execution_count": 98,
   "metadata": {},
   "outputs": [
    {
     "name": "stdout",
     "output_type": "stream",
     "text": [
      "[0]\n",
      "[[ 1.  0.]]\n"
     ]
    }
   ],
   "source": [
    "from sklearn.neighbors import KNeighborsClassifier\n",
    "neighbors = KNeighborsClassifier(n_neighbors=1)\n",
    "X = music[['Loudness', 'Duration']]\n",
    "Y = music.Jazz\n",
    "neighbors.fit(X,Y)\n",
    "\n",
    "#predicting a song\n",
    "print(neighbors.predict([[19, 190]]))\n",
    "print(neighbors.predict_proba([[19,190]]))"
   ]
  },
  {
   "cell_type": "markdown",
   "metadata": {},
   "source": [
    "Q - so are the above stats saying that 80% of the neighbors  voted that it was in fact Jazz?"
   ]
  },
  {
   "cell_type": "code",
   "execution_count": 80,
   "metadata": {},
   "outputs": [
    {
     "data": {
      "image/png": "[encoded data removed]",
      "text/plain": [
       "<matplotlib.figure.Figure at 0x103a047b8>"
      ]
     },
     "metadata": {},
     "output_type": "display_data"
    }
   ],
   "source": [
    "#converting data to arrays instead of DF's\n",
    "X = np.array(X)\n",
    "Y = np.array(Y)\n",
    "\n",
    "#setting the mesh size\n",
    "h = .1\n",
    "\n",
    "#plot the decision boundary, assigning a color to each mesh point\n",
    "x_min = X[:,0].min() - .5\n",
    "x_max = X[:,0].max() + .5\n",
    "y_min = X[:,1].min() - .5 #why isn't this Y[:,0]?\n",
    "y_max = X[:,1].max() + .5\n",
    "xx, yy = np.meshgrid(\n",
    "    np.arange(x_min, x_max, h), #what does arange do again?\n",
    "    np.arange(y_min, y_max, h))\n",
    "\n",
    "Z = neighbors.predict(np.c_[xx.ravel(), yy.ravel()])\n",
    "\n",
    "#plotting the results in color\n",
    "Z = Z.reshape(xx.shape)\n",
    "plt.figure(1, figsize = (6,4))\n",
    "plt.set_cmap(plt.cm.Paired) #not sure what this is\n",
    "plt.pcolormesh(xx, yy, Z)\n",
    "\n",
    "#add in the training points\n",
    "plt.scatter(X[:,0], X[:,1], c=Y) #how can color = an array?\n",
    "plt.xlabel('Loudness')\n",
    "plt.ylabel('Duration')\n",
    "plt.title('Mesh visualization')\n",
    "\n",
    "plt.xlim(xx.min(), xx.max())\n",
    "plt.ylim(yy.min(), yy.max())\n",
    "\n",
    "plt.show()"
   ]
  },
  {
   "cell_type": "markdown",
   "metadata": {},
   "source": [
    "# Building my own KNN function from scratch"
   ]
  },
  {
   "cell_type": "code",
   "execution_count": 81,
   "metadata": {
    "collapsed": true
   },
   "outputs": [],
   "source": [
    "#need to build my own KNN\n",
    "#start with a function that measures the pythag theorem of an input\n",
    "#variable against each coordinate combo in the training set\n",
    "\n",
    "#This function will keep the smallest distance coordinate combo and\n",
    "#return the corresponding prediction"
   ]
  },
  {
   "cell_type": "code",
   "execution_count": 82,
   "metadata": {},
   "outputs": [],
   "source": [
    "music1 = pd.DataFrame()\n",
    "music1['Duration'] = [184, 134, 243, 186, 122, 197, 294, 382, 102, 264, \n",
    "                     205, 110, 307, 110, 397, 153, 190, 192, 210, 403,\n",
    "                     164, 198, 204, 253, 234, 190, 182, 401, 376, 102]\n",
    "music1['Loudness'] = [18, 34, 43, 36, 22, 9, 29, 22, 10, 24, \n",
    "                     20, 10, 17, 51, 7, 13, 19, 12, 21, 22,\n",
    "                     16, 18, 4, 23, 34, 19, 14, 11, 37, 42]\n",
    "music1['Jazz'] = [ 1, 0, 0, 0, 1, 1, 0, 1, 1, 0,\n",
    "                  0, 1, 1, 0, 1, 1, 0, 1, 1, 1,\n",
    "                  1, 1, 1, 1, 0, 0, 1, 1, 0, 0] "
   ]
  },
  {
   "cell_type": "code",
   "execution_count": 111,
   "metadata": {
    "collapsed": true
   },
   "outputs": [],
   "source": [
    "#My function that replicates the SKLearn model\n",
    "def KNN_Finder(lou, dur):\n",
    "    ttl = 100 #there is probably a better way to do this\n",
    "    pair = [] #this isn't necessary, just for diagnostic purposes\n",
    "    ans = []\n",
    "    for i in range(len(music1)):\n",
    "        d = music1.Duration\n",
    "        l = music1.Loudness\n",
    "        pythag = ((dur - d[i])**2 + (lou - l[i])**2)**.5\n",
    "        if pythag < ttl:\n",
    "            ttl = pythag\n",
    "            pair = [l[i], d[i]]\n",
    "            ans = music1.Jazz[i]\n",
    "    return ans, pair"
   ]
  },
  {
   "cell_type": "code",
   "execution_count": 112,
   "metadata": {},
   "outputs": [
    {
     "data": {
      "text/plain": [
       "(1, [18, 184])"
      ]
     },
     "execution_count": 112,
     "metadata": {},
     "output_type": "execute_result"
    }
   ],
   "source": [
    "KNN_Finder(17, 181) #So the function works"
   ]
  },
  {
   "cell_type": "code",
   "execution_count": 113,
   "metadata": {
    "collapsed": true
   },
   "outputs": [],
   "source": [
    "#this function tests my KNN function against the SKLearn model\n",
    "def Tester(lou, dur):\n",
    "    me = KNN_Finder(lou, dur)\n",
    "    SK = neighbors.predict([[lou, dur]])\n",
    "    print('Me: ', me)\n",
    "    print('SK: ', SK)"
   ]
  },
  {
   "cell_type": "code",
   "execution_count": 114,
   "metadata": {},
   "outputs": [
    {
     "name": "stdout",
     "output_type": "stream",
     "text": [
      "Me:  (1, [18, 184])\n",
      "SK:  [1]\n"
     ]
    }
   ],
   "source": [
    "Tester(17, 181)"
   ]
  },
  {
   "cell_type": "code",
   "execution_count": null,
   "metadata": {
    "collapsed": true
   },
   "outputs": [],
   "source": [
    "#Need to make this a true KNN model from scratch by adding another\n",
    "#parameter that allows for increasing the number of neighbors\n"
   ]
  }
 ],
 "metadata": {
  "kernelspec": {
   "display_name": "Python 3",
   "language": "python",
   "name": "python3"
  },
  "language_info": {
   "codemirror_mode": {
    "name": "ipython",
    "version": 3
   },
   "file_extension": ".py",
   "mimetype": "text/x-python",
   "name": "python",
   "nbconvert_exporter": "python",
   "pygments_lexer": "ipython3",
   "version": "3.5.2"
  }
 },
 "nbformat": 4,
 "nbformat_minor": 2
}

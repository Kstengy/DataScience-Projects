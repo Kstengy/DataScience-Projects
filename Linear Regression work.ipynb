{
 "cells": [
  {
   "cell_type": "code",
   "execution_count": 1,
   "metadata": {
    "collapsed": true
   },
   "outputs": [],
   "source": [
    "import pandas as pd\n",
    "import numpy as np\n",
    "import matplotlib.pyplot as plt \n",
    "import scipy\n",
    "import sklearn\n",
    "from sklearn import linear_model\n",
    "import seaborn as sns\n",
    "%matplotlib inline"
   ]
  },
  {
   "cell_type": "code",
   "execution_count": 2,
   "metadata": {
    "collapsed": true
   },
   "outputs": [],
   "source": [
    "crime = pd.read_excel('new_york_crime_by_city_2013.xls')\n",
    "df_crime = pd.DataFrame.from_dict(crime)\n",
    "df_crime = df_crime.drop('Rape\\n(revised\\ndefinition)1', 1)\n",
    "df_crime.columns = ['City', 'Population', 'Violent_Crime', 'Murder', 'Rape', 'Robbery', 'Aggravated_Assault',\n",
    "                   'Property_Crime', 'Burglary', 'Larceny_Theft', 'Motor_Vehicle_Theft', 'Arson']"
   ]
  },
  {
   "cell_type": "code",
   "execution_count": 3,
   "metadata": {
    "collapsed": true,
    "scrolled": true
   },
   "outputs": [],
   "source": [
    "df_crime = df_crime[['Population', 'Murder', 'Robbery', 'Property_Crime']].dropna()\n",
    "\n",
    "#print(df_crime.columns)"
   ]
  },
  {
   "cell_type": "code",
   "execution_count": 10,
   "metadata": {},
   "outputs": [],
   "source": [
    "#creating a squared column for population\n",
    "df_crime['population^2'] = (df_crime['Population']**2)\n",
    "\n",
    "#creating a binary column for murder\n",
    "df_crime['Murder_Feature'] = 0\n",
    "df_crime.loc[\n",
    "    (df_crime['Murder'] > 0),\n",
    "    'Murder_Feature'\n",
    "] = 1\n",
    "\n",
    "#creating a binary column for robbery\n",
    "df_crime['Robbery_Feature'] = 0\n",
    "df_crime.loc[\n",
    "    (df_crime.Robbery > 0),\n",
    "    'Robbery_Feature'\n",
    "] = 1\n",
    "\n",
    "#creating a column to wrangle the population differences\n",
    "df_crime['Major_City'] = 0\n",
    "df_crime.loc[\n",
    "    (df_crime.Population > 40000),\n",
    "    'Major_City'\n",
    "] = 1"
   ]
  },
  {
   "cell_type": "code",
   "execution_count": 11,
   "metadata": {
    "scrolled": true
   },
   "outputs": [
    {
     "data": {
      "text/html": [
       "<div>\n",
       "<table border=\"1\" class=\"dataframe\">\n",
       "  <thead>\n",
       "    <tr style=\"text-align: right;\">\n",
       "      <th></th>\n",
       "      <th>Population</th>\n",
       "      <th>Murder</th>\n",
       "      <th>Robbery</th>\n",
       "      <th>Property_Crime</th>\n",
       "      <th>population^2</th>\n",
       "      <th>Murder_Feature</th>\n",
       "      <th>Robbery_Feature</th>\n",
       "      <th>Major_City</th>\n",
       "    </tr>\n",
       "  </thead>\n",
       "  <tbody>\n",
       "    <tr>\n",
       "      <th>0</th>\n",
       "      <td>1861.0</td>\n",
       "      <td>0.0</td>\n",
       "      <td>0.0</td>\n",
       "      <td>12.0</td>\n",
       "      <td>3.463321e+06</td>\n",
       "      <td>0</td>\n",
       "      <td>0</td>\n",
       "      <td>0</td>\n",
       "    </tr>\n",
       "    <tr>\n",
       "      <th>1</th>\n",
       "      <td>2577.0</td>\n",
       "      <td>0.0</td>\n",
       "      <td>0.0</td>\n",
       "      <td>24.0</td>\n",
       "      <td>6.640929e+06</td>\n",
       "      <td>0</td>\n",
       "      <td>0</td>\n",
       "      <td>0</td>\n",
       "    </tr>\n",
       "    <tr>\n",
       "      <th>2</th>\n",
       "      <td>2846.0</td>\n",
       "      <td>0.0</td>\n",
       "      <td>0.0</td>\n",
       "      <td>16.0</td>\n",
       "      <td>8.099716e+06</td>\n",
       "      <td>0</td>\n",
       "      <td>0</td>\n",
       "      <td>0</td>\n",
       "    </tr>\n",
       "    <tr>\n",
       "      <th>3</th>\n",
       "      <td>97956.0</td>\n",
       "      <td>8.0</td>\n",
       "      <td>227.0</td>\n",
       "      <td>4090.0</td>\n",
       "      <td>9.595378e+09</td>\n",
       "      <td>1</td>\n",
       "      <td>1</td>\n",
       "      <td>1</td>\n",
       "    </tr>\n",
       "    <tr>\n",
       "      <th>4</th>\n",
       "      <td>6388.0</td>\n",
       "      <td>0.0</td>\n",
       "      <td>4.0</td>\n",
       "      <td>223.0</td>\n",
       "      <td>4.080654e+07</td>\n",
       "      <td>0</td>\n",
       "      <td>1</td>\n",
       "      <td>0</td>\n",
       "    </tr>\n",
       "  </tbody>\n",
       "</table>\n",
       "</div>"
      ],
      "text/plain": [
       "   Population  Murder  Robbery  Property_Crime  population^2  Murder_Feature  \\\n",
       "0      1861.0     0.0      0.0            12.0  3.463321e+06               0   \n",
       "1      2577.0     0.0      0.0            24.0  6.640929e+06               0   \n",
       "2      2846.0     0.0      0.0            16.0  8.099716e+06               0   \n",
       "3     97956.0     8.0    227.0          4090.0  9.595378e+09               1   \n",
       "4      6388.0     0.0      4.0           223.0  4.080654e+07               0   \n",
       "\n",
       "   Robbery_Feature  Major_City  \n",
       "0                0           0  \n",
       "1                0           0  \n",
       "2                0           0  \n",
       "3                1           1  \n",
       "4                1           0  "
      ]
     },
     "execution_count": 11,
     "metadata": {},
     "output_type": "execute_result"
    }
   ],
   "source": [
    "df_crime.head()"
   ]
  },
  {
   "cell_type": "code",
   "execution_count": 7,
   "metadata": {},
   "outputs": [
    {
     "data": {
      "text/plain": [
       "count    3.480000e+02\n",
       "mean     4.003763e+04\n",
       "std      4.500374e+05\n",
       "min      5.260000e+02\n",
       "25%      3.003000e+03\n",
       "50%      7.233500e+03\n",
       "75%      1.842750e+04\n",
       "max      8.396126e+06\n",
       "Name: Population, dtype: float64"
      ]
     },
     "execution_count": 7,
     "metadata": {},
     "output_type": "execute_result"
    }
   ],
   "source": [
    "df_crime.Population.describe()"
   ]
  },
  {
   "cell_type": "code",
   "execution_count": 38,
   "metadata": {
    "scrolled": true
   },
   "outputs": [
    {
     "data": {
      "text/plain": [
       "<matplotlib.axes._subplots.AxesSubplot at 0x10b0c1a90>"
      ]
     },
     "execution_count": 38,
     "metadata": {},
     "output_type": "execute_result"
    },
    {
     "data": {
      "image/png": "[encoded data removed]",
      "text/plain": [
       "<matplotlib.figure.Figure at 0x10b328828>"
      ]
     },
     "metadata": {},
     "output_type": "display_data"
    }
   ],
   "source": [
    "# boxplot showing the property crime distirbution based on the Murder Feature\n",
    "plt.ylim(0, 3000)\n",
    "sns.boxplot(y = 'Property_Crime', x = 'Murder_Feature', data = df_crime)"
   ]
  },
  {
   "cell_type": "markdown",
   "metadata": {},
   "source": [
    "It looks like property crime is significantly more probable/common when a town's crimes include murder"
   ]
  },
  {
   "cell_type": "code",
   "execution_count": 39,
   "metadata": {},
   "outputs": [
    {
     "data": {
      "text/plain": [
       "<seaborn.axisgrid.FacetGrid at 0x10aed97b8>"
      ]
     },
     "execution_count": 39,
     "metadata": {},
     "output_type": "execute_result"
    },
    {
     "data": {
      "image/png": "[encoded data removed]",
      "text/plain": [
       "<matplotlib.figure.Figure at 0x10aed9860>"
      ]
     },
     "metadata": {},
     "output_type": "display_data"
    }
   ],
   "source": [
    "# plotting the murder rate against property crime rate\n",
    "sns.lmplot('Murder', 'Property_Crime', data = df_crime)"
   ]
  },
  {
   "cell_type": "markdown",
   "metadata": {},
   "source": [
    "Since the x and y axis are not to scale I'm not sure if interpreting the strong slope visually means anything. I wish there was a way to have the lmplot also output the equation it came up with."
   ]
  },
  {
   "cell_type": "code",
   "execution_count": 40,
   "metadata": {},
   "outputs": [
    {
     "data": {
      "image/png": "[encoded data removed]",
      "text/plain": [
       "<matplotlib.figure.Figure at 0x10a6843c8>"
      ]
     },
     "metadata": {},
     "output_type": "display_data"
    },
    {
     "data": {
      "image/png": "[encoded data removed]",
      "text/plain": [
       "<matplotlib.figure.Figure at 0x10b3089b0>"
      ]
     },
     "metadata": {},
     "output_type": "display_data"
    }
   ],
   "source": [
    "#Plotting both population and population squared against the property crime rate\n",
    "sns.lmplot('Population', 'Property_Crime', data = df_crime)\n",
    "sns.lmplot('population^2', 'Property_Crime', data = df_crime)\n",
    "plt.show()"
   ]
  },
  {
   "cell_type": "markdown",
   "metadata": {},
   "source": [
    "Logically speaking the bottom graph should have a shallower slope but there does not seem like a good way to plot this."
   ]
  },
  {
   "cell_type": "code",
   "execution_count": 41,
   "metadata": {},
   "outputs": [
    {
     "data": {
      "text/plain": [
       "<matplotlib.axes._subplots.AxesSubplot at 0x10aeeaf60>"
      ]
     },
     "execution_count": 41,
     "metadata": {},
     "output_type": "execute_result"
    },
    {
     "data": {
      "image/png": "[encoded data removed]",
      "text/plain": [
       "<matplotlib.figure.Figure at 0x10a671a58>"
      ]
     },
     "metadata": {},
     "output_type": "display_data"
    }
   ],
   "source": [
    "#Plotting distribution of property crime against the robbery feature\n",
    "plt.figure(figsize = (10, 10))\n",
    "plt.ylim(0,1300)\n",
    "sns.boxplot(x = 'Robbery_Feature', y = 'Property_Crime', data = df_crime)"
   ]
  },
  {
   "cell_type": "markdown",
   "metadata": {},
   "source": [
    "This plot would be a lot easier to see if I could turn it on its side but switching x and y do not have that effect."
   ]
  },
  {
   "cell_type": "markdown",
   "metadata": {
    "collapsed": true
   },
   "source": [
    "## Data Issues\n",
    "\n",
    "The main thing is going to be dealing with outliers and the main outlier for all of them is New York City. It skews everything. I created a dataframe just for that purpose and it worked better but it is still being skewed high on counts because of some of the major cities. A second dataframe might be worth it similar to the 'Major City' feature I created that only contains those types of cities. That would provide much cleaner analysis of crimes.\n",
    "\n",
    "Truth be told I think it would be extremely difficult to model all of these cities into one model, but rather than writing multiple models perhaps you could have a tier system. Since NYC is out you will only need four tiers. A Tier 1 city could be the major cities below(population range 100k or above). A Tier 2 city would range from that 95th percentile mark up to the 100k mark in population and encompass the rest of the outliers. Tier 3 cities would be from the Median to the 95th percentile mark and Tier 4 would be every city below the Median. \n",
    "\n",
    "So instead of building separate models the Tier system would provide a number that the model could incorporate into the equation that would alter probabilities of Murder and Robbery features."
   ]
  },
  {
   "cell_type": "code",
   "execution_count": 42,
   "metadata": {
    "scrolled": true
   },
   "outputs": [
    {
     "data": {
      "text/plain": [
       "<matplotlib.axes._subplots.AxesSubplot at 0x10b7377f0>"
      ]
     },
     "execution_count": 42,
     "metadata": {},
     "output_type": "execute_result"
    },
    {
     "data": {
      "image/png": "[encoded data removed]",
      "text/plain": [
       "<matplotlib.figure.Figure at 0x10b737748>"
      ]
     },
     "metadata": {},
     "output_type": "display_data"
    }
   ],
   "source": [
    "plt.figure(figsize = (20, 5))\n",
    "plt.xlim(-5,300000)\n",
    "sns.boxplot(x = 'Population', data = df_crime)"
   ]
  },
  {
   "cell_type": "code",
   "execution_count": null,
   "metadata": {
    "collapsed": true
   },
   "outputs": [],
   "source": [
    "plt.scatter(df_c)"
   ]
  },
  {
   "cell_type": "markdown",
   "metadata": {
    "collapsed": true
   },
   "source": [
    "## Regression model building"
   ]
  },
  {
   "cell_type": "code",
   "execution_count": 28,
   "metadata": {},
   "outputs": [
    {
     "data": {
      "text/plain": [
       "Index(['City', 'Population', 'Violent_Crime', 'Murder', 'Rape', 'Robbery',\n",
       "       'Aggravated_Assault', 'Property_Crime', 'Burglary', 'Larceny_Theft',\n",
       "       'Motor_Vehicle_Theft', 'Arson', 'population^2', 'Murder_Feature',\n",
       "       'Robbery_Feature', 'Major_City'],\n",
       "      dtype='object')"
      ]
     },
     "execution_count": 28,
     "metadata": {},
     "output_type": "execute_result"
    }
   ],
   "source": [
    "df_crime.columns #model is propertycrime = a + population + population^2 + Murder_feature + Robbery_feature"
   ]
  },
  {
   "cell_type": "code",
   "execution_count": 12,
   "metadata": {},
   "outputs": [
    {
     "name": "stdout",
     "output_type": "stream",
     "text": [
      "Coefficients: \n",
      " [  3.74134129e-02  -2.43432501e-09   7.35254352e+01  -1.06325917e+02\n",
      "  -3.91488220e+02]\n",
      "Intercept: \n",
      " -122.567043799\n",
      "\n",
      "R-squared: \n",
      " 0.99620639714\n"
     ]
    },
    {
     "name": "stderr",
     "output_type": "stream",
     "text": [
      "/Library/Frameworks/Python.framework/Versions/3.5/lib/python3.5/site-packages/scipy/linalg/basic.py:1018: RuntimeWarning: internal gelsd driver lwork query error, required iwork dimension not returned. This is likely the result of LAPACK bug 0038, fixed in LAPACK 3.2.2 (released July 21, 2010). Falling back to 'gelss' driver.\n",
      "  warnings.warn(mesg, RuntimeWarning)\n"
     ]
    }
   ],
   "source": [
    "x = df_crime[['Population', 'population^2', 'Murder_Feature', 'Robbery_Feature', 'Major_City']]\n",
    "y = df_crime['Property_Crime']\n",
    "\n",
    "regr = linear_model.LinearRegression()\n",
    "regr.fit(x,y)\n",
    "\n",
    "print('Coefficients: \\n', regr.coef_)\n",
    "print('Intercept: \\n', regr.intercept_)\n",
    "print('\\nR-squared: \\n', regr.score(x,y))\n"
   ]
  },
  {
   "cell_type": "code",
   "execution_count": 13,
   "metadata": {},
   "outputs": [
    {
     "name": "stdout",
     "output_type": "stream",
     "text": [
      "Coefficients: \n",
      " [  1.97700157e-09   4.32186017e+02   1.93346614e+02   1.94543191e+03]\n",
      "Intercept: \n",
      " 45.4959437395\n",
      "\n",
      "R-squared: \n",
      " 0.989587837549\n"
     ]
    }
   ],
   "source": [
    "x = df_crime[['population^2', 'Murder_Feature', 'Robbery_Feature', 'Major_City']]\n",
    "y = df_crime['Property_Crime']\n",
    "\n",
    "regr = linear_model.LinearRegression()\n",
    "regr.fit(x,y)\n",
    "\n",
    "print('Coefficients: \\n', regr.coef_)\n",
    "print('Intercept: \\n', regr.intercept_)\n",
    "print('\\nR-squared: \\n', regr.score(x,y))\n",
    "\n",
    "#x.describe()"
   ]
  },
  {
   "cell_type": "code",
   "execution_count": 14,
   "metadata": {},
   "outputs": [
    {
     "name": "stdout",
     "output_type": "stream",
     "text": [
      "Coefficients: \n",
      " [  1.67971775e-02   2.68885173e+02   5.91185775e+01   8.89294741e+02]\n",
      "Intercept: \n",
      " -29.9416242434\n",
      "\n",
      "R-squared: \n",
      " 0.994193809177\n"
     ]
    }
   ],
   "source": [
    "x = df_crime[['Population', 'Murder_Feature', 'Robbery_Feature', 'Major_City']]\n",
    "y = df_crime['Property_Crime']\n",
    "\n",
    "regr = linear_model.LinearRegression()\n",
    "regr.fit(x,y)\n",
    "\n",
    "print('Coefficients: \\n', regr.coef_)\n",
    "print('Intercept: \\n', regr.intercept_)\n",
    "print('\\nR-squared: \\n', regr.score(x,y))\n",
    "\n",
    "#x.describe()"
   ]
  },
  {
   "cell_type": "code",
   "execution_count": 17,
   "metadata": {},
   "outputs": [
    {
     "data": {
      "image/png": "[encoded data removed]",
      "text/plain": [
       "<matplotlib.figure.Figure at 0x10a208748>"
      ]
     },
     "metadata": {},
     "output_type": "display_data"
    }
   ],
   "source": [
    "# Extract predicted values.\n",
    "predicted = regr.predict(x).ravel()\n",
    "actual = df_crime['Property_Crime']\n",
    "\n",
    "# Calculate the error, also called the residual.\n",
    "residual = actual - predicted\n",
    "\n",
    "# This looks a bit concerning.\n",
    "plt.hist(residual, bins = 50)\n",
    "plt.title('Residual counts')\n",
    "plt.xlabel('Residual')\n",
    "plt.ylabel('Count')\n",
    "plt.show()"
   ]
  },
  {
   "cell_type": "code",
   "execution_count": null,
   "metadata": {
    "collapsed": true
   },
   "outputs": [],
   "source": []
  }
 ],
 "metadata": {
  "kernelspec": {
   "display_name": "Python 3",
   "language": "python",
   "name": "python3"
  },
  "language_info": {
   "codemirror_mode": {
    "name": "ipython",
    "version": 3
   },
   "file_extension": ".py",
   "mimetype": "text/x-python",
   "name": "python",
   "nbconvert_exporter": "python",
   "pygments_lexer": "ipython3",
   "version": "3.5.2"
  }
 },
 "nbformat": 4,
 "nbformat_minor": 2
}

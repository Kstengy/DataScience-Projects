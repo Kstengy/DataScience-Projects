{
 "cells": [
  {
   "cell_type": "markdown",
   "metadata": {},
   "source": [
    "Q - so KNN models do not handle input data that is binary very well? I thought I remembered reading that they work best when input data is continuous?"
   ]
  },
  {
   "cell_type": "code",
   "execution_count": 22,
   "metadata": {
    "collapsed": true
   },
   "outputs": [],
   "source": [
    "import pandas as pd\n",
    "import numpy as np\n",
    "import scipy\n",
    "import matplotlib.pyplot as plt\n",
    "%matplotlib inline\n",
    "\n",
    "music = pd.DataFrame()\n",
    "music['duration'] = [184, 134, 243, 186, 122, 197, 294, 382, 102, 264, \n",
    "                     205, 110, 307, 110, 397, 153, 190, 192, 210, 403,\n",
    "                     164, 198, 204, 253, 234, 190, 182, 401, 376, 102]\n",
    "music['loudness'] = [18, 34, 43, 36, 22, 9, 29, 22, 10, 24, \n",
    "                     20, 10, 17, 51, 7, 13, 19, 12, 21, 22,\n",
    "                     16, 18, 4, 23, 34, 19, 14, 11, 37, 42]\n",
    "music['bpm'] = [ 105, 90, 78, 75, 120, 110, 80, 100, 105, 60,\n",
    "                70, 105, 95, 70, 90, 105, 70, 75, 102, 100,\n",
    "                  100, 95, 90, 80, 90, 80, 100, 105, 70, 65]"
   ]
  },
  {
   "cell_type": "code",
   "execution_count": 23,
   "metadata": {},
   "outputs": [
    {
     "data": {
      "image/png": "[encoded data removed]",
      "text/plain": [
       "<matplotlib.figure.Figure at 0x10a15bcc0>"
      ]
     },
     "metadata": {},
     "output_type": "display_data"
    }
   ],
   "source": [
    "from sklearn import neighbors\n",
    "\n",
    "#building the model\n",
    "knn = neighbors.KNeighborsRegressor(n_neighbors = 10) #higher k == a flatter line, neighbors only pull up/down right?\n",
    "X = pd.DataFrame(music.loudness)\n",
    "Y = music.bpm\n",
    "knn.fit(X,Y)\n",
    "\n",
    "#setting up prediction line\n",
    "T = np.arange(0, 50, 0.1)[:, np.newaxis] #what is this?\n",
    "\n",
    "#Trailing underscores are a common convention for a prediction\n",
    "Y_ = knn.predict(T)\n",
    "\n",
    "plt.scatter(X, Y, c= 'k', label = 'data')\n",
    "plt.plot(T, Y_, c='g', label = 'prediction')\n",
    "plt.legend()\n",
    "plt.title('K=10, Unweighted')\n",
    "plt.show()"
   ]
  },
  {
   "cell_type": "markdown",
   "metadata": {},
   "source": [
    "Q - So since the prediction isn't selecting a category but rather a value and we are using k=10 above, that green line is basically saying at this point on the x axis if we had to choose the 10 closest points, our prediction would be y. It then moves 0.1 ticks up and repeats?"
   ]
  },
  {
   "cell_type": "code",
   "execution_count": 55,
   "metadata": {
    "collapsed": true
   },
   "outputs": [],
   "source": [
    "#Running the same model as above but this time with weighting involved\n",
    "knn_w = neighbors.KNeighborsRegressor(n_neighbors = 4, weights = 'uniform')\n",
    "X = pd.DataFrame(music[['loudness','duration']])\n",
    "Y = music.bpm\n",
    "knn_w.fit(X, Y)\n",
    "\n",
    "#prediction line -- can we even do a prediction line since it's 3D at this point?\n",
    "T1 = np.arange(0, 50, 0.1)#[:, np.newaxis] understand it's creating x inputs from 0-50 with .1 intervals I think\n",
    "T2 = np.arange(100, 450, 0.7)\n",
    "T2 = T2[:500]\n",
    "TT = pd.DataFrame({'loudness' : list(T1), 'duration' : list(T2)})\n",
    "Y_ = knn_w.predict(TT)\n",
    "\n",
    "\n",
    "#plt.scatter(X, Y, c='k', label = 'data')\n",
    "#plt.plot(T, Y_, c='g', label = 'prediction')\n",
    "#plt.legend()\n",
    "#plt.title('K=10, Weighted')\n",
    "#plt.show()"
   ]
  },
  {
   "cell_type": "code",
   "execution_count": 56,
   "metadata": {
    "scrolled": false
   },
   "outputs": [
    {
     "name": "stderr",
     "output_type": "stream",
     "text": [
      "/Library/Frameworks/Python.framework/Versions/3.5/lib/python3.5/site-packages/sklearn/utils/validation.py:395: DeprecationWarning: Passing 1d arrays as data is deprecated in 0.17 and will raise ValueError in 0.19. Reshape your data either using X.reshape(-1, 1) if your data has a single feature or X.reshape(1, -1) if it contains a single sample.\n",
      "  DeprecationWarning)\n"
     ]
    },
    {
     "data": {
      "text/plain": [
       "array([ 93.75])"
      ]
     },
     "execution_count": 56,
     "metadata": {},
     "output_type": "execute_result"
    }
   ],
   "source": [
    "knn_w.predict([45,370])"
   ]
  },
  {
   "cell_type": "code",
   "execution_count": 57,
   "metadata": {
    "scrolled": true
   },
   "outputs": [
    {
     "name": "stdout",
     "output_type": "stream",
     "text": [
      "Unweighted Accuracy: -0.42 (+/- 0.78)\n",
      "Weighted Accuracy -0.84 (+/- 1.25)\n"
     ]
    }
   ],
   "source": [
    "from sklearn.model_selection import cross_val_score\n",
    "score = cross_val_score(knn, X, Y, cv = 5) #this is creating 5 folds?\n",
    "print('Unweighted Accuracy: %0.2f (+/- %0.2f)' % (score.mean(), score.std() * 2)) \n",
    "#clearly this % operator above is different than .format but what exactly is it doing?\n",
    "score_w = cross_val_score(knn_w, X, Y, cv=5)\n",
    "print('Weighted Accuracy %0.2f (+/- %0.2f)' % (score_w.mean(), score_w.std() *2))"
   ]
  },
  {
   "cell_type": "markdown",
   "metadata": {},
   "source": [
    "The weighted accuracy has gone up exponentially after I did two things: Lower the K and change weight from distance to uniform. I suspect a lot of this is because it is an extremely limited sample size"
   ]
  },
  {
   "cell_type": "code",
   "execution_count": null,
   "metadata": {
    "collapsed": true
   },
   "outputs": [],
   "source": []
  },
  {
   "cell_type": "code",
   "execution_count": null,
   "metadata": {
    "collapsed": true
   },
   "outputs": [],
   "source": []
  }
 ],
 "metadata": {
  "kernelspec": {
   "display_name": "Python 3",
   "language": "python",
   "name": "python3"
  },
  "language_info": {
   "codemirror_mode": {
    "name": "ipython",
    "version": 3
   },
   "file_extension": ".py",
   "mimetype": "text/x-python",
   "name": "python",
   "nbconvert_exporter": "python",
   "pygments_lexer": "ipython3",
   "version": "3.5.2"
  }
 },
 "nbformat": 4,
 "nbformat_minor": 2
}
